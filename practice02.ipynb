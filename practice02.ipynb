{
 "cells": [
  {
   "cell_type": "markdown",
   "metadata": {},
   "source": [
    "# Основы анализа данных в Python\n",
    "\n",
    "*Алла Тамбовцева*\n",
    "\n",
    "## Практикум 2. Описательные статистики, группировка и агрегирование данных с `pandas`\n"
   ]
  },
  {
   "cell_type": "markdown",
   "metadata": {},
   "source": [
    "В этом практикуме предлагается поработать с данными из части C демонстрационного варианта независимого экзамена. В первой части практикума мы разберём задачи непосредственно из экзамена, а во второй части посмотрим ещё на несколько примеров работы с данными (вопросы не из экзамена, из жизни)."
   ]
  },
  {
   "cell_type": "markdown",
   "metadata": {},
   "source": [
    "Файл `c.xlsx` содержит данные о рейтингах видео-игр по данным Metacritic. Набор данных содержит следующие переменные:\n",
    "\n",
    "* `Name` – название игры.\n",
    "* `Platform` – платформа для запуска игры.\n",
    "* `Year_of_Release` – год запуска игры.\n",
    "* `Genre` – жанр игры.\n",
    "* `Publisher` – компания, выпустившая игру.\n",
    "* `NA_Sales` – продажи в Северной Америке (миллионы копий).\n",
    "* `EU_Sales` – продажи в Европейском Союзе (миллионы копий).\n",
    "* `JP_Sales` – продажи в Японии (миллионы копий).\n",
    "* `Other_Sales` – продажи в прочих странах (миллионы копий).\n",
    "* `Global_Sales` – общие продажи по миру (миллионы копий).\n",
    "* `Critic_Score` – агрегированный рейтинг команды Metacritic.\n",
    "* `Critic_Count` – количество экспертов, участвовавших в расчёте `Critic_Score`.\n",
    "* `User_Score` – агрегированный рейтинг пользователей Metacritic.\n",
    "* `User_Count` – количество пользователей, участвовавших в расчёте `User_Score`.\n",
    "* `Developer` – разработчик игры.\n",
    "* `Rating` – рейтинг ESRB (Everyone, Teen, Adults Only, ...)."
   ]
  },
  {
   "cell_type": "markdown",
   "metadata": {},
   "source": [
    "Импортируем библиотеку `pandas` с сокращённым названием:"
   ]
  },
  {
   "cell_type": "code",
   "execution_count": null,
   "metadata": {},
   "outputs": [],
   "source": [
    "import pandas as pd"
   ]
  },
  {
   "cell_type": "markdown",
   "metadata": {},
   "source": [
    "Загрузим данные из файла:"
   ]
  },
  {
   "cell_type": "code",
   "execution_count": null,
   "metadata": {},
   "outputs": [],
   "source": [
    "games = pd.read_excel(\"c.xlsx\")"
   ]
  },
  {
   "cell_type": "markdown",
   "metadata": {},
   "source": [
    "Выведем описательные статистики для каждого числового (`int` или `float`) столбца, полезная информация на первом этапе работы с данными:"
   ]
  },
  {
   "cell_type": "code",
   "execution_count": null,
   "metadata": {},
   "outputs": [],
   "source": [
    "games.describe() # проинтерпретируем"
   ]
  },
  {
   "cell_type": "markdown",
   "metadata": {},
   "source": [
    "Для текстовых данных метод `.describe()` тоже работает, нужно только указать, что нас интересует тип `object`:"
   ]
  },
  {
   "cell_type": "code",
   "execution_count": null,
   "metadata": {},
   "outputs": [],
   "source": [
    "games.describe(include = \"object\") # проинтерпретируем"
   ]
  },
  {
   "cell_type": "markdown",
   "metadata": {},
   "source": [
    "В целом, если описать данные в самом начале, уже на некоторые вопросы части C мы сможем ответить без дополнительного кода. Но на функции для отдельных описательных статистик мы тоже посмотрим!"
   ]
  },
  {
   "cell_type": "markdown",
   "metadata": {},
   "source": [
    "## Часть 1: описательные статистики"
   ]
  },
  {
   "cell_type": "markdown",
   "metadata": {},
   "source": [
    "### Задача 1\n",
    "\n",
    "Вычислите среднее по продажам в Северной Америке (в миллионах копий) – переменная `NA_Sales`.\n",
    "\n",
    "Пример ответа: 13.20"
   ]
  },
  {
   "cell_type": "code",
   "execution_count": null,
   "metadata": {},
   "outputs": [],
   "source": [
    "# YOUR CODE HERE"
   ]
  },
  {
   "cell_type": "markdown",
   "metadata": {},
   "source": [
    "### Задача 2\n",
    "\n",
    "Вычислите минимальное значение по продажам в Северной Америке (в миллионах копий) – переменная `NA_Sales`.\n",
    "\n",
    "Пример ответа: 12.00"
   ]
  },
  {
   "cell_type": "code",
   "execution_count": null,
   "metadata": {},
   "outputs": [],
   "source": [
    "# YOUR CODE HERE"
   ]
  },
  {
   "cell_type": "markdown",
   "metadata": {},
   "source": [
    "### Задача 3\n",
    "\n",
    "Вычислите стандартное отклонение по продажам в Северной Америке (в миллионах копий) – переменная `NA_Sales`.\n",
    "\n",
    "Пример ответа: 20.04"
   ]
  },
  {
   "cell_type": "code",
   "execution_count": null,
   "metadata": {},
   "outputs": [],
   "source": [
    "# YOUR CODE HERE"
   ]
  },
  {
   "cell_type": "markdown",
   "metadata": {},
   "source": [
    "### Задача 4\n",
    "\n",
    "Определите наиболее часто встречающийся жанр игр.\n",
    "\n",
    "Пример ответа: Simulation"
   ]
  },
  {
   "cell_type": "code",
   "execution_count": null,
   "metadata": {},
   "outputs": [],
   "source": [
    "# YOUR CODE HERE"
   ]
  },
  {
   "cell_type": "markdown",
   "metadata": {},
   "source": [
    "### Задача 5\n",
    "\n",
    "Добавьте в таблицу новый признак `Platform_Coded`, который будет представлять собой закодированное название платформы для запуска игры. Кодировку проведите следующим образом: если платформа – это `PS3`, то код равен 1, а если любая другая, то код равен 0. \n",
    "\n",
    "Выведите среднее по признаку `Platform_Coded`, округлённое до сотых."
   ]
  },
  {
   "cell_type": "code",
   "execution_count": null,
   "metadata": {},
   "outputs": [],
   "source": [
    "# YOUR CODE HERE"
   ]
  },
  {
   "cell_type": "markdown",
   "metadata": {},
   "source": [
    "### Задача 6\n",
    "\n",
    "Вычислите средний агрегированный рейтинг команды Metacritic для игр, выпущенных (published) компаниями Tecmo Koei или Wanadoo. Выпишите полученное значение, округлённое до сотых.\n",
    "\n",
    "Пример ответа: 17.20"
   ]
  },
  {
   "cell_type": "code",
   "execution_count": null,
   "metadata": {},
   "outputs": [],
   "source": [
    "# YOUR CODE HERE"
   ]
  },
  {
   "cell_type": "markdown",
   "metadata": {},
   "source": [
    "## Часть 2: группировка и агрегирование"
   ]
  },
  {
   "cell_type": "markdown",
   "metadata": {},
   "source": [
    "### Задача 7\n",
    "\n",
    "Сгруппируйте игры по жанру и вычислите среднее число продаж в Европейском союзе для каждого жанра."
   ]
  },
  {
   "cell_type": "code",
   "execution_count": null,
   "metadata": {},
   "outputs": [],
   "source": [
    "# YOUR CODE HERE"
   ]
  },
  {
   "cell_type": "markdown",
   "metadata": {},
   "source": [
    "### Задача 8\n",
    "\n",
    "Сгруппируйте игры по жанру и вычислите медианное число продаж в Европейском союзе для каждого жанра."
   ]
  },
  {
   "cell_type": "code",
   "execution_count": null,
   "metadata": {},
   "outputs": [],
   "source": [
    "# YOUR CODE HERE"
   ]
  },
  {
   "cell_type": "markdown",
   "metadata": {},
   "source": [
    "### Задача 9\n",
    "\n",
    "Сгруппируйте игры по жанру и вычислите минимальное и максимальное значение рейтинга команды `Critic_Score` для каждого жанра. Добавьте в получившуюся таблицу столбец с размахом рейтинга для каждого жанра. Игры какого жанра имеют наиболее разнообразные значения рейтинга?"
   ]
  },
  {
   "cell_type": "code",
   "execution_count": null,
   "metadata": {},
   "outputs": [],
   "source": [
    "# YOUR CODE HERE"
   ]
  },
  {
   "cell_type": "markdown",
   "metadata": {},
   "source": [
    "### Задача 10\n",
    "\n",
    "Сформируйте таблицу сопряжённости, по строкам которой указаны значения жанра игры (`Genre`), а по столбцам – значения возрастного рейтинга игры (`Rating`). Подробнее о значениях рейтинга можно почитать [здесь](https://www.esrb.org/ratings-guide/)."
   ]
  },
  {
   "cell_type": "code",
   "execution_count": null,
   "metadata": {},
   "outputs": [],
   "source": [
    "# YOUR CODE HERE"
   ]
  }
 ],
 "metadata": {
  "kernelspec": {
   "display_name": "Python 3",
   "language": "python",
   "name": "python3"
  },
  "language_info": {
   "codemirror_mode": {
    "name": "ipython",
    "version": 3
   },
   "file_extension": ".py",
   "mimetype": "text/x-python",
   "name": "python",
   "nbconvert_exporter": "python",
   "pygments_lexer": "ipython3",
   "version": "3.7.4"
  }
 },
 "nbformat": 4,
 "nbformat_minor": 2
}
