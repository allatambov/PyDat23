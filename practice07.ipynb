{
 "cells": [
  {
   "cell_type": "markdown",
   "metadata": {},
   "source": [
    "# Основы анализа данных в Python\n",
    "\n",
    "*Алла Тамбовцева*\n",
    "\n",
    "## Практикум 7. Повторение"
   ]
  },
  {
   "cell_type": "markdown",
   "metadata": {},
   "source": [
    "### Подготовка данных"
   ]
  },
  {
   "cell_type": "markdown",
   "metadata": {},
   "source": [
    "Импортируем необходимые библиотеки:\n",
    "    \n",
    "* модуль `stats` из `scipy` для статистических вычислений;\n",
    "* библиотека `pandas` для загрузки данных и работы с датафреймами."
   ]
  },
  {
   "cell_type": "code",
   "execution_count": 1,
   "metadata": {},
   "outputs": [],
   "source": [
    "import pandas as pd\n",
    "import scipy.stats as st"
   ]
  },
  {
   "cell_type": "markdown",
   "metadata": {},
   "source": [
    "Загрузим данные из файла `Netflix.csv`:"
   ]
  },
  {
   "cell_type": "code",
   "execution_count": 2,
   "metadata": {},
   "outputs": [
    {
     "data": {
      "text/html": [
       "<div>\n",
       "<style scoped>\n",
       "    .dataframe tbody tr th:only-of-type {\n",
       "        vertical-align: middle;\n",
       "    }\n",
       "\n",
       "    .dataframe tbody tr th {\n",
       "        vertical-align: top;\n",
       "    }\n",
       "\n",
       "    .dataframe thead th {\n",
       "        text-align: right;\n",
       "    }\n",
       "</style>\n",
       "<table border=\"1\" class=\"dataframe\">\n",
       "  <thead>\n",
       "    <tr style=\"text-align: right;\">\n",
       "      <th></th>\n",
       "      <th>Title</th>\n",
       "      <th>Genre</th>\n",
       "      <th>Premiere</th>\n",
       "      <th>Runtime</th>\n",
       "      <th>IMDB Score</th>\n",
       "      <th>Language</th>\n",
       "    </tr>\n",
       "  </thead>\n",
       "  <tbody>\n",
       "    <tr>\n",
       "      <th>0</th>\n",
       "      <td>Enter the Anime</td>\n",
       "      <td>Documentary</td>\n",
       "      <td>August 5, 2019</td>\n",
       "      <td>58.0</td>\n",
       "      <td>2.5</td>\n",
       "      <td>English/Japanese</td>\n",
       "    </tr>\n",
       "    <tr>\n",
       "      <th>1</th>\n",
       "      <td>Dark Forces</td>\n",
       "      <td>Thriller</td>\n",
       "      <td>August 21, 2020</td>\n",
       "      <td>81.0</td>\n",
       "      <td>2.6</td>\n",
       "      <td>Spanish</td>\n",
       "    </tr>\n",
       "    <tr>\n",
       "      <th>2</th>\n",
       "      <td>The App</td>\n",
       "      <td>Science fiction/Drama</td>\n",
       "      <td>December 26, 2019</td>\n",
       "      <td>79.0</td>\n",
       "      <td>2.6</td>\n",
       "      <td>Italian</td>\n",
       "    </tr>\n",
       "    <tr>\n",
       "      <th>3</th>\n",
       "      <td>The Open House</td>\n",
       "      <td>Horror thriller</td>\n",
       "      <td>January 19, 2018</td>\n",
       "      <td>94.0</td>\n",
       "      <td>3.2</td>\n",
       "      <td>English</td>\n",
       "    </tr>\n",
       "    <tr>\n",
       "      <th>4</th>\n",
       "      <td>Kaali Khuhi</td>\n",
       "      <td>Mystery</td>\n",
       "      <td>October 30, 2020</td>\n",
       "      <td>90.0</td>\n",
       "      <td>3.4</td>\n",
       "      <td>Hindi</td>\n",
       "    </tr>\n",
       "  </tbody>\n",
       "</table>\n",
       "</div>"
      ],
      "text/plain": [
       "             Title                  Genre           Premiere  Runtime  \\\n",
       "0  Enter the Anime            Documentary     August 5, 2019     58.0   \n",
       "1      Dark Forces               Thriller    August 21, 2020     81.0   \n",
       "2          The App  Science fiction/Drama  December 26, 2019     79.0   \n",
       "3   The Open House        Horror thriller   January 19, 2018     94.0   \n",
       "4      Kaali Khuhi                Mystery   October 30, 2020     90.0   \n",
       "\n",
       "   IMDB Score          Language  \n",
       "0         2.5  English/Japanese  \n",
       "1         2.6           Spanish  \n",
       "2         2.6           Italian  \n",
       "3         3.2           English  \n",
       "4         3.4             Hindi  "
      ]
     },
     "execution_count": 2,
     "metadata": {},
     "output_type": "execute_result"
    }
   ],
   "source": [
    "films = pd.read_csv(\"Netflix.csv\")\n",
    "films.head()"
   ]
  },
  {
   "cell_type": "markdown",
   "metadata": {},
   "source": [
    "Данные в файле:\n",
    "\n",
    "* `Title`: название фильма;\n",
    "* `Genre`: жанр;\n",
    "* `Premiere`: дата премьеры;\n",
    "* `Runtime`: продолжительность фильма в минутах;\n",
    "* `IMDB Score`: рейтинг IMDB;\n",
    "* `Language`: язык фильма."
   ]
  },
  {
   "cell_type": "markdown",
   "metadata": {},
   "source": [
    "Определим общее число фильмов – посмотрим на размерность датафрейма:"
   ]
  },
  {
   "cell_type": "code",
   "execution_count": 3,
   "metadata": {},
   "outputs": [
    {
     "data": {
      "text/plain": [
       "(584, 6)"
      ]
     },
     "execution_count": 3,
     "metadata": {},
     "output_type": "execute_result"
    }
   ],
   "source": [
    "films.shape # 584 фильма"
   ]
  },
  {
   "cell_type": "markdown",
   "metadata": {},
   "source": [
    "Запросим основные описательные статистики:"
   ]
  },
  {
   "cell_type": "code",
   "execution_count": 4,
   "metadata": {},
   "outputs": [
    {
     "data": {
      "text/html": [
       "<div>\n",
       "<style scoped>\n",
       "    .dataframe tbody tr th:only-of-type {\n",
       "        vertical-align: middle;\n",
       "    }\n",
       "\n",
       "    .dataframe tbody tr th {\n",
       "        vertical-align: top;\n",
       "    }\n",
       "\n",
       "    .dataframe thead th {\n",
       "        text-align: right;\n",
       "    }\n",
       "</style>\n",
       "<table border=\"1\" class=\"dataframe\">\n",
       "  <thead>\n",
       "    <tr style=\"text-align: right;\">\n",
       "      <th></th>\n",
       "      <th>Runtime</th>\n",
       "      <th>IMDB Score</th>\n",
       "    </tr>\n",
       "  </thead>\n",
       "  <tbody>\n",
       "    <tr>\n",
       "      <th>count</th>\n",
       "      <td>580.000000</td>\n",
       "      <td>577.000000</td>\n",
       "    </tr>\n",
       "    <tr>\n",
       "      <th>mean</th>\n",
       "      <td>93.579310</td>\n",
       "      <td>6.260832</td>\n",
       "    </tr>\n",
       "    <tr>\n",
       "      <th>std</th>\n",
       "      <td>27.783376</td>\n",
       "      <td>0.978461</td>\n",
       "    </tr>\n",
       "    <tr>\n",
       "      <th>min</th>\n",
       "      <td>4.000000</td>\n",
       "      <td>2.500000</td>\n",
       "    </tr>\n",
       "    <tr>\n",
       "      <th>25%</th>\n",
       "      <td>86.000000</td>\n",
       "      <td>5.700000</td>\n",
       "    </tr>\n",
       "    <tr>\n",
       "      <th>50%</th>\n",
       "      <td>97.000000</td>\n",
       "      <td>6.300000</td>\n",
       "    </tr>\n",
       "    <tr>\n",
       "      <th>75%</th>\n",
       "      <td>107.250000</td>\n",
       "      <td>7.000000</td>\n",
       "    </tr>\n",
       "    <tr>\n",
       "      <th>max</th>\n",
       "      <td>209.000000</td>\n",
       "      <td>9.000000</td>\n",
       "    </tr>\n",
       "  </tbody>\n",
       "</table>\n",
       "</div>"
      ],
      "text/plain": [
       "          Runtime  IMDB Score\n",
       "count  580.000000  577.000000\n",
       "mean    93.579310    6.260832\n",
       "std     27.783376    0.978461\n",
       "min      4.000000    2.500000\n",
       "25%     86.000000    5.700000\n",
       "50%     97.000000    6.300000\n",
       "75%    107.250000    7.000000\n",
       "max    209.000000    9.000000"
      ]
     },
     "execution_count": 4,
     "metadata": {},
     "output_type": "execute_result"
    }
   ],
   "source": [
    "films.describe() # по умолчанию только числовые столбцы"
   ]
  },
  {
   "cell_type": "markdown",
   "metadata": {},
   "source": [
    "Число заполненных ячеек в `count` не совпадает с числом строк в таблице (фильмов 584), значит, есть пропуски! Проверим:"
   ]
  },
  {
   "cell_type": "code",
   "execution_count": 5,
   "metadata": {},
   "outputs": [
    {
     "data": {
      "text/plain": [
       "Title         0\n",
       "Genre         0\n",
       "Premiere      0\n",
       "Runtime       4\n",
       "IMDB Score    7\n",
       "Language      0\n",
       "dtype: int64"
      ]
     },
     "execution_count": 5,
     "metadata": {},
     "output_type": "execute_result"
    }
   ],
   "source": [
    "films.isnull().sum()"
   ]
  },
  {
   "cell_type": "code",
   "execution_count": 6,
   "metadata": {},
   "outputs": [
    {
     "data": {
      "text/plain": [
       "Title         0\n",
       "Genre         0\n",
       "Premiere      0\n",
       "Runtime       4\n",
       "IMDB Score    7\n",
       "Language      0\n",
       "dtype: int64"
      ]
     },
     "execution_count": 6,
     "metadata": {},
     "output_type": "execute_result"
    }
   ],
   "source": [
    "films.isna().sum()"
   ]
  },
  {
   "cell_type": "markdown",
   "metadata": {},
   "source": [
    "> **Пояснения к коду:** методы `.isnull()` и `.isna()` можно применять не только к отдельному столбцу, но и к целому датафрейму. При применении к целому датафрейму число пропущенных значений определяется для каждого столбца.  Разницы между `.isnull()` и `.isna()` нет. Изначально `.isna()` задумывался как аналог функции в R для выявления пропущенных значений типа `NA` (*not a number*, не число, например, значение равное бесконечности, возникающее при делении на 0 и подобных операциях), в то время как `.isnull()` планировался как более общий метод для любых пропущенных значений типа `NULL`, в текстовых данных в том числе. На практике различия стерлись – в `pandas` нет разделения между `NA` и `NULL`, там это все преобразуется в `NaN` (*not a number*), тип, унаследованный из библиотеки `numpy`."
   ]
  },
  {
   "cell_type": "markdown",
   "metadata": {},
   "source": [
    "Итого: 4 пропуска в `Runtime` и 7 пропусков в `IMDB Score`. Давайте их заполним! Заполнять будем медианным значением, по двум причинам:\n",
    "\n",
    "* медиана – более устойчивая оценка среднего, для `Runtime` особенно актуально, если сравним медиану и среднее, увидим скошенность;\n",
    "* медиану не нужно округлять, чтобы получить более естественные значения вместо пропусков (средняя продолжительность фильма без округления дробная, чего не бывает, средний рейтинг тоже неестественный – содержит более одного знака после точки)."
   ]
  },
  {
   "cell_type": "code",
   "execution_count": 7,
   "metadata": {},
   "outputs": [],
   "source": [
    "films[\"Runtime\"] = films[\"Runtime\"].fillna(films[\"Runtime\"].median())\n",
    "films[\"IMDB Score\"] = films[\"IMDB Score\"].fillna(films[\"IMDB Score\"].median())"
   ]
  },
  {
   "cell_type": "markdown",
   "metadata": {},
   "source": [
    "Проверим, что все получилось:"
   ]
  },
  {
   "cell_type": "code",
   "execution_count": 8,
   "metadata": {},
   "outputs": [
    {
     "data": {
      "text/plain": [
       "Title         0\n",
       "Genre         0\n",
       "Premiere      0\n",
       "Runtime       0\n",
       "IMDB Score    0\n",
       "Language      0\n",
       "dtype: int64"
      ]
     },
     "execution_count": 8,
     "metadata": {},
     "output_type": "execute_result"
    }
   ],
   "source": [
    "films.isna().sum() # пропуски ушли"
   ]
  },
  {
   "cell_type": "markdown",
   "metadata": {},
   "source": [
    "Теперь перейдем к содержательной части и изучим жанры."
   ]
  },
  {
   "cell_type": "code",
   "execution_count": 9,
   "metadata": {},
   "outputs": [
    {
     "data": {
      "text/plain": [
       "array(['Documentary', 'Thriller', 'Science fiction/Drama',\n",
       "       'Horror thriller', 'Mystery', 'Action', 'Comedy',\n",
       "       'Heist film/Thriller', 'Musical/Western/Fantasy', 'Drama',\n",
       "       'Romantic comedy', 'Action comedy', 'Horror anthology',\n",
       "       'Political thriller', 'Superhero-Comedy', 'Horror',\n",
       "       'Romance drama', 'Anime / Short', 'Superhero', 'Heist', 'Western',\n",
       "       'Animation/Superhero', 'Family film', 'Action-thriller',\n",
       "       'Teen comedy-drama', 'Romantic drama', 'Animation',\n",
       "       'Aftershow / Interview', 'Christmas musical',\n",
       "       'Science fiction adventure', 'Science fiction', 'Variety show',\n",
       "       'Comedy-drama', 'Comedy/Fantasy/Family', 'Supernatural drama',\n",
       "       'Action/Comedy', 'Action/Science fiction',\n",
       "       'Romantic teenage drama', 'Comedy / Musical', 'Musical',\n",
       "       'Science fiction/Mystery', 'Crime drama',\n",
       "       'Psychological thriller drama', 'Adventure/Comedy', 'Black comedy',\n",
       "       'Romance', 'Horror comedy', 'Christian musical',\n",
       "       'Romantic teen drama', 'Family', 'Dark comedy', 'Comedy horror',\n",
       "       'Psychological thriller', 'Biopic', 'Science fiction/Thriller',\n",
       "       'Mockumentary', 'Satire', 'One-man show', 'Romantic comedy-drama',\n",
       "       'Comedy/Horror', 'Fantasy', 'Sports-drama', 'Zombie/Heist',\n",
       "       'Psychological horror', 'Sports film', 'Comedy mystery',\n",
       "       'Romantic thriller', 'Christmas comedy', 'War-Comedy',\n",
       "       'Romantic comedy/Holiday', 'Adventure-romance', 'Adventure',\n",
       "       'Horror-thriller', 'Dance comedy', 'Stop Motion',\n",
       "       'Horror/Crime drama', 'Urban fantasy', 'Drama/Horror',\n",
       "       'Family/Comedy-drama', 'War', 'Crime thriller',\n",
       "       'Science fiction/Action', 'Teen comedy horror', 'Concert Film',\n",
       "       'Musical comedy', 'Animation/Musical/Adventure',\n",
       "       'Animation / Musicial', 'Animation/Comedy/Adventure',\n",
       "       'Action thriller', 'Anime/Science fiction', 'Animation / Short',\n",
       "       'War drama', 'Family/Christmas musical',\n",
       "       'Science fiction thriller', 'Drama / Short',\n",
       "       'Hidden-camera prank comedy', 'Spy thriller', 'Anime/Fantasy',\n",
       "       'Animated musical comedy', 'Variety Show', 'Superhero/Action',\n",
       "       'Biographical/Comedy', 'Historical-epic', 'Animation / Comedy',\n",
       "       'Christmas/Fantasy/Adventure/Comedy', 'Mentalism special',\n",
       "       'Drama-Comedy', 'Coming-of-age comedy-drama', 'Historical drama',\n",
       "       'Making-of', 'Action-adventure', 'Animation / Science Fiction',\n",
       "       'Anthology/Dark comedy', 'Musical / Short',\n",
       "       'Animation/Christmas/Comedy/Adventure'], dtype=object)"
      ]
     },
     "execution_count": 9,
     "metadata": {},
     "output_type": "execute_result"
    }
   ],
   "source": [
    "films[\"Genre\"].unique()"
   ]
  },
  {
   "cell_type": "markdown",
   "metadata": {},
   "source": [
    "Жанров очень много, для дальнейшего анализа их хорошо бы сгруппировать и получить более крупные категории. Полноценным «укрупнением» заниматься не будем, давайте просто выберем все фильмы, содержащие в названии жанра слово «комедия», и фильмы, содержащие в названии жанра слово «драма». Условно будем считать, что будем сравнивать комедийные фильмы и драматические (хотяб глобально, тут нужно еще решить, как быть с жанрами вида *drama-comedy*)."
   ]
  },
  {
   "cell_type": "markdown",
   "metadata": {},
   "source": [
    "Для отбора строк воспользуемся методом `.contains()` из подмодуля `str` для работы со строками внутри `pandas`. Внутри `str` хранятся методы, позволяющие выполнять операции со строками, например, методы `.join()` и `.split()`, `.startswith()` и `.endswith()` (как в базовом Python), методы `.contains()` и `.extract()` (аналоги методов в модулях `string` и `re`). \n",
    "\n",
    "Итак, ищем фильмы, содержащие слово `comedy`:"
   ]
  },
  {
   "cell_type": "code",
   "execution_count": 10,
   "metadata": {},
   "outputs": [
    {
     "data": {
      "text/html": [
       "<div>\n",
       "<style scoped>\n",
       "    .dataframe tbody tr th:only-of-type {\n",
       "        vertical-align: middle;\n",
       "    }\n",
       "\n",
       "    .dataframe tbody tr th {\n",
       "        vertical-align: top;\n",
       "    }\n",
       "\n",
       "    .dataframe thead th {\n",
       "        text-align: right;\n",
       "    }\n",
       "</style>\n",
       "<table border=\"1\" class=\"dataframe\">\n",
       "  <thead>\n",
       "    <tr style=\"text-align: right;\">\n",
       "      <th></th>\n",
       "      <th>Title</th>\n",
       "      <th>Genre</th>\n",
       "      <th>Premiere</th>\n",
       "      <th>Runtime</th>\n",
       "      <th>IMDB Score</th>\n",
       "      <th>Language</th>\n",
       "    </tr>\n",
       "  </thead>\n",
       "  <tbody>\n",
       "    <tr>\n",
       "      <th>12</th>\n",
       "      <td>Whipped</td>\n",
       "      <td>Romantic comedy</td>\n",
       "      <td>September 18, 2020</td>\n",
       "      <td>97.0</td>\n",
       "      <td>4.1</td>\n",
       "      <td>Indonesian</td>\n",
       "    </tr>\n",
       "    <tr>\n",
       "      <th>13</th>\n",
       "      <td>All Because of You</td>\n",
       "      <td>Action comedy</td>\n",
       "      <td>October 1, 2020</td>\n",
       "      <td>101.0</td>\n",
       "      <td>4.2</td>\n",
       "      <td>Malay</td>\n",
       "    </tr>\n",
       "    <tr>\n",
       "      <th>26</th>\n",
       "      <td>Just Say Yes</td>\n",
       "      <td>Romantic comedy</td>\n",
       "      <td>April 2, 2021</td>\n",
       "      <td>97.0</td>\n",
       "      <td>4.5</td>\n",
       "      <td>Dutch</td>\n",
       "    </tr>\n",
       "    <tr>\n",
       "      <th>58</th>\n",
       "      <td>Squared Love</td>\n",
       "      <td>Romantic comedy</td>\n",
       "      <td>February 11, 2021</td>\n",
       "      <td>102.0</td>\n",
       "      <td>5.0</td>\n",
       "      <td>Polish</td>\n",
       "    </tr>\n",
       "    <tr>\n",
       "      <th>61</th>\n",
       "      <td>Coffee &amp; Kareem</td>\n",
       "      <td>Action comedy</td>\n",
       "      <td>April 3, 2020</td>\n",
       "      <td>88.0</td>\n",
       "      <td>5.1</td>\n",
       "      <td>English</td>\n",
       "    </tr>\n",
       "    <tr>\n",
       "      <th>...</th>\n",
       "      <td>...</td>\n",
       "      <td>...</td>\n",
       "      <td>...</td>\n",
       "      <td>...</td>\n",
       "      <td>...</td>\n",
       "      <td>...</td>\n",
       "    </tr>\n",
       "    <tr>\n",
       "      <th>395</th>\n",
       "      <td>Always Be My Maybe</td>\n",
       "      <td>Romantic comedy</td>\n",
       "      <td>May 31, 2019</td>\n",
       "      <td>102.0</td>\n",
       "      <td>6.8</td>\n",
       "      <td>English</td>\n",
       "    </tr>\n",
       "    <tr>\n",
       "      <th>478</th>\n",
       "      <td>To All the Boys I've Loved Before</td>\n",
       "      <td>Romantic comedy</td>\n",
       "      <td>August 17, 2018</td>\n",
       "      <td>99.0</td>\n",
       "      <td>7.1</td>\n",
       "      <td>English</td>\n",
       "    </tr>\n",
       "    <tr>\n",
       "      <th>486</th>\n",
       "      <td>Love per Square Foot</td>\n",
       "      <td>Romantic comedy</td>\n",
       "      <td>February 14, 2018</td>\n",
       "      <td>133.0</td>\n",
       "      <td>7.2</td>\n",
       "      <td>Hindi</td>\n",
       "    </tr>\n",
       "    <tr>\n",
       "      <th>489</th>\n",
       "      <td>Seventeen</td>\n",
       "      <td>Coming-of-age comedy-drama</td>\n",
       "      <td>October 18, 2019</td>\n",
       "      <td>99.0</td>\n",
       "      <td>7.2</td>\n",
       "      <td>Spanish</td>\n",
       "    </tr>\n",
       "    <tr>\n",
       "      <th>543</th>\n",
       "      <td>Ludo</td>\n",
       "      <td>Anthology/Dark comedy</td>\n",
       "      <td>November 12, 2020</td>\n",
       "      <td>149.0</td>\n",
       "      <td>7.6</td>\n",
       "      <td>Hindi</td>\n",
       "    </tr>\n",
       "  </tbody>\n",
       "</table>\n",
       "<p>61 rows × 6 columns</p>\n",
       "</div>"
      ],
      "text/plain": [
       "                                 Title                       Genre  \\\n",
       "12                             Whipped             Romantic comedy   \n",
       "13                  All Because of You               Action comedy   \n",
       "26                        Just Say Yes             Romantic comedy   \n",
       "58                        Squared Love             Romantic comedy   \n",
       "61                     Coffee & Kareem               Action comedy   \n",
       "..                                 ...                         ...   \n",
       "395                 Always Be My Maybe             Romantic comedy   \n",
       "478  To All the Boys I've Loved Before             Romantic comedy   \n",
       "486               Love per Square Foot             Romantic comedy   \n",
       "489                          Seventeen  Coming-of-age comedy-drama   \n",
       "543                               Ludo       Anthology/Dark comedy   \n",
       "\n",
       "               Premiere  Runtime  IMDB Score    Language  \n",
       "12   September 18, 2020     97.0         4.1  Indonesian  \n",
       "13      October 1, 2020    101.0         4.2       Malay  \n",
       "26        April 2, 2021     97.0         4.5       Dutch  \n",
       "58    February 11, 2021    102.0         5.0      Polish  \n",
       "61        April 3, 2020     88.0         5.1     English  \n",
       "..                  ...      ...         ...         ...  \n",
       "395        May 31, 2019    102.0         6.8     English  \n",
       "478     August 17, 2018     99.0         7.1     English  \n",
       "486   February 14, 2018    133.0         7.2       Hindi  \n",
       "489    October 18, 2019     99.0         7.2     Spanish  \n",
       "543   November 12, 2020    149.0         7.6       Hindi  \n",
       "\n",
       "[61 rows x 6 columns]"
      ]
     },
     "execution_count": 10,
     "metadata": {},
     "output_type": "execute_result"
    }
   ],
   "source": [
    "# обычная логика: str.contains() возвращает столбец из True/False\n",
    "# подставляем его как фильтр в []\n",
    "\n",
    "films[films[\"Genre\"].str.contains(\"comedy\")]"
   ]
  },
  {
   "cell_type": "markdown",
   "metadata": {},
   "source": [
    "Теперь сделаем поиск более универсальным – сообщим, что слово `comedy` может быть в любом регистре, то есть содержать как строчные, так и заглавные буквы:"
   ]
  },
  {
   "cell_type": "code",
   "execution_count": 11,
   "metadata": {},
   "outputs": [
    {
     "data": {
      "text/html": [
       "<div>\n",
       "<style scoped>\n",
       "    .dataframe tbody tr th:only-of-type {\n",
       "        vertical-align: middle;\n",
       "    }\n",
       "\n",
       "    .dataframe tbody tr th {\n",
       "        vertical-align: top;\n",
       "    }\n",
       "\n",
       "    .dataframe thead th {\n",
       "        text-align: right;\n",
       "    }\n",
       "</style>\n",
       "<table border=\"1\" class=\"dataframe\">\n",
       "  <thead>\n",
       "    <tr style=\"text-align: right;\">\n",
       "      <th></th>\n",
       "      <th>Title</th>\n",
       "      <th>Genre</th>\n",
       "      <th>Premiere</th>\n",
       "      <th>Runtime</th>\n",
       "      <th>IMDB Score</th>\n",
       "      <th>Language</th>\n",
       "    </tr>\n",
       "  </thead>\n",
       "  <tbody>\n",
       "    <tr>\n",
       "      <th>6</th>\n",
       "      <td>Leyla Everlasting</td>\n",
       "      <td>Comedy</td>\n",
       "      <td>December 4, 2020</td>\n",
       "      <td>112.0</td>\n",
       "      <td>3.7</td>\n",
       "      <td>Turkish</td>\n",
       "    </tr>\n",
       "    <tr>\n",
       "      <th>9</th>\n",
       "      <td>Sardar Ka Grandson</td>\n",
       "      <td>Comedy</td>\n",
       "      <td>May 18, 2021</td>\n",
       "      <td>139.0</td>\n",
       "      <td>4.1</td>\n",
       "      <td>Hindi</td>\n",
       "    </tr>\n",
       "    <tr>\n",
       "      <th>12</th>\n",
       "      <td>Whipped</td>\n",
       "      <td>Romantic comedy</td>\n",
       "      <td>September 18, 2020</td>\n",
       "      <td>97.0</td>\n",
       "      <td>4.1</td>\n",
       "      <td>Indonesian</td>\n",
       "    </tr>\n",
       "    <tr>\n",
       "      <th>13</th>\n",
       "      <td>All Because of You</td>\n",
       "      <td>Action comedy</td>\n",
       "      <td>October 1, 2020</td>\n",
       "      <td>101.0</td>\n",
       "      <td>4.2</td>\n",
       "      <td>Malay</td>\n",
       "    </tr>\n",
       "    <tr>\n",
       "      <th>18</th>\n",
       "      <td>What Happened to Mr. Cha?</td>\n",
       "      <td>Comedy</td>\n",
       "      <td>January 1, 2021</td>\n",
       "      <td>102.0</td>\n",
       "      <td>4.3</td>\n",
       "      <td>Korean</td>\n",
       "    </tr>\n",
       "    <tr>\n",
       "      <th>...</th>\n",
       "      <td>...</td>\n",
       "      <td>...</td>\n",
       "      <td>...</td>\n",
       "      <td>...</td>\n",
       "      <td>...</td>\n",
       "      <td>...</td>\n",
       "    </tr>\n",
       "    <tr>\n",
       "      <th>489</th>\n",
       "      <td>Seventeen</td>\n",
       "      <td>Coming-of-age comedy-drama</td>\n",
       "      <td>October 18, 2019</td>\n",
       "      <td>99.0</td>\n",
       "      <td>7.2</td>\n",
       "      <td>Spanish</td>\n",
       "    </tr>\n",
       "    <tr>\n",
       "      <th>492</th>\n",
       "      <td>The 40-Year-Old Version</td>\n",
       "      <td>Comedy</td>\n",
       "      <td>October 9, 2020</td>\n",
       "      <td>124.0</td>\n",
       "      <td>7.2</td>\n",
       "      <td>English</td>\n",
       "    </tr>\n",
       "    <tr>\n",
       "      <th>518</th>\n",
       "      <td>The Fundamentals of Caring</td>\n",
       "      <td>Comedy-drama</td>\n",
       "      <td>June 24, 2016</td>\n",
       "      <td>97.0</td>\n",
       "      <td>6.3</td>\n",
       "      <td>English</td>\n",
       "    </tr>\n",
       "    <tr>\n",
       "      <th>543</th>\n",
       "      <td>Ludo</td>\n",
       "      <td>Anthology/Dark comedy</td>\n",
       "      <td>November 12, 2020</td>\n",
       "      <td>149.0</td>\n",
       "      <td>7.6</td>\n",
       "      <td>Hindi</td>\n",
       "    </tr>\n",
       "    <tr>\n",
       "      <th>573</th>\n",
       "      <td>Klaus</td>\n",
       "      <td>Animation/Christmas/Comedy/Adventure</td>\n",
       "      <td>November 15, 2019</td>\n",
       "      <td>97.0</td>\n",
       "      <td>8.2</td>\n",
       "      <td>English</td>\n",
       "    </tr>\n",
       "  </tbody>\n",
       "</table>\n",
       "<p>141 rows × 6 columns</p>\n",
       "</div>"
      ],
      "text/plain": [
       "                          Title                                 Genre  \\\n",
       "6             Leyla Everlasting                                Comedy   \n",
       "9            Sardar Ka Grandson                                Comedy   \n",
       "12                      Whipped                       Romantic comedy   \n",
       "13           All Because of You                         Action comedy   \n",
       "18    What Happened to Mr. Cha?                                Comedy   \n",
       "..                          ...                                   ...   \n",
       "489                   Seventeen            Coming-of-age comedy-drama   \n",
       "492     The 40-Year-Old Version                                Comedy   \n",
       "518  The Fundamentals of Caring                          Comedy-drama   \n",
       "543                        Ludo                 Anthology/Dark comedy   \n",
       "573                       Klaus  Animation/Christmas/Comedy/Adventure   \n",
       "\n",
       "               Premiere  Runtime  IMDB Score    Language  \n",
       "6      December 4, 2020    112.0         3.7     Turkish  \n",
       "9          May 18, 2021    139.0         4.1       Hindi  \n",
       "12   September 18, 2020     97.0         4.1  Indonesian  \n",
       "13      October 1, 2020    101.0         4.2       Malay  \n",
       "18      January 1, 2021    102.0         4.3      Korean  \n",
       "..                  ...      ...         ...         ...  \n",
       "489    October 18, 2019     99.0         7.2     Spanish  \n",
       "492     October 9, 2020    124.0         7.2     English  \n",
       "518       June 24, 2016     97.0         6.3     English  \n",
       "543   November 12, 2020    149.0         7.6       Hindi  \n",
       "573   November 15, 2019     97.0         8.2     English  \n",
       "\n",
       "[141 rows x 6 columns]"
      ]
     },
     "execution_count": 11,
     "metadata": {},
     "output_type": "execute_result"
    }
   ],
   "source": [
    "# case – регистр, выключаем точное совпадение через False\n",
    "\n",
    "films[films[\"Genre\"].str.contains(\"comedy\", case = False)]"
   ]
  },
  {
   "cell_type": "markdown",
   "metadata": {},
   "source": [
    "Сохраняем и проделываем то же самое для драм:"
   ]
  },
  {
   "cell_type": "code",
   "execution_count": 12,
   "metadata": {},
   "outputs": [],
   "source": [
    "comedy = films[films[\"Genre\"].str.contains(\"comedy\", case = False)]\n",
    "drama = films[films[\"Genre\"].str.contains(\"drama\", case = False)]"
   ]
  },
  {
   "cell_type": "markdown",
   "metadata": {},
   "source": [
    "### Проверка гипотез"
   ]
  },
  {
   "cell_type": "markdown",
   "metadata": {},
   "source": [
    "Теперь давайте сравним средний рейтинг драм и комедий. \n",
    "\n",
    "По-хорошему, если мы планируем использовать **t-критерий Стьюдента для двух независимых выборок**, нам нужно сначала убедиться, что обе изучаемые выборки взяты из нормального распределения. На практике, если выборки достаточно большого размера, этот этап пропускают, если нет веских оснований считать, что данные имеют распределение, сильно отличающееся от нормального или хотя бы симметричного (природа данных по определению может исключать нормальность, например, в анализе выживаемости *survival analysis* данные обычно имеют скошенное вправо распределение, похожее на экспоненциальное, перед работой их часто логарифмируют, чтобы получить что-то более похожее на нормальное). \n",
    "\n",
    "Совсем пропускать этот этап мы не будем, но и обращаться к формальным критериям тоже не будем (в `stats` есть [функция](https://docs.scipy.org/doc/scipy/reference/generated/scipy.stats.shapiro.html) для реализации критерия Шапиро-Уилка для проверки нормальности распределения). Мы просто посмотрим на гистограммы."
   ]
  },
  {
   "cell_type": "code",
   "execution_count": 13,
   "metadata": {},
   "outputs": [],
   "source": [
    "comedy[\"IMDB Score\"].hist(color = \"#3CAA3C\", edgecolor = \"black\");"
   ]
  },
  {
   "cell_type": "code",
   "execution_count": 14,
   "metadata": {},
   "outputs": [
    {
     "data": {
      "text/plain": [
       "<matplotlib.axes._subplots.AxesSubplot at 0x1a1c390cd0>"
      ]
     },
     "execution_count": 14,
     "metadata": {},
     "output_type": "execute_result"
    },
    {
     "data": {
      "image/png": "[encoded data removed]",
      "text/plain": [
       "<Figure size 432x288 with 1 Axes>"
      ]
     },
     "metadata": {
      "needs_background": "light"
     },
     "output_type": "display_data"
    }
   ],
   "source": [
    "drama[\"IMDB Score\"].hist(color = \"#7B917B\", edgecolor = \"black\")"
   ]
  },
  {
   "cell_type": "markdown",
   "metadata": {},
   "source": [
    "> **Не очень серьезное отступление.** С одной из групп вспомнили про любопытный ресурс [colorscheme.ru](https://colorscheme.ru/color-names.html) с названиями цветов. Какие-то из них стандартные (включая закрепленные за брендами цвета), какие-то довольно экзотические. Так, здесь цвет первой гистограммы – *цвет влюбленной жабы*, цвет второй гистограммы – *лягушка в обмороке*."
   ]
  },
  {
   "cell_type": "markdown",
   "metadata": {},
   "source": [
    "Видно, что распределения не совсем похожи на нормальные: у первого довольно острый пик, второе немного скошено влево. Но, тем не менее, каких-то радикальных отличий от симметричного колокообразного распределения нет. Даже если извлекать случайные выборки объема 100-200 из нормального распределения, можно получить что-то «неидеальное». Объем выборок здесь тоже вполне разумный:"
   ]
  },
  {
   "cell_type": "code",
   "execution_count": 15,
   "metadata": {},
   "outputs": [
    {
     "name": "stdout",
     "output_type": "stream",
     "text": [
      "141\n",
      "129\n"
     ]
    }
   ],
   "source": [
    "print(comedy.shape[0])\n",
    "print(drama.shape[0])"
   ]
  },
  {
   "cell_type": "markdown",
   "metadata": {},
   "source": [
    "Применяем t-критерий Стьюдента для двух независимых выборок:"
   ]
  },
  {
   "cell_type": "code",
   "execution_count": 16,
   "metadata": {},
   "outputs": [
    {
     "data": {
      "text/plain": [
       "Ttest_indResult(statistic=4.574585405739631, pvalue=7.301182973261403e-06)"
      ]
     },
     "execution_count": 16,
     "metadata": {},
     "output_type": "execute_result"
    }
   ],
   "source": [
    "st.ttest_ind(drama[\"IMDB Score\"], comedy[\"IMDB Score\"])"
   ]
  },
  {
   "cell_type": "markdown",
   "metadata": {},
   "source": [
    "P-value очень мало, почти 0, нулевая гипотеза о равенстве средних отвергается, средний рейтинг драм отличается от среднего рейтинга комедий. Наблюдаемое значение статистики $t_{\\text{набл}}$ равно 4.57, больше 0, значит, средний рейтинг драм выше. Проверим:"
   ]
  },
  {
   "cell_type": "code",
   "execution_count": 17,
   "metadata": {},
   "outputs": [
    {
     "name": "stdout",
     "output_type": "stream",
     "text": [
      "Drama: 6.260465116279071\n",
      "Comedy: 5.82340425531915\n"
     ]
    }
   ],
   "source": [
    "print(\"Drama:\", drama[\"IMDB Score\"].mean())\n",
    "print(\"Comedy:\", comedy[\"IMDB Score\"].mean())"
   ]
  },
  {
   "cell_type": "markdown",
   "metadata": {},
   "source": [
    "Действительно, драмы, в среднем, получают более высокие оценки. Что интересно, разница выборочных средних примерно в 0.5 балла оказалась достаточной, чтобы отвергнуть гипотезу о равенстве средних. \n",
    "\n",
    "Теперь попробуем проверить гипотезу о том, что средняя продолжительность фильмов равна 90 минутам. Применим одновыборочный t-критерий Стьюдента:"
   ]
  },
  {
   "cell_type": "code",
   "execution_count": 18,
   "metadata": {},
   "outputs": [
    {
     "data": {
      "text/plain": [
       "Ttest_1sampResult(statistic=3.1443197872657156, pvalue=0.0017494339713071045)"
      ]
     },
     "execution_count": 18,
     "metadata": {},
     "output_type": "execute_result"
    }
   ],
   "source": [
    "st.ttest_1samp(films[\"Runtime\"], popmean = 90)"
   ]
  },
  {
   "cell_type": "markdown",
   "metadata": {},
   "source": [
    "Вновь гипотеза отвергается, средняя продолжительность фильмов не равна 90 минутам (p-value меньше любого конвенционального уровня значимости, даже менее 1%). Но с продолжительностью фильма тут все сложно: очень разные фильмы собраны в выборке. Посмотрим на описательные статистики:"
   ]
  },
  {
   "cell_type": "code",
   "execution_count": 19,
   "metadata": {},
   "outputs": [
    {
     "data": {
      "text/plain": [
       "count    584.00000\n",
       "mean      93.60274\n",
       "std       27.68934\n",
       "min        4.00000\n",
       "25%       86.00000\n",
       "50%       97.00000\n",
       "75%      107.00000\n",
       "max      209.00000\n",
       "Name: Runtime, dtype: float64"
      ]
     },
     "execution_count": 19,
     "metadata": {},
     "output_type": "execute_result"
    }
   ],
   "source": [
    "films[\"Runtime\"].describe()"
   ]
  },
  {
   "cell_type": "markdown",
   "metadata": {},
   "source": [
    "Стандартное отклонение очень большое, при описании данных мы могли бы сказать, что средняя продолжительность фильмов $94\\pm28$ минут, разброс значений велик. На гистограмме это тоже видно:"
   ]
  },
  {
   "cell_type": "code",
   "execution_count": 20,
   "metadata": {},
   "outputs": [
    {
     "data": {
      "text/plain": [
       "<matplotlib.axes._subplots.AxesSubplot at 0x1a1c3f2710>"
      ]
     },
     "execution_count": 20,
     "metadata": {},
     "output_type": "execute_result"
    },
    {
     "data": {
      "image/png": "[encoded data removed]",
      "text/plain": [
       "<Figure size 432x288 with 1 Axes>"
      ]
     },
     "metadata": {
      "needs_background": "light"
     },
     "output_type": "display_data"
    }
   ],
   "source": [
    "# для кругозора: цвет – последний вздох Жако, \n",
    "# такой цвет есть, устаревший, в XIX веке использовался\n",
    "# перед смертью у попугаев Жако такой цвет глаз\n",
    "\n",
    "films[\"Runtime\"].hist(color = \"#FF9218\", edgecolor = \"black\")"
   ]
  },
  {
   "cell_type": "markdown",
   "metadata": {},
   "source": [
    "### Выявление связей: качественные данные"
   ]
  },
  {
   "cell_type": "markdown",
   "metadata": {},
   "source": [
    "Попробуем проверить, есть ли связь между жанром фильма и языком (вполне логично предположить, что связь может быть, так как могут быть специфические локальные жанры). \n",
    "\n",
    "Построим таблицу сопряженности с помощью функции `crosstab()` из `pandas`:"
   ]
  },
  {
   "cell_type": "code",
   "execution_count": 21,
   "metadata": {},
   "outputs": [
    {
     "data": {
      "text/html": [
       "<div>\n",
       "<style scoped>\n",
       "    .dataframe tbody tr th:only-of-type {\n",
       "        vertical-align: middle;\n",
       "    }\n",
       "\n",
       "    .dataframe tbody tr th {\n",
       "        vertical-align: top;\n",
       "    }\n",
       "\n",
       "    .dataframe thead th {\n",
       "        text-align: right;\n",
       "    }\n",
       "</style>\n",
       "<table border=\"1\" class=\"dataframe\">\n",
       "  <thead>\n",
       "    <tr style=\"text-align: right;\">\n",
       "      <th>Language</th>\n",
       "      <th>Bengali</th>\n",
       "      <th>Dutch</th>\n",
       "      <th>English</th>\n",
       "      <th>English/Akan</th>\n",
       "      <th>English/Arabic</th>\n",
       "      <th>English/Hindi</th>\n",
       "      <th>English/Japanese</th>\n",
       "      <th>English/Korean</th>\n",
       "      <th>English/Mandarin</th>\n",
       "      <th>English/Russian</th>\n",
       "      <th>...</th>\n",
       "      <th>Portuguese</th>\n",
       "      <th>Spanish</th>\n",
       "      <th>Spanish/Basque</th>\n",
       "      <th>Spanish/Catalan</th>\n",
       "      <th>Spanish/English</th>\n",
       "      <th>Swedish</th>\n",
       "      <th>Tamil</th>\n",
       "      <th>Thai</th>\n",
       "      <th>Thia/English</th>\n",
       "      <th>Turkish</th>\n",
       "    </tr>\n",
       "    <tr>\n",
       "      <th>Genre</th>\n",
       "      <th></th>\n",
       "      <th></th>\n",
       "      <th></th>\n",
       "      <th></th>\n",
       "      <th></th>\n",
       "      <th></th>\n",
       "      <th></th>\n",
       "      <th></th>\n",
       "      <th></th>\n",
       "      <th></th>\n",
       "      <th></th>\n",
       "      <th></th>\n",
       "      <th></th>\n",
       "      <th></th>\n",
       "      <th></th>\n",
       "      <th></th>\n",
       "      <th></th>\n",
       "      <th></th>\n",
       "      <th></th>\n",
       "      <th></th>\n",
       "      <th></th>\n",
       "    </tr>\n",
       "  </thead>\n",
       "  <tbody>\n",
       "    <tr>\n",
       "      <th>Action</th>\n",
       "      <td>0</td>\n",
       "      <td>0</td>\n",
       "      <td>4</td>\n",
       "      <td>0</td>\n",
       "      <td>0</td>\n",
       "      <td>0</td>\n",
       "      <td>0</td>\n",
       "      <td>0</td>\n",
       "      <td>0</td>\n",
       "      <td>0</td>\n",
       "      <td>...</td>\n",
       "      <td>0</td>\n",
       "      <td>0</td>\n",
       "      <td>0</td>\n",
       "      <td>0</td>\n",
       "      <td>0</td>\n",
       "      <td>0</td>\n",
       "      <td>0</td>\n",
       "      <td>0</td>\n",
       "      <td>0</td>\n",
       "      <td>0</td>\n",
       "    </tr>\n",
       "    <tr>\n",
       "      <th>Action comedy</th>\n",
       "      <td>0</td>\n",
       "      <td>0</td>\n",
       "      <td>4</td>\n",
       "      <td>0</td>\n",
       "      <td>0</td>\n",
       "      <td>0</td>\n",
       "      <td>0</td>\n",
       "      <td>0</td>\n",
       "      <td>0</td>\n",
       "      <td>0</td>\n",
       "      <td>...</td>\n",
       "      <td>0</td>\n",
       "      <td>0</td>\n",
       "      <td>0</td>\n",
       "      <td>0</td>\n",
       "      <td>0</td>\n",
       "      <td>0</td>\n",
       "      <td>0</td>\n",
       "      <td>0</td>\n",
       "      <td>0</td>\n",
       "      <td>0</td>\n",
       "    </tr>\n",
       "    <tr>\n",
       "      <th>Action thriller</th>\n",
       "      <td>0</td>\n",
       "      <td>0</td>\n",
       "      <td>1</td>\n",
       "      <td>0</td>\n",
       "      <td>0</td>\n",
       "      <td>0</td>\n",
       "      <td>0</td>\n",
       "      <td>0</td>\n",
       "      <td>0</td>\n",
       "      <td>0</td>\n",
       "      <td>...</td>\n",
       "      <td>0</td>\n",
       "      <td>0</td>\n",
       "      <td>0</td>\n",
       "      <td>0</td>\n",
       "      <td>0</td>\n",
       "      <td>0</td>\n",
       "      <td>0</td>\n",
       "      <td>0</td>\n",
       "      <td>0</td>\n",
       "      <td>0</td>\n",
       "    </tr>\n",
       "    <tr>\n",
       "      <th>Action-adventure</th>\n",
       "      <td>0</td>\n",
       "      <td>0</td>\n",
       "      <td>0</td>\n",
       "      <td>0</td>\n",
       "      <td>0</td>\n",
       "      <td>0</td>\n",
       "      <td>0</td>\n",
       "      <td>1</td>\n",
       "      <td>0</td>\n",
       "      <td>0</td>\n",
       "      <td>...</td>\n",
       "      <td>0</td>\n",
       "      <td>0</td>\n",
       "      <td>0</td>\n",
       "      <td>0</td>\n",
       "      <td>0</td>\n",
       "      <td>0</td>\n",
       "      <td>0</td>\n",
       "      <td>0</td>\n",
       "      <td>0</td>\n",
       "      <td>0</td>\n",
       "    </tr>\n",
       "    <tr>\n",
       "      <th>Action-thriller</th>\n",
       "      <td>0</td>\n",
       "      <td>0</td>\n",
       "      <td>2</td>\n",
       "      <td>0</td>\n",
       "      <td>0</td>\n",
       "      <td>0</td>\n",
       "      <td>0</td>\n",
       "      <td>0</td>\n",
       "      <td>0</td>\n",
       "      <td>0</td>\n",
       "      <td>...</td>\n",
       "      <td>0</td>\n",
       "      <td>0</td>\n",
       "      <td>0</td>\n",
       "      <td>0</td>\n",
       "      <td>0</td>\n",
       "      <td>0</td>\n",
       "      <td>0</td>\n",
       "      <td>0</td>\n",
       "      <td>0</td>\n",
       "      <td>0</td>\n",
       "    </tr>\n",
       "    <tr>\n",
       "      <th>...</th>\n",
       "      <td>...</td>\n",
       "      <td>...</td>\n",
       "      <td>...</td>\n",
       "      <td>...</td>\n",
       "      <td>...</td>\n",
       "      <td>...</td>\n",
       "      <td>...</td>\n",
       "      <td>...</td>\n",
       "      <td>...</td>\n",
       "      <td>...</td>\n",
       "      <td>...</td>\n",
       "      <td>...</td>\n",
       "      <td>...</td>\n",
       "      <td>...</td>\n",
       "      <td>...</td>\n",
       "      <td>...</td>\n",
       "      <td>...</td>\n",
       "      <td>...</td>\n",
       "      <td>...</td>\n",
       "      <td>...</td>\n",
       "      <td>...</td>\n",
       "    </tr>\n",
       "    <tr>\n",
       "      <th>War</th>\n",
       "      <td>0</td>\n",
       "      <td>0</td>\n",
       "      <td>2</td>\n",
       "      <td>0</td>\n",
       "      <td>0</td>\n",
       "      <td>0</td>\n",
       "      <td>0</td>\n",
       "      <td>0</td>\n",
       "      <td>0</td>\n",
       "      <td>0</td>\n",
       "      <td>...</td>\n",
       "      <td>0</td>\n",
       "      <td>0</td>\n",
       "      <td>0</td>\n",
       "      <td>0</td>\n",
       "      <td>0</td>\n",
       "      <td>0</td>\n",
       "      <td>0</td>\n",
       "      <td>0</td>\n",
       "      <td>0</td>\n",
       "      <td>0</td>\n",
       "    </tr>\n",
       "    <tr>\n",
       "      <th>War drama</th>\n",
       "      <td>0</td>\n",
       "      <td>0</td>\n",
       "      <td>1</td>\n",
       "      <td>1</td>\n",
       "      <td>0</td>\n",
       "      <td>0</td>\n",
       "      <td>0</td>\n",
       "      <td>0</td>\n",
       "      <td>0</td>\n",
       "      <td>0</td>\n",
       "      <td>...</td>\n",
       "      <td>0</td>\n",
       "      <td>0</td>\n",
       "      <td>0</td>\n",
       "      <td>0</td>\n",
       "      <td>0</td>\n",
       "      <td>0</td>\n",
       "      <td>0</td>\n",
       "      <td>0</td>\n",
       "      <td>0</td>\n",
       "      <td>0</td>\n",
       "    </tr>\n",
       "    <tr>\n",
       "      <th>War-Comedy</th>\n",
       "      <td>0</td>\n",
       "      <td>0</td>\n",
       "      <td>1</td>\n",
       "      <td>0</td>\n",
       "      <td>0</td>\n",
       "      <td>0</td>\n",
       "      <td>0</td>\n",
       "      <td>0</td>\n",
       "      <td>0</td>\n",
       "      <td>0</td>\n",
       "      <td>...</td>\n",
       "      <td>0</td>\n",
       "      <td>0</td>\n",
       "      <td>0</td>\n",
       "      <td>0</td>\n",
       "      <td>0</td>\n",
       "      <td>0</td>\n",
       "      <td>0</td>\n",
       "      <td>0</td>\n",
       "      <td>0</td>\n",
       "      <td>0</td>\n",
       "    </tr>\n",
       "    <tr>\n",
       "      <th>Western</th>\n",
       "      <td>0</td>\n",
       "      <td>0</td>\n",
       "      <td>2</td>\n",
       "      <td>0</td>\n",
       "      <td>0</td>\n",
       "      <td>0</td>\n",
       "      <td>0</td>\n",
       "      <td>0</td>\n",
       "      <td>0</td>\n",
       "      <td>0</td>\n",
       "      <td>...</td>\n",
       "      <td>1</td>\n",
       "      <td>0</td>\n",
       "      <td>0</td>\n",
       "      <td>0</td>\n",
       "      <td>0</td>\n",
       "      <td>0</td>\n",
       "      <td>0</td>\n",
       "      <td>0</td>\n",
       "      <td>0</td>\n",
       "      <td>0</td>\n",
       "    </tr>\n",
       "    <tr>\n",
       "      <th>Zombie/Heist</th>\n",
       "      <td>0</td>\n",
       "      <td>0</td>\n",
       "      <td>1</td>\n",
       "      <td>0</td>\n",
       "      <td>0</td>\n",
       "      <td>0</td>\n",
       "      <td>0</td>\n",
       "      <td>0</td>\n",
       "      <td>0</td>\n",
       "      <td>0</td>\n",
       "      <td>...</td>\n",
       "      <td>0</td>\n",
       "      <td>0</td>\n",
       "      <td>0</td>\n",
       "      <td>0</td>\n",
       "      <td>0</td>\n",
       "      <td>0</td>\n",
       "      <td>0</td>\n",
       "      <td>0</td>\n",
       "      <td>0</td>\n",
       "      <td>0</td>\n",
       "    </tr>\n",
       "  </tbody>\n",
       "</table>\n",
       "<p>115 rows × 38 columns</p>\n",
       "</div>"
      ],
      "text/plain": [
       "Language          Bengali  Dutch  English  English/Akan  English/Arabic  \\\n",
       "Genre                                                                     \n",
       "Action                  0      0        4             0               0   \n",
       "Action comedy           0      0        4             0               0   \n",
       "Action thriller         0      0        1             0               0   \n",
       "Action-adventure        0      0        0             0               0   \n",
       "Action-thriller         0      0        2             0               0   \n",
       "...                   ...    ...      ...           ...             ...   \n",
       "War                     0      0        2             0               0   \n",
       "War drama               0      0        1             1               0   \n",
       "War-Comedy              0      0        1             0               0   \n",
       "Western                 0      0        2             0               0   \n",
       "Zombie/Heist            0      0        1             0               0   \n",
       "\n",
       "Language          English/Hindi  English/Japanese  English/Korean  \\\n",
       "Genre                                                               \n",
       "Action                        0                 0               0   \n",
       "Action comedy                 0                 0               0   \n",
       "Action thriller               0                 0               0   \n",
       "Action-adventure              0                 0               1   \n",
       "Action-thriller               0                 0               0   \n",
       "...                         ...               ...             ...   \n",
       "War                           0                 0               0   \n",
       "War drama                     0                 0               0   \n",
       "War-Comedy                    0                 0               0   \n",
       "Western                       0                 0               0   \n",
       "Zombie/Heist                  0                 0               0   \n",
       "\n",
       "Language          English/Mandarin  English/Russian  ...  Portuguese  Spanish  \\\n",
       "Genre                                                ...                        \n",
       "Action                           0                0  ...           0        0   \n",
       "Action comedy                    0                0  ...           0        0   \n",
       "Action thriller                  0                0  ...           0        0   \n",
       "Action-adventure                 0                0  ...           0        0   \n",
       "Action-thriller                  0                0  ...           0        0   \n",
       "...                            ...              ...  ...         ...      ...   \n",
       "War                              0                0  ...           0        0   \n",
       "War drama                        0                0  ...           0        0   \n",
       "War-Comedy                       0                0  ...           0        0   \n",
       "Western                          0                0  ...           1        0   \n",
       "Zombie/Heist                     0                0  ...           0        0   \n",
       "\n",
       "Language          Spanish/Basque  Spanish/Catalan  Spanish/English  Swedish  \\\n",
       "Genre                                                                         \n",
       "Action                         0                0                0        0   \n",
       "Action comedy                  0                0                0        0   \n",
       "Action thriller                0                0                0        0   \n",
       "Action-adventure               0                0                0        0   \n",
       "Action-thriller                0                0                0        0   \n",
       "...                          ...              ...              ...      ...   \n",
       "War                            0                0                0        0   \n",
       "War drama                      0                0                0        0   \n",
       "War-Comedy                     0                0                0        0   \n",
       "Western                        0                0                0        0   \n",
       "Zombie/Heist                   0                0                0        0   \n",
       "\n",
       "Language          Tamil  Thai  Thia/English  Turkish  \n",
       "Genre                                                 \n",
       "Action                0     0             0        0  \n",
       "Action comedy         0     0             0        0  \n",
       "Action thriller       0     0             0        0  \n",
       "Action-adventure      0     0             0        0  \n",
       "Action-thriller       0     0             0        0  \n",
       "...                 ...   ...           ...      ...  \n",
       "War                   0     0             0        0  \n",
       "War drama             0     0             0        0  \n",
       "War-Comedy            0     0             0        0  \n",
       "Western               0     0             0        0  \n",
       "Zombie/Heist          0     0             0        0  \n",
       "\n",
       "[115 rows x 38 columns]"
      ]
     },
     "execution_count": 21,
     "metadata": {},
     "output_type": "execute_result"
    }
   ],
   "source": [
    "tab = pd.crosstab(films[\"Genre\"], films[\"Language\"])\n",
    "tab"
   ]
  },
  {
   "cell_type": "markdown",
   "metadata": {},
   "source": [
    "Проблема: таблица сопряженности получилась огромной! 115 строк и 38 столбцов, причем из-за большого числа категорий большинство частот в таблице равны 0 или просто очень маленькие. Чисто технически критерий согласия хи-квадрат применить получится, Python даже не выдаст никаких сообщений с предупреждением, но содержательно это не будет иметь большого смысла. Этот критерий исходит из предположения, что ячеек с маленькими частотами нет или их очень мало. Считается, что доля карликовых ячеек с ожидаемыми частотами менее 5 должна быть не более 5%, ожидаемых частот мы пока не видим, но понятно, что если много 0, ожидаемые частоты тоже будут в районе 0. \n",
    "\n",
    "Давайте попробуем применить критерий хи-квадрат и посмотреть, что получится:"
   ]
  },
  {
   "cell_type": "code",
   "execution_count": 22,
   "metadata": {},
   "outputs": [
    {
     "data": {
      "text/plain": [
       "(2956.2306829330773,\n",
       " 1.0,\n",
       " 4218,\n",
       " array([[1.19863014e-02, 3.59589041e-02, 4.80650685e+00, ...,\n",
       "         2.39726027e-02, 1.19863014e-02, 5.99315068e-02],\n",
       "        [8.56164384e-03, 2.56849315e-02, 3.43321918e+00, ...,\n",
       "         1.71232877e-02, 8.56164384e-03, 4.28082192e-02],\n",
       "        [1.71232877e-03, 5.13698630e-03, 6.86643836e-01, ...,\n",
       "         3.42465753e-03, 1.71232877e-03, 8.56164384e-03],\n",
       "        ...,\n",
       "        [1.71232877e-03, 5.13698630e-03, 6.86643836e-01, ...,\n",
       "         3.42465753e-03, 1.71232877e-03, 8.56164384e-03],\n",
       "        [5.13698630e-03, 1.54109589e-02, 2.05993151e+00, ...,\n",
       "         1.02739726e-02, 5.13698630e-03, 2.56849315e-02],\n",
       "        [1.71232877e-03, 5.13698630e-03, 6.86643836e-01, ...,\n",
       "         3.42465753e-03, 1.71232877e-03, 8.56164384e-03]]))"
      ]
     },
     "execution_count": 22,
     "metadata": {},
     "output_type": "execute_result"
    }
   ],
   "source": [
    "st.chi2_contingency(tab)"
   ]
  },
  {
   "cell_type": "markdown",
   "metadata": {},
   "source": [
    "Ужасно большое наблюдаемое значение статистики критерия $2956.23$ и огромное число степеней свободы 4218, максимально возможное p-value равное 1. Формально можно сделать вывод, что признаки независимы, но все-таки для корректного анализа нужно укрупнить категории и перейти к более разумной таблице сопряженности."
   ]
  },
  {
   "cell_type": "markdown",
   "metadata": {},
   "source": [
    "**Дополнительно для желающих.** Все-таки надо определиться с делением на жанры и создать более общую классификацию. Так как, в первую очередь, нас интересуют фильмы, давайте сначала уберем из датафрейма то, что фильмом не является: `Show`, `Variety show`, `Aftershow / Interview` и `Concert Film`."
   ]
  },
  {
   "cell_type": "code",
   "execution_count": 23,
   "metadata": {},
   "outputs": [],
   "source": [
    "# добавляем оператор отрицания ~ перед contains()\n",
    "\n",
    "films = films[~films[\"Genre\"].str.contains(\"Show\", case = False)]\n",
    "films = films[~films[\"Genre\"].str.contains(\"Concert\", case = False)]"
   ]
  },
  {
   "cell_type": "markdown",
   "metadata": {},
   "source": [
    "Давайте оставим основные общепринятые жанры, то есть объединим все имеющиеся жанры в более крупные группы:\n",
    "    \n",
    "* Action\n",
    "* Adventure\n",
    "* Animation\n",
    "* Comedy\n",
    "* Drama\n",
    "* Fantasy\n",
    "* Horror\n",
    "* Musical\n",
    "* Romance\n",
    "* Science-fiction\n",
    "* Thriller\n",
    "* Western"
   ]
  },
  {
   "cell_type": "markdown",
   "metadata": {},
   "source": [
    "Чтобы сократить число жанров и разобраться в них, давайте выполним серию последовательных замен. Логика кода ниже: с помощью метода `.loc` отбираем строки, которые в столбце `Genre` содержат определенные слова, и заменяем их на новые значения через присваивание с `=`."
   ]
  },
  {
   "cell_type": "code",
   "execution_count": 24,
   "metadata": {},
   "outputs": [],
   "source": [
    "# в loc сначала условие на строки, затем через запятую – на столбцы\n",
    "# на строки условия ставим через contains()\n",
    "# на столбцы условия нет, просто указываем название столбца Genre\n",
    "\n",
    "films.loc[films['Genre'].str.contains('thriller', case = False), 'Genre'] = 'Thriller'\n",
    "films.loc[films['Genre'].str.contains('musical', case = False), 'Genre'] = 'Musical'\n",
    "films.loc[films['Genre'].str.contains('action', case = False), 'Genre'] = 'Action'\n",
    "films.loc[films['Genre'].str.contains('fantasy', case = False), 'Genre'] = 'Fantasy'\n",
    "films.loc[films['Genre'].str.contains('family', case = False), 'Genre'] = 'Family'"
   ]
  },
  {
   "cell_type": "markdown",
   "metadata": {},
   "source": [
    "Порядок замен имеет значение. Если, например, у нас есть фильм с жанром *Family musical*, то жанр *Musical* будет главным, мы заменим название жанра на *Musical*, и *Family* уже не останется и при последующих заменах учтено не будет.\n",
    "\n",
    "Пользуясь этой логикой, разрешим неопределенность с жанрами типа *comedy-drama* и *drama-comedy*. Сначала выполним замену *comedy-drama* на *comedy* и *drama-comedy* на *drama*, так как первое слово важнее:"
   ]
  },
  {
   "cell_type": "code",
   "execution_count": 25,
   "metadata": {},
   "outputs": [],
   "source": [
    "# дефис после comedy и drama важен, чтобы не зацепить лишнее\n",
    "\n",
    "films.loc[films['Genre'].str.contains('comedy-', case = False), 'Genre'] = 'Comedy'\n",
    "films.loc[films['Genre'].str.contains('drama-', case = False), 'Genre'] = 'Drama'"
   ]
  },
  {
   "cell_type": "markdown",
   "metadata": {},
   "source": [
    "А вот теперь, когда спорных жанров не осталось, можем все остальные жанры с *comedy* и *drama* в составе заменить:"
   ]
  },
  {
   "cell_type": "code",
   "execution_count": 26,
   "metadata": {},
   "outputs": [],
   "source": [
    "films.loc[films['Genre'].str.contains('comedy', case = False), 'Genre'] = 'Comedy'\n",
    "films.loc[films['Genre'].str.contains('drama', case = False), 'Genre'] = 'Drama'"
   ]
  },
  {
   "cell_type": "markdown",
   "metadata": {},
   "source": [
    "Посмотрим на список жанров:"
   ]
  },
  {
   "cell_type": "code",
   "execution_count": 27,
   "metadata": {},
   "outputs": [
    {
     "data": {
      "text/plain": [
       "array(['Documentary', 'Thriller', 'Drama', 'Mystery', 'Action', 'Comedy',\n",
       "       'Musical', 'Horror anthology', 'Horror', 'Anime / Short',\n",
       "       'Superhero', 'Heist', 'Western', 'Animation/Superhero', 'Family',\n",
       "       'Animation', 'Science fiction adventure', 'Science fiction',\n",
       "       'Fantasy', 'Science fiction/Mystery', 'Romance', 'Biopic',\n",
       "       'Mockumentary', 'Satire', 'Zombie/Heist', 'Psychological horror',\n",
       "       'Sports film', 'Adventure-romance', 'Adventure', 'Stop Motion',\n",
       "       'War', 'Animation / Musicial', 'Anime/Science fiction',\n",
       "       'Animation / Short', 'Historical-epic', 'Mentalism special',\n",
       "       'Making-of', 'Animation / Science Fiction'], dtype=object)"
      ]
     },
     "execution_count": 27,
     "metadata": {},
     "output_type": "execute_result"
    }
   ],
   "source": [
    "films[\"Genre\"].unique()"
   ]
  },
  {
   "cell_type": "markdown",
   "metadata": {},
   "source": [
    "Ура, список жанров сократился! Давайте жанр *Mystery* объединим с *Fantasy*, *Horror* с *Horror anthology* и *Psychological horror*, *Adventure* с *Adventure-romance*, *Science fiction* с *Science fiction adventure* и *Science fiction/Mystery*:"
   ]
  },
  {
   "cell_type": "code",
   "execution_count": 28,
   "metadata": {},
   "outputs": [],
   "source": [
    "# делаем обычную замену через replace()\n",
    "# старое название на первом месте, новое – на втором\n",
    "\n",
    "films[\"Genre\"] = films[\"Genre\"].replace(\"Mystery\", \"Fantasy\")\n",
    "films[\"Genre\"] = films[\"Genre\"].replace(\"Horror anthology\", \"Horror\")\n",
    "films[\"Genre\"] = films[\"Genre\"].replace(\"Psychological horror\", \"Horror\")\n",
    "films[\"Genre\"] = films[\"Genre\"].replace(\"Adventure-romance\", \"Adventure\")\n",
    "films[\"Genre\"] = films[\"Genre\"].replace(\"Science fiction adventure\", \"Science fiction\")\n",
    "films[\"Genre\"] = films[\"Genre\"].replace(\"Science fiction/Mystery\", \"Science fiction\")"
   ]
  },
  {
   "cell_type": "markdown",
   "metadata": {},
   "source": [
    "Выведем таблицу частот:"
   ]
  },
  {
   "cell_type": "code",
   "execution_count": 29,
   "metadata": {},
   "outputs": [
    {
     "data": {
      "text/plain": [
       "Documentary                    159\n",
       "Comedy                         126\n",
       "Drama                          110\n",
       "Thriller                        58\n",
       "Action                          17\n",
       "Musical                         13\n",
       "Horror                          11\n",
       "Biopic                           9\n",
       "Fantasy                          7\n",
       "Science fiction                  6\n",
       "Romance                          6\n",
       "Family                           5\n",
       "Animation                        5\n",
       "Animation / Short                4\n",
       "Western                          3\n",
       "Adventure                        3\n",
       "Making-of                        2\n",
       "Superhero                        2\n",
       "Mockumentary                     2\n",
       "Satire                           2\n",
       "Anime/Science fiction            2\n",
       "War                              2\n",
       "Animation / Musicial             1\n",
       "Mentalism special                1\n",
       "Historical-epic                  1\n",
       "Sports film                      1\n",
       "Stop Motion                      1\n",
       "Animation/Superhero              1\n",
       "Zombie/Heist                     1\n",
       "Anime / Short                    1\n",
       "Heist                            1\n",
       "Animation / Science Fiction      1\n",
       "Name: Genre, dtype: int64"
      ]
     },
     "execution_count": 29,
     "metadata": {},
     "output_type": "execute_result"
    }
   ],
   "source": [
    "films[\"Genre\"].value_counts()"
   ]
  },
  {
   "cell_type": "markdown",
   "metadata": {},
   "source": [
    "Предлагаю оставить *Biopic* как отдельный жанр, а все, что встречается 6 раз и меньше объединить в категорию *Other*:"
   ]
  },
  {
   "cell_type": "code",
   "execution_count": 30,
   "metadata": {},
   "outputs": [
    {
     "name": "stdout",
     "output_type": "stream",
     "text": [
      "['Science fiction', 'Romance', 'Family', 'Animation', 'Animation / Short', 'Western', 'Adventure', 'Making-of', 'Superhero', 'Mockumentary', 'Satire', 'Anime/Science fiction', 'War', 'Animation / Musicial', 'Mentalism special', 'Historical-epic', 'Sports film', 'Stop Motion', 'Animation/Superhero', 'Zombie/Heist', 'Anime / Short', 'Heist', 'Animation / Science Fiction']\n"
     ]
    }
   ],
   "source": [
    "# сохраняем таблицу частот в freqs\n",
    "# отбираем в ней строки с частотой <= 6\n",
    "# забираем названия – index – и превращаем в список\n",
    "\n",
    "freqs = films[\"Genre\"].value_counts()\n",
    "other = list(freqs[freqs <= 6].index)\n",
    "print(other)"
   ]
  },
  {
   "cell_type": "markdown",
   "metadata": {},
   "source": [
    "Воспользуемся методом `.isin()`, который проверяет вхождение в список, и методом `.loc` по той же схеме, которую мы использовали выше для замены с `.contains()`:"
   ]
  },
  {
   "cell_type": "code",
   "execution_count": 31,
   "metadata": {},
   "outputs": [],
   "source": [
    "# условие на строки через .isin(other)\n",
    "# условия на столбцы нет, название Genre\n",
    "\n",
    "films.loc[films['Genre'].isin(other), 'Genre'] = 'Other'"
   ]
  },
  {
   "cell_type": "markdown",
   "metadata": {},
   "source": [
    "Проверяем, что получилось:"
   ]
  },
  {
   "cell_type": "code",
   "execution_count": 32,
   "metadata": {},
   "outputs": [
    {
     "data": {
      "text/plain": [
       "Documentary    159\n",
       "Comedy         126\n",
       "Drama          110\n",
       "Thriller        58\n",
       "Other           54\n",
       "Action          17\n",
       "Musical         13\n",
       "Horror          11\n",
       "Biopic           9\n",
       "Fantasy          7\n",
       "Name: Genre, dtype: int64"
      ]
     },
     "execution_count": 32,
     "metadata": {},
     "output_type": "execute_result"
    }
   ],
   "source": [
    "films[\"Genre\"].value_counts()"
   ]
  },
  {
   "cell_type": "markdown",
   "metadata": {},
   "source": [
    "Годится! Осталось поработать с языками. Но тут проще: давайте все сочетания языков, которые начинаются с *English* переименуем в *English*, так как вначале обычно указывается основной язык:"
   ]
  },
  {
   "cell_type": "code",
   "execution_count": 33,
   "metadata": {},
   "outputs": [],
   "source": [
    "# схема та же, только метод startswith()\n",
    "\n",
    "films.loc[films['Language'].str.startswith('English'), 'Language'] = 'English'"
   ]
  },
  {
   "cell_type": "markdown",
   "metadata": {},
   "source": [
    "То же делаем для испанского:"
   ]
  },
  {
   "cell_type": "code",
   "execution_count": 34,
   "metadata": {},
   "outputs": [],
   "source": [
    "films.loc[films['Language'].str.startswith('Spanish'), 'Language'] = 'Spanish'"
   ]
  },
  {
   "cell_type": "markdown",
   "metadata": {},
   "source": [
    "Проверяем:"
   ]
  },
  {
   "cell_type": "code",
   "execution_count": 35,
   "metadata": {},
   "outputs": [
    {
     "data": {
      "text/plain": [
       "English                 399\n",
       "Spanish                  34\n",
       "Hindi                    33\n",
       "French                   20\n",
       "Italian                  14\n",
       "Portuguese               12\n",
       "Indonesian                9\n",
       "Japanese                  6\n",
       "Korean                    6\n",
       "German                    5\n",
       "Turkish                   5\n",
       "Dutch                     3\n",
       "Polish                    3\n",
       "Marathi                   3\n",
       "Filipino                  2\n",
       "Thai                      2\n",
       "Malay                     1\n",
       "Norwegian                 1\n",
       "Swedish                   1\n",
       "Thia/English              1\n",
       "Georgian                  1\n",
       "Bengali                   1\n",
       "Khmer/English/French      1\n",
       "Tamil                     1\n",
       "Name: Language, dtype: int64"
      ]
     },
     "execution_count": 35,
     "metadata": {},
     "output_type": "execute_result"
    }
   ],
   "source": [
    "films[\"Language\"].value_counts()"
   ]
  },
  {
   "cell_type": "markdown",
   "metadata": {},
   "source": [
    "Давайте проделаем то же самое, что с жанрами, объединим редкие значения в категорию *Other*:"
   ]
  },
  {
   "cell_type": "code",
   "execution_count": 36,
   "metadata": {},
   "outputs": [
    {
     "name": "stdout",
     "output_type": "stream",
     "text": [
      "['German', 'Turkish', 'Dutch', 'Polish', 'Marathi', 'Filipino', 'Thai', 'Malay', 'Norwegian', 'Swedish', 'Thia/English', 'Georgian', 'Bengali', 'Khmer/English/French', 'Tamil']\n"
     ]
    }
   ],
   "source": [
    "freqs_lang = films[\"Language\"].value_counts()\n",
    "other2 = list(freqs_lang[freqs_lang <= 5].index)\n",
    "print(other2)"
   ]
  },
  {
   "cell_type": "code",
   "execution_count": 37,
   "metadata": {},
   "outputs": [],
   "source": [
    "films.loc[films['Language'].isin(other2), 'Language'] = 'Other'"
   ]
  },
  {
   "cell_type": "markdown",
   "metadata": {},
   "source": [
    "Готово! Сформируем новую таблицу сопряженности:"
   ]
  },
  {
   "cell_type": "code",
   "execution_count": 38,
   "metadata": {},
   "outputs": [
    {
     "data": {
      "text/html": [
       "<div>\n",
       "<style scoped>\n",
       "    .dataframe tbody tr th:only-of-type {\n",
       "        vertical-align: middle;\n",
       "    }\n",
       "\n",
       "    .dataframe tbody tr th {\n",
       "        vertical-align: top;\n",
       "    }\n",
       "\n",
       "    .dataframe thead th {\n",
       "        text-align: right;\n",
       "    }\n",
       "</style>\n",
       "<table border=\"1\" class=\"dataframe\">\n",
       "  <thead>\n",
       "    <tr style=\"text-align: right;\">\n",
       "      <th>Language</th>\n",
       "      <th>English</th>\n",
       "      <th>French</th>\n",
       "      <th>Hindi</th>\n",
       "      <th>Indonesian</th>\n",
       "      <th>Italian</th>\n",
       "      <th>Japanese</th>\n",
       "      <th>Korean</th>\n",
       "      <th>Other</th>\n",
       "      <th>Portuguese</th>\n",
       "      <th>Spanish</th>\n",
       "    </tr>\n",
       "    <tr>\n",
       "      <th>Genre</th>\n",
       "      <th></th>\n",
       "      <th></th>\n",
       "      <th></th>\n",
       "      <th></th>\n",
       "      <th></th>\n",
       "      <th></th>\n",
       "      <th></th>\n",
       "      <th></th>\n",
       "      <th></th>\n",
       "      <th></th>\n",
       "    </tr>\n",
       "  </thead>\n",
       "  <tbody>\n",
       "    <tr>\n",
       "      <th>Action</th>\n",
       "      <td>13</td>\n",
       "      <td>2</td>\n",
       "      <td>1</td>\n",
       "      <td>0</td>\n",
       "      <td>0</td>\n",
       "      <td>0</td>\n",
       "      <td>0</td>\n",
       "      <td>1</td>\n",
       "      <td>0</td>\n",
       "      <td>0</td>\n",
       "    </tr>\n",
       "    <tr>\n",
       "      <th>Biopic</th>\n",
       "      <td>8</td>\n",
       "      <td>0</td>\n",
       "      <td>0</td>\n",
       "      <td>0</td>\n",
       "      <td>1</td>\n",
       "      <td>0</td>\n",
       "      <td>0</td>\n",
       "      <td>0</td>\n",
       "      <td>0</td>\n",
       "      <td>0</td>\n",
       "    </tr>\n",
       "    <tr>\n",
       "      <th>Comedy</th>\n",
       "      <td>86</td>\n",
       "      <td>4</td>\n",
       "      <td>10</td>\n",
       "      <td>3</td>\n",
       "      <td>3</td>\n",
       "      <td>0</td>\n",
       "      <td>1</td>\n",
       "      <td>6</td>\n",
       "      <td>8</td>\n",
       "      <td>5</td>\n",
       "    </tr>\n",
       "    <tr>\n",
       "      <th>Documentary</th>\n",
       "      <td>134</td>\n",
       "      <td>6</td>\n",
       "      <td>0</td>\n",
       "      <td>0</td>\n",
       "      <td>0</td>\n",
       "      <td>1</td>\n",
       "      <td>1</td>\n",
       "      <td>4</td>\n",
       "      <td>3</td>\n",
       "      <td>10</td>\n",
       "    </tr>\n",
       "    <tr>\n",
       "      <th>Drama</th>\n",
       "      <td>56</td>\n",
       "      <td>4</td>\n",
       "      <td>14</td>\n",
       "      <td>5</td>\n",
       "      <td>9</td>\n",
       "      <td>1</td>\n",
       "      <td>2</td>\n",
       "      <td>10</td>\n",
       "      <td>0</td>\n",
       "      <td>9</td>\n",
       "    </tr>\n",
       "    <tr>\n",
       "      <th>Fantasy</th>\n",
       "      <td>4</td>\n",
       "      <td>0</td>\n",
       "      <td>1</td>\n",
       "      <td>0</td>\n",
       "      <td>0</td>\n",
       "      <td>1</td>\n",
       "      <td>0</td>\n",
       "      <td>1</td>\n",
       "      <td>0</td>\n",
       "      <td>0</td>\n",
       "    </tr>\n",
       "    <tr>\n",
       "      <th>Horror</th>\n",
       "      <td>6</td>\n",
       "      <td>0</td>\n",
       "      <td>2</td>\n",
       "      <td>0</td>\n",
       "      <td>0</td>\n",
       "      <td>0</td>\n",
       "      <td>0</td>\n",
       "      <td>3</td>\n",
       "      <td>0</td>\n",
       "      <td>0</td>\n",
       "    </tr>\n",
       "    <tr>\n",
       "      <th>Musical</th>\n",
       "      <td>12</td>\n",
       "      <td>0</td>\n",
       "      <td>0</td>\n",
       "      <td>0</td>\n",
       "      <td>0</td>\n",
       "      <td>0</td>\n",
       "      <td>0</td>\n",
       "      <td>0</td>\n",
       "      <td>0</td>\n",
       "      <td>1</td>\n",
       "    </tr>\n",
       "    <tr>\n",
       "      <th>Other</th>\n",
       "      <td>44</td>\n",
       "      <td>0</td>\n",
       "      <td>0</td>\n",
       "      <td>0</td>\n",
       "      <td>1</td>\n",
       "      <td>2</td>\n",
       "      <td>1</td>\n",
       "      <td>2</td>\n",
       "      <td>1</td>\n",
       "      <td>3</td>\n",
       "    </tr>\n",
       "    <tr>\n",
       "      <th>Thriller</th>\n",
       "      <td>36</td>\n",
       "      <td>4</td>\n",
       "      <td>5</td>\n",
       "      <td>1</td>\n",
       "      <td>0</td>\n",
       "      <td>1</td>\n",
       "      <td>1</td>\n",
       "      <td>4</td>\n",
       "      <td>0</td>\n",
       "      <td>6</td>\n",
       "    </tr>\n",
       "  </tbody>\n",
       "</table>\n",
       "</div>"
      ],
      "text/plain": [
       "Language     English  French  Hindi  Indonesian  Italian  Japanese  Korean  \\\n",
       "Genre                                                                        \n",
       "Action            13       2      1           0        0         0       0   \n",
       "Biopic             8       0      0           0        1         0       0   \n",
       "Comedy            86       4     10           3        3         0       1   \n",
       "Documentary      134       6      0           0        0         1       1   \n",
       "Drama             56       4     14           5        9         1       2   \n",
       "Fantasy            4       0      1           0        0         1       0   \n",
       "Horror             6       0      2           0        0         0       0   \n",
       "Musical           12       0      0           0        0         0       0   \n",
       "Other             44       0      0           0        1         2       1   \n",
       "Thriller          36       4      5           1        0         1       1   \n",
       "\n",
       "Language     Other  Portuguese  Spanish  \n",
       "Genre                                    \n",
       "Action           1           0        0  \n",
       "Biopic           0           0        0  \n",
       "Comedy           6           8        5  \n",
       "Documentary      4           3       10  \n",
       "Drama           10           0        9  \n",
       "Fantasy          1           0        0  \n",
       "Horror           3           0        0  \n",
       "Musical          0           0        1  \n",
       "Other            2           1        3  \n",
       "Thriller         4           0        6  "
      ]
     },
     "execution_count": 38,
     "metadata": {},
     "output_type": "execute_result"
    }
   ],
   "source": [
    "tab_new = pd.crosstab(films[\"Genre\"], films[\"Language\"])\n",
    "tab_new"
   ]
  },
  {
   "cell_type": "markdown",
   "metadata": {},
   "source": [
    "В этой таблице тоже есть ячейки с небольшими значениями, но все уже не так критично. Применим критерий согласия хи-квадрат:"
   ]
  },
  {
   "cell_type": "code",
   "execution_count": 41,
   "metadata": {},
   "outputs": [
    {
     "data": {
      "text/plain": [
       "(143.6202435050016,\n",
       " 2.268775021578315e-05,\n",
       " 81,\n",
       " array([[1.20265957e+01, 6.02836879e-01, 9.94680851e-01, 2.71276596e-01,\n",
       "         4.21985816e-01, 1.80851064e-01, 1.80851064e-01, 9.34397163e-01,\n",
       "         3.61702128e-01, 1.02482270e+00],\n",
       "        [6.36702128e+00, 3.19148936e-01, 5.26595745e-01, 1.43617021e-01,\n",
       "         2.23404255e-01, 9.57446809e-02, 9.57446809e-02, 4.94680851e-01,\n",
       "         1.91489362e-01, 5.42553191e-01],\n",
       "        [8.91382979e+01, 4.46808511e+00, 7.37234043e+00, 2.01063830e+00,\n",
       "         3.12765957e+00, 1.34042553e+00, 1.34042553e+00, 6.92553191e+00,\n",
       "         2.68085106e+00, 7.59574468e+00],\n",
       "        [1.12484043e+02, 5.63829787e+00, 9.30319149e+00, 2.53723404e+00,\n",
       "         3.94680851e+00, 1.69148936e+00, 1.69148936e+00, 8.73936170e+00,\n",
       "         3.38297872e+00, 9.58510638e+00],\n",
       "        [7.78191489e+01, 3.90070922e+00, 6.43617021e+00, 1.75531915e+00,\n",
       "         2.73049645e+00, 1.17021277e+00, 1.17021277e+00, 6.04609929e+00,\n",
       "         2.34042553e+00, 6.63120567e+00],\n",
       "        [4.95212766e+00, 2.48226950e-01, 4.09574468e-01, 1.11702128e-01,\n",
       "         1.73758865e-01, 7.44680851e-02, 7.44680851e-02, 3.84751773e-01,\n",
       "         1.48936170e-01, 4.21985816e-01],\n",
       "        [7.78191489e+00, 3.90070922e-01, 6.43617021e-01, 1.75531915e-01,\n",
       "         2.73049645e-01, 1.17021277e-01, 1.17021277e-01, 6.04609929e-01,\n",
       "         2.34042553e-01, 6.63120567e-01],\n",
       "        [9.19680851e+00, 4.60992908e-01, 7.60638298e-01, 2.07446809e-01,\n",
       "         3.22695035e-01, 1.38297872e-01, 1.38297872e-01, 7.14539007e-01,\n",
       "         2.76595745e-01, 7.83687943e-01],\n",
       "        [3.82021277e+01, 1.91489362e+00, 3.15957447e+00, 8.61702128e-01,\n",
       "         1.34042553e+00, 5.74468085e-01, 5.74468085e-01, 2.96808511e+00,\n",
       "         1.14893617e+00, 3.25531915e+00],\n",
       "        [4.10319149e+01, 2.05673759e+00, 3.39361702e+00, 9.25531915e-01,\n",
       "         1.43971631e+00, 6.17021277e-01, 6.17021277e-01, 3.18794326e+00,\n",
       "         1.23404255e+00, 3.49645390e+00]]))"
      ]
     },
     "execution_count": 41,
     "metadata": {},
     "output_type": "execute_result"
    }
   ],
   "source": [
    "st.chi2_contingency(tab_new)"
   ]
  },
  {
   "cell_type": "markdown",
   "metadata": {},
   "source": [
    "P-value близко к 0, гипотеза о независимости признаков отвергается, связь все же есть! Не то что бы очевидная, в данных просто много фильмов на английском, но, например, среди фильмов на хинди больше всего драм, а среди фильмов на испанском часто встречаются документальные фильмы."
   ]
  },
  {
   "cell_type": "markdown",
   "metadata": {},
   "source": [
    "### Выявление связей: количественные данные"
   ]
  },
  {
   "cell_type": "markdown",
   "metadata": {},
   "source": [
    "Чтобы вернуть датафрейму `films` исходный вид (в дополнительном материале выше была фильтрация), загрузим файл еще раз и выполним замену пропусков – повторение кода из первой части:"
   ]
  },
  {
   "cell_type": "code",
   "execution_count": 42,
   "metadata": {},
   "outputs": [],
   "source": [
    "films = pd.read_csv(\"Netflix.csv\")\n",
    "films[\"Runtime\"] = films[\"Runtime\"].fillna(films[\"Runtime\"].median())\n",
    "films[\"IMDB Score\"] = films[\"IMDB Score\"].fillna(films[\"IMDB Score\"].median())"
   ]
  },
  {
   "cell_type": "markdown",
   "metadata": {},
   "source": [
    "Построим корреляцию матрицу для `films`:"
   ]
  },
  {
   "cell_type": "code",
   "execution_count": 43,
   "metadata": {},
   "outputs": [
    {
     "data": {
      "text/html": [
       "<div>\n",
       "<style scoped>\n",
       "    .dataframe tbody tr th:only-of-type {\n",
       "        vertical-align: middle;\n",
       "    }\n",
       "\n",
       "    .dataframe tbody tr th {\n",
       "        vertical-align: top;\n",
       "    }\n",
       "\n",
       "    .dataframe thead th {\n",
       "        text-align: right;\n",
       "    }\n",
       "</style>\n",
       "<table border=\"1\" class=\"dataframe\">\n",
       "  <thead>\n",
       "    <tr style=\"text-align: right;\">\n",
       "      <th></th>\n",
       "      <th>Runtime</th>\n",
       "      <th>IMDB Score</th>\n",
       "    </tr>\n",
       "  </thead>\n",
       "  <tbody>\n",
       "    <tr>\n",
       "      <th>Runtime</th>\n",
       "      <td>1.000000</td>\n",
       "      <td>-0.033208</td>\n",
       "    </tr>\n",
       "    <tr>\n",
       "      <th>IMDB Score</th>\n",
       "      <td>-0.033208</td>\n",
       "      <td>1.000000</td>\n",
       "    </tr>\n",
       "  </tbody>\n",
       "</table>\n",
       "</div>"
      ],
      "text/plain": [
       "             Runtime  IMDB Score\n",
       "Runtime     1.000000   -0.033208\n",
       "IMDB Score -0.033208    1.000000"
      ]
     },
     "execution_count": 43,
     "metadata": {},
     "output_type": "execute_result"
    }
   ],
   "source": [
    "# или films.corr(numeric_only = True)\n",
    "\n",
    "films.corr()"
   ]
  },
  {
   "cell_type": "markdown",
   "metadata": {},
   "source": [
    "Связь между продолжительностью фильма и его рейтингом очень слабая, коэффициент корреляции Пирсона близок к нулю. Вывод: либо связи действительно почти нет, либо она нелинейная. Посмотрим на диаграмму рассеивания:"
   ]
  },
  {
   "cell_type": "code",
   "execution_count": 44,
   "metadata": {},
   "outputs": [
    {
     "data": {
      "image/png": "[encoded data removed]",
      "text/plain": [
       "<Figure size 432x288 with 1 Axes>"
      ]
     },
     "metadata": {
      "needs_background": "light"
     },
     "output_type": "display_data"
    }
   ],
   "source": [
    "films.plot.scatter(x = \"Runtime\", y = \"IMDB Score\");"
   ]
  },
  {
   "cell_type": "markdown",
   "metadata": {},
   "source": [
    "Судя по всему, связи действительно нет, каких-то намеков на нелинейность или на наличие связи в определенных группах нет. \n",
    "\n",
    "Последняя задача – давайте проверим, есть ли связь между годом выхода фильма и его рейтингом. Для этого нам сначала потребуется извлечь год из даты премьеры:"
   ]
  },
  {
   "cell_type": "code",
   "execution_count": 45,
   "metadata": {},
   "outputs": [
    {
     "data": {
      "text/plain": [
       "0         August 5, 2019\n",
       "1        August 21, 2020\n",
       "2      December 26, 2019\n",
       "3       January 19, 2018\n",
       "4       October 30, 2020\n",
       "             ...        \n",
       "579    December 31, 2018\n",
       "580      October 9, 2015\n",
       "581    December 16, 2018\n",
       "582     December 8, 2020\n",
       "583      October 4, 2020\n",
       "Name: Premiere, Length: 584, dtype: object"
      ]
     },
     "execution_count": 45,
     "metadata": {},
     "output_type": "execute_result"
    }
   ],
   "source": [
    "films[\"Premiere\"]"
   ]
  },
  {
   "cell_type": "markdown",
   "metadata": {},
   "source": [
    "Воспользуемся методом `.split()` из подмодуля `str` и разобьем дату по запятой:"
   ]
  },
  {
   "cell_type": "code",
   "execution_count": 46,
   "metadata": {},
   "outputs": [
    {
     "data": {
      "text/plain": [
       "0         [August 5,  2019]\n",
       "1        [August 21,  2020]\n",
       "2      [December 26,  2019]\n",
       "3       [January 19,  2018]\n",
       "4       [October 30,  2020]\n",
       "               ...         \n",
       "579    [December 31,  2018]\n",
       "580      [October 9,  2015]\n",
       "581    [December 16,  2018]\n",
       "582     [December 8,  2020]\n",
       "583      [October 4,  2020]\n",
       "Name: Premiere, Length: 584, dtype: object"
      ]
     },
     "execution_count": 46,
     "metadata": {},
     "output_type": "execute_result"
    }
   ],
   "source": [
    "# на выходе – новый столбец со списками\n",
    "\n",
    "films[\"Premiere\"].str.split(\",\")"
   ]
  },
  {
   "cell_type": "markdown",
   "metadata": {},
   "source": [
    "Со списками внутри столбца работать не очень удобно, «растянем» списки на несколько столбцов:"
   ]
  },
  {
   "cell_type": "code",
   "execution_count": 47,
   "metadata": {},
   "outputs": [
    {
     "data": {
      "text/html": [
       "<div>\n",
       "<style scoped>\n",
       "    .dataframe tbody tr th:only-of-type {\n",
       "        vertical-align: middle;\n",
       "    }\n",
       "\n",
       "    .dataframe tbody tr th {\n",
       "        vertical-align: top;\n",
       "    }\n",
       "\n",
       "    .dataframe thead th {\n",
       "        text-align: right;\n",
       "    }\n",
       "</style>\n",
       "<table border=\"1\" class=\"dataframe\">\n",
       "  <thead>\n",
       "    <tr style=\"text-align: right;\">\n",
       "      <th></th>\n",
       "      <th>0</th>\n",
       "      <th>1</th>\n",
       "    </tr>\n",
       "  </thead>\n",
       "  <tbody>\n",
       "    <tr>\n",
       "      <th>0</th>\n",
       "      <td>August 5</td>\n",
       "      <td>2019</td>\n",
       "    </tr>\n",
       "    <tr>\n",
       "      <th>1</th>\n",
       "      <td>August 21</td>\n",
       "      <td>2020</td>\n",
       "    </tr>\n",
       "    <tr>\n",
       "      <th>2</th>\n",
       "      <td>December 26</td>\n",
       "      <td>2019</td>\n",
       "    </tr>\n",
       "    <tr>\n",
       "      <th>3</th>\n",
       "      <td>January 19</td>\n",
       "      <td>2018</td>\n",
       "    </tr>\n",
       "    <tr>\n",
       "      <th>4</th>\n",
       "      <td>October 30</td>\n",
       "      <td>2020</td>\n",
       "    </tr>\n",
       "    <tr>\n",
       "      <th>...</th>\n",
       "      <td>...</td>\n",
       "      <td>...</td>\n",
       "    </tr>\n",
       "    <tr>\n",
       "      <th>579</th>\n",
       "      <td>December 31</td>\n",
       "      <td>2018</td>\n",
       "    </tr>\n",
       "    <tr>\n",
       "      <th>580</th>\n",
       "      <td>October 9</td>\n",
       "      <td>2015</td>\n",
       "    </tr>\n",
       "    <tr>\n",
       "      <th>581</th>\n",
       "      <td>December 16</td>\n",
       "      <td>2018</td>\n",
       "    </tr>\n",
       "    <tr>\n",
       "      <th>582</th>\n",
       "      <td>December 8</td>\n",
       "      <td>2020</td>\n",
       "    </tr>\n",
       "    <tr>\n",
       "      <th>583</th>\n",
       "      <td>October 4</td>\n",
       "      <td>2020</td>\n",
       "    </tr>\n",
       "  </tbody>\n",
       "</table>\n",
       "<p>584 rows × 2 columns</p>\n",
       "</div>"
      ],
      "text/plain": [
       "               0      1\n",
       "0       August 5   2019\n",
       "1      August 21   2020\n",
       "2    December 26   2019\n",
       "3     January 19   2018\n",
       "4     October 30   2020\n",
       "..           ...    ...\n",
       "579  December 31   2018\n",
       "580    October 9   2015\n",
       "581  December 16   2018\n",
       "582   December 8   2020\n",
       "583    October 4   2020\n",
       "\n",
       "[584 rows x 2 columns]"
      ]
     },
     "execution_count": 47,
     "metadata": {},
     "output_type": "execute_result"
    }
   ],
   "source": [
    "# expand = True –  вместо столбца со списками несколько столбцов\n",
    "\n",
    "films[\"Premiere\"].str.split(\",\", expand = True)"
   ]
  },
  {
   "cell_type": "markdown",
   "metadata": {},
   "source": [
    "Заберем только столбец с годом – столбец с индексом 1 – и превратим его в числовой:"
   ]
  },
  {
   "cell_type": "code",
   "execution_count": 48,
   "metadata": {},
   "outputs": [],
   "source": [
    "films[\"Year\"] = films[\"Premiere\"].str.split(\",\", expand = True)[1].astype(float)"
   ]
  },
  {
   "cell_type": "markdown",
   "metadata": {},
   "source": [
    "Почему в `.astype()` мы указали тип `float`, если год всегда целочисленный? В столбце 1 почему-то образовались пропуски, а числовой столбец с пропусками всегда будет типом `float`, тип `integer` их не поддерживает. Посмотрим, в каких фильмах вместо года образовались пропущенные значения:"
   ]
  },
  {
   "cell_type": "code",
   "execution_count": 49,
   "metadata": {},
   "outputs": [
    {
     "data": {
      "text/html": [
       "<div>\n",
       "<style scoped>\n",
       "    .dataframe tbody tr th:only-of-type {\n",
       "        vertical-align: middle;\n",
       "    }\n",
       "\n",
       "    .dataframe tbody tr th {\n",
       "        vertical-align: top;\n",
       "    }\n",
       "\n",
       "    .dataframe thead th {\n",
       "        text-align: right;\n",
       "    }\n",
       "</style>\n",
       "<table border=\"1\" class=\"dataframe\">\n",
       "  <thead>\n",
       "    <tr style=\"text-align: right;\">\n",
       "      <th></th>\n",
       "      <th>Title</th>\n",
       "      <th>Genre</th>\n",
       "      <th>Premiere</th>\n",
       "      <th>Runtime</th>\n",
       "      <th>IMDB Score</th>\n",
       "      <th>Language</th>\n",
       "      <th>Year</th>\n",
       "    </tr>\n",
       "  </thead>\n",
       "  <tbody>\n",
       "    <tr>\n",
       "      <th>111</th>\n",
       "      <td>Ghosts of Sugar Land</td>\n",
       "      <td>Documentary</td>\n",
       "      <td>October 16. 2019</td>\n",
       "      <td>21.0</td>\n",
       "      <td>5.5</td>\n",
       "      <td>English</td>\n",
       "      <td>NaN</td>\n",
       "    </tr>\n",
       "    <tr>\n",
       "      <th>308</th>\n",
       "      <td>Strong Island</td>\n",
       "      <td>Documentary</td>\n",
       "      <td>September 15. 2017</td>\n",
       "      <td>107.0</td>\n",
       "      <td>6.4</td>\n",
       "      <td>English</td>\n",
       "      <td>NaN</td>\n",
       "    </tr>\n",
       "    <tr>\n",
       "      <th>387</th>\n",
       "      <td>Tony Robbins: I Am Not Your Guru</td>\n",
       "      <td>Documentary</td>\n",
       "      <td>July 15. 2016</td>\n",
       "      <td>116.0</td>\n",
       "      <td>6.7</td>\n",
       "      <td>English</td>\n",
       "      <td>NaN</td>\n",
       "    </tr>\n",
       "    <tr>\n",
       "      <th>538</th>\n",
       "      <td>Joan Didion: The Center Will Not Hold</td>\n",
       "      <td>Documentary</td>\n",
       "      <td>October 27. 2017</td>\n",
       "      <td>98.0</td>\n",
       "      <td>7.5</td>\n",
       "      <td>English</td>\n",
       "      <td>NaN</td>\n",
       "    </tr>\n",
       "    <tr>\n",
       "      <th>541</th>\n",
       "      <td>The White Helmets</td>\n",
       "      <td>Documentary</td>\n",
       "      <td>September 16. 2016</td>\n",
       "      <td>40.0</td>\n",
       "      <td>7.5</td>\n",
       "      <td>English</td>\n",
       "      <td>NaN</td>\n",
       "    </tr>\n",
       "  </tbody>\n",
       "</table>\n",
       "</div>"
      ],
      "text/plain": [
       "                                     Title        Genre            Premiere  \\\n",
       "111                   Ghosts of Sugar Land  Documentary    October 16. 2019   \n",
       "308                          Strong Island  Documentary  September 15. 2017   \n",
       "387       Tony Robbins: I Am Not Your Guru  Documentary       July 15. 2016   \n",
       "538  Joan Didion: The Center Will Not Hold  Documentary    October 27. 2017   \n",
       "541                      The White Helmets  Documentary  September 16. 2016   \n",
       "\n",
       "     Runtime  IMDB Score Language  Year  \n",
       "111     21.0         5.5  English   NaN  \n",
       "308    107.0         6.4  English   NaN  \n",
       "387    116.0         6.7  English   NaN  \n",
       "538     98.0         7.5  English   NaN  \n",
       "541     40.0         7.5  English   NaN  "
      ]
     },
     "execution_count": 49,
     "metadata": {},
     "output_type": "execute_result"
    }
   ],
   "source": [
    "films[films[\"Year\"].isnull()]"
   ]
  },
  {
   "cell_type": "markdown",
   "metadata": {},
   "source": [
    "Проблема была в том, что в столбце `Premiere` были даты с точкой вместо запятой. Чуть позже можем заменить точки на запятые и повторить манипуляции с годами, чтобы не потерять эти пять фильмов, пока их просто проигнорируем:"
   ]
  },
  {
   "cell_type": "code",
   "execution_count": 50,
   "metadata": {},
   "outputs": [],
   "source": [
    "# удаляем пропуски – кроме NaN в Year больше нигде нет,\n",
    "# больше ничего не теряем\n",
    "\n",
    "films.dropna(inplace = True)"
   ]
  },
  {
   "cell_type": "markdown",
   "metadata": {},
   "source": [
    "Вычислим коэффициент Пирсона и проверим его значимость:"
   ]
  },
  {
   "cell_type": "code",
   "execution_count": 51,
   "metadata": {},
   "outputs": [
    {
     "data": {
      "text/plain": [
       "(-0.1350366145961721, 0.0011251064726095251)"
      ]
     },
     "execution_count": 51,
     "metadata": {},
     "output_type": "execute_result"
    }
   ],
   "source": [
    "st.pearsonr(films[\"Year\"], films[\"IMDB Score\"])"
   ]
  },
  {
   "cell_type": "markdown",
   "metadata": {},
   "source": [
    "Коэффициент Пирсона $-0.14$, отрицательный, небольшой по модулю, связь обратная и слабая. Однако, статистически значимая на 5%-ном и даже 1%-ном уровне значимости, p-value примерно 0.001. Более новые фильмы получают более низкие оценки, но эта тенденция не очень яркая. \n",
    "\n",
    "В целом, коэффициент корреляции Спирмена здесь тоже подойдет – год нельзя считать порядковой шкалой, но набор значений ограничен:"
   ]
  },
  {
   "cell_type": "code",
   "execution_count": 52,
   "metadata": {},
   "outputs": [
    {
     "data": {
      "image/png": "[encoded data removed]",
      "text/plain": [
       "<Figure size 432x288 with 1 Axes>"
      ]
     },
     "metadata": {
      "needs_background": "light"
     },
     "output_type": "display_data"
    }
   ],
   "source": [
    "films.plot.scatter(x = \"Year\", y = \"IMDB Score\");"
   ]
  },
  {
   "cell_type": "markdown",
   "metadata": {},
   "source": [
    "Однако существенных отличий от предыдущих результатов мы не увидим:"
   ]
  },
  {
   "cell_type": "code",
   "execution_count": 53,
   "metadata": {},
   "outputs": [
    {
     "data": {
      "text/plain": [
       "SpearmanrResult(correlation=-0.13159287127656455, pvalue=0.0015065948139173007)"
      ]
     },
     "execution_count": 53,
     "metadata": {},
     "output_type": "execute_result"
    }
   ],
   "source": [
    "st.spearmanr(films[\"Year\"], films[\"IMDB Score\"])"
   ]
  },
  {
   "cell_type": "markdown",
   "metadata": {},
   "source": [
    "**Дополнительно для желающих.** Если не хотим потерять фильмы с другим форматом даты премьеры, выполним замену точку на запятую, а потом произведем разбиение и извлечение года. Так как ранее строки с пропусками мы уже удалили, загрузим файл еще раз и выполним преобразования из первой части практикума:"
   ]
  },
  {
   "cell_type": "code",
   "execution_count": 54,
   "metadata": {},
   "outputs": [],
   "source": [
    "films = pd.read_csv(\"Netflix.csv\")\n",
    "films[\"Runtime\"] = films[\"Runtime\"].fillna(films[\"Runtime\"].median())\n",
    "films[\"IMDB Score\"] = films[\"IMDB Score\"].fillna(films[\"IMDB Score\"].median())"
   ]
  },
  {
   "cell_type": "markdown",
   "metadata": {},
   "source": [
    "Заменяем `.` на `,` , при этом используем не обычный `.replace()`, а `.replace()` из `str`. Обычный `.replace()` будет искать ячейки, равные `.`, а вариант из `str` будет искать `.` в тексте внутри ячеек и выполнять замену при необходимости:"
   ]
  },
  {
   "cell_type": "code",
   "execution_count": 55,
   "metadata": {},
   "outputs": [
    {
     "name": "stderr",
     "output_type": "stream",
     "text": [
      "/opt/anaconda3/lib/python3.7/site-packages/ipykernel_launcher.py:1: FutureWarning: The default value of regex will change from True to False in a future version. In addition, single character regular expressions will *not* be treated as literal strings when regex=True.\n",
      "  \"\"\"Entry point for launching an IPython kernel.\n"
     ]
    }
   ],
   "source": [
    "films[\"Premiere\"] = films[\"Premiere\"].str.replace(\".\", \",\")"
   ]
  },
  {
   "cell_type": "markdown",
   "metadata": {},
   "source": [
    "Пропусков уже быть не должно, столбец можно сделать типом `int`:"
   ]
  },
  {
   "cell_type": "code",
   "execution_count": 56,
   "metadata": {},
   "outputs": [],
   "source": [
    "films[\"Year\"] = films[\"Premiere\"].str.split(\",\", expand = True)[1].astype(int)"
   ]
  },
  {
   "cell_type": "code",
   "execution_count": 57,
   "metadata": {},
   "outputs": [
    {
     "data": {
      "text/plain": [
       "0"
      ]
     },
     "execution_count": 57,
     "metadata": {},
     "output_type": "execute_result"
    }
   ],
   "source": [
    "films[\"Year\"].isnull().sum()"
   ]
  }
 ],
 "metadata": {
  "kernelspec": {
   "display_name": "Python 3",
   "language": "python",
   "name": "python3"
  },
  "language_info": {
   "codemirror_mode": {
    "name": "ipython",
    "version": 3
   },
   "file_extension": ".py",
   "mimetype": "text/x-python",
   "name": "python",
   "nbconvert_exporter": "python",
   "pygments_lexer": "ipython3",
   "version": "3.7.4"
  }
 },
 "nbformat": 4,
 "nbformat_minor": 2
}
