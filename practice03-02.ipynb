{
 "cells": [
  {
   "cell_type": "markdown",
   "metadata": {},
   "source": [
    "# Основы анализа данных в Python\n",
    "\n",
    "*Алла Тамбовцева*\n",
    "\n",
    "## Практикум 3.2. Обработка опросных данных и визуализация качественных данных"
   ]
  },
  {
   "cell_type": "markdown",
   "metadata": {},
   "source": [
    "## Часть 1: подготовка данных"
   ]
  },
  {
   "cell_type": "markdown",
   "metadata": {},
   "source": [
    "Импортируем библиотеку `pandas` и модуль `pyplot` из библиотеки `matplotlib` для отрисовки графиков:"
   ]
  },
  {
   "cell_type": "code",
   "execution_count": null,
   "metadata": {},
   "outputs": [],
   "source": [
    "import pandas as pd\n",
    "import matplotlib.pyplot as plt"
   ]
  },
  {
   "cell_type": "markdown",
   "metadata": {},
   "source": [
    "Загрузим данные из Excel-файла с результатами сказочного опроса. Так как в файле Excel несколько листов (выбор героев на основе текстового описания, лайки и дизлайки, итоговый выбор героев, информация по актерам), загрузим каждый из них в отдельный датафрейм:"
   ]
  },
  {
   "cell_type": "code",
   "execution_count": null,
   "metadata": {},
   "outputs": [],
   "source": [
    "# в sheet_name может быть название листа или его индекс\n",
    "# лист с актерами пока не трогаем\n",
    "\n",
    "start = pd.read_excel(\"NPK_fin.xlsx\", sheet_name = \"описание\")\n",
    "likes = pd.read_excel(\"NPK_fin.xlsx\", sheet_name = \"лайки\")\n",
    "end = pd.read_excel(\"NPK_fin.xlsx\", sheet_name = \"итоговый выбор\")"
   ]
  },
  {
   "cell_type": "markdown",
   "metadata": {},
   "source": [
    "Посмотрим на первые 5 строк из каждого датафрейма и убедимся, что датафреймы имеют одинаковую структуру:"
   ]
  },
  {
   "cell_type": "code",
   "execution_count": null,
   "metadata": {},
   "outputs": [],
   "source": [
    "start.head()"
   ]
  },
  {
   "cell_type": "code",
   "execution_count": null,
   "metadata": {},
   "outputs": [],
   "source": [
    "end.head()"
   ]
  },
  {
   "cell_type": "code",
   "execution_count": null,
   "metadata": {},
   "outputs": [],
   "source": [
    "likes.head()"
   ]
  },
  {
   "cell_type": "markdown",
   "metadata": {},
   "source": [
    "Возьмем для примера датафрейм `start` и запросим по нему техническую информацию:"
   ]
  },
  {
   "cell_type": "code",
   "execution_count": null,
   "metadata": {},
   "outputs": [],
   "source": [
    "start.info()"
   ]
  },
  {
   "cell_type": "markdown",
   "metadata": {},
   "source": [
    "Так как номер опроса – показатель качественный, а не количественный, превратим его в текст:"
   ]
  },
  {
   "cell_type": "code",
   "execution_count": null,
   "metadata": {},
   "outputs": [],
   "source": [
    "# вспоминаем про метод .astype() \n",
    "# и меняем тип столбца в каждом датафрейме\n",
    "\n",
    "start[\"опрос\"] = start[\"опрос\"].astype(str)\n",
    "end[\"опрос\"] = end[\"опрос\"].astype(str)\n",
    "likes[\"опрос\"] = likes[\"опрос\"].astype(str)"
   ]
  },
  {
   "cell_type": "markdown",
   "metadata": {},
   "source": [
    "Так как выбор героев в нашем случае представлен в бинарном виде, никто не мешает просуммировать столбцы и получить число респондентов, проголосовавших за каждого из героев. Посмотрим, каких героев выбирали чаще, а каких – реже, причем отдельно оценим выбор в начале опроса и в конце:"
   ]
  },
  {
   "cell_type": "code",
   "execution_count": null,
   "metadata": {},
   "outputs": [],
   "source": [
    "# numeric_only = True: выбор только числовых столбцов\n",
    "# добавляем сортировку по убыванию\n",
    "\n",
    "print(\"Выбор по текстовому описанию:\")\n",
    "start.sum(numeric_only = True).sort_values(ascending = False)"
   ]
  },
  {
   "cell_type": "code",
   "execution_count": null,
   "metadata": {},
   "outputs": [],
   "source": [
    "print(\"Итоговый выбор:\")\n",
    "end.sum(numeric_only = True).sort_values(ascending = False)"
   ]
  },
  {
   "cell_type": "markdown",
   "metadata": {},
   "source": [
    "Не забудем про лайки и дизлайки:"
   ]
  },
  {
   "cell_type": "code",
   "execution_count": null,
   "metadata": {},
   "outputs": [],
   "source": [
    "print(\"Лайки и дизлайки:\")\n",
    "likes.sum(numeric_only = True).sort_values(ascending = False)"
   ]
  },
  {
   "cell_type": "markdown",
   "metadata": {},
   "source": [
    "Теперь перейдем к построению графиков. Логичнее всего смотреть на итоговый выбор, на нем пока и остановимся."
   ]
  },
  {
   "cell_type": "markdown",
   "metadata": {},
   "source": [
    "## Часть 2: визуализация качественных данных"
   ]
  },
  {
   "cell_type": "markdown",
   "metadata": {},
   "source": [
    "### Задача 1\n",
    "\n",
    "Из датафрейма с итоговым выбором `end` выберите строки, соответствующие политологам и студентам схожих специальностей (профиль `политология и управление`), и сохраните их в датафрейм `polit`."
   ]
  },
  {
   "cell_type": "code",
   "execution_count": null,
   "metadata": {},
   "outputs": [],
   "source": [
    "# YOUR CODE HERE"
   ]
  },
  {
   "cell_type": "markdown",
   "metadata": {},
   "source": [
    "### Задача 2\n",
    "\n",
    "Просуммируйте все числовые столбцы в `polit` и отсортируйте строки в полученной таблице в порядке убывания результатов суммирования. Сохраните таблицу с названием `tab`."
   ]
  },
  {
   "cell_type": "code",
   "execution_count": null,
   "metadata": {},
   "outputs": [],
   "source": [
    "# YOUR CODE HERE"
   ]
  },
  {
   "cell_type": "markdown",
   "metadata": {},
   "source": [
    "### Задача 3\n",
    "\n",
    "Используя таблицу `tab`, постройте столбиковую диаграмму для итогового выбора героев. "
   ]
  },
  {
   "cell_type": "code",
   "execution_count": null,
   "metadata": {},
   "outputs": [],
   "source": [
    "# YOUR CODE HERE"
   ]
  },
  {
   "cell_type": "markdown",
   "metadata": {},
   "source": [
    "### Задача 4\n",
    "\n",
    "Усовершенствуйте полученную диаграмму: \n",
    "\n",
    "* настройте цвета;\n",
    "* добавьте подписи к осям;\n",
    "\n",
    "Сделайте картинку размера 16 на 9 дюймов с разрешением 300 точек на дюйм и выгрузите в png-файл."
   ]
  },
  {
   "cell_type": "code",
   "execution_count": null,
   "metadata": {},
   "outputs": [],
   "source": [
    "# список цветов для примера\n",
    "\n",
    "cc = [\"#fd7f6f\", \"#7eb0d5\", \"#b2e061\", \"#bd7ebe\", \"#ffb55a\",\n",
    "      \"#ffee65\", \"#beb9db\", \"#fdcce5\", \"#8bd3c7\", \"#0d88e6\"]\n",
    "\n",
    "# для создания графика желаемого размера с хорошим разрешением\n",
    "\n",
    "fig, ax = plt.subplots(figsize = (16, 9), dpi = 300)\n",
    "\n",
    "# YOUR CODE HERE"
   ]
  },
  {
   "cell_type": "markdown",
   "metadata": {},
   "source": [
    "### Задача 5\n",
    "\n",
    "Постройте круговую диаграмму для итогового выбора героев. "
   ]
  },
  {
   "cell_type": "code",
   "execution_count": null,
   "metadata": {},
   "outputs": [],
   "source": [
    "# YOUR CODE HERE\n",
    "\n",
    "plt.pie(y, labels = x, colors = cc, autopct = \"%.2f%%\");"
   ]
  },
  {
   "cell_type": "markdown",
   "metadata": {},
   "source": [
    "### Задача 6\n",
    "\n",
    "Постройте кольцевую диаграмму для итогового выбора героев."
   ]
  },
  {
   "cell_type": "code",
   "execution_count": null,
   "metadata": {},
   "outputs": [],
   "source": [
    "# вот тут нужна магия – надо очертить белый круг\n",
    "\n",
    "centre_circle = plt.Circle((0, 0), 0.4, fc = 'white')\n",
    "fig = plt.gcf()\n",
    "\n",
    "# скопируйте код для круговой диаграммы сюда\n",
    "\n",
    "fig.gca().add_artist(centre_circle);"
   ]
  },
  {
   "cell_type": "markdown",
   "metadata": {},
   "source": [
    "## Часть 3: агрегирование и сравнение по группам"
   ]
  },
  {
   "cell_type": "markdown",
   "metadata": {},
   "source": [
    "В предыдущей части мы работали только с итоговым выбором героя из датафрейма `end`. Однако более логично было бы попытаться построить сводный индекс одобрения героев, чтобы сохранить как можно больше информации о предпочтениях респондентов. \n",
    "\n",
    "Итак, на входе по каждому герою у нас есть три набора данных из 0 и 1: одобрение/неодобрение по текстовому описанию, одобрение/неодобрение по кадрам и одобрение/неодобрение при итоговом выборе. Никто не мешает объединить эти наборы простым суммированием и получить единый индекс одобрения героев. Если герой совсем не понравился респонденту, по всем трем измерениям у него будут нули, если понравился во всех аспектах, по всем трем измерениям у него будут единицы. В итоге при суммировании измерений мы получим вполне себе количественный индекс, принимающий целые значения от 0 до 3.\n",
    "\n",
    "Проделаем эти манипуляции для всех героев (не закапываемся в циклы, поэтому честно пишем 10 строчек, по одному для каждого героя):"
   ]
  },
  {
   "cell_type": "code",
   "execution_count": null,
   "metadata": {},
   "outputs": [],
   "source": [
    "king = start[\"Теодор\"] + end[\"Теодор\"] + likes[\"Теодор\"]\n",
    "queen = start[\"Флора\"] + end[\"Флора\"] + likes[\"Флора\"]\n",
    "princess = start[\"Альбина\"] + end[\"Альбина\"] + likes[\"Альбина\"]\n",
    "poet = start[\"Патрик\"] + end[\"Патрик\"] + likes[\"Патрик\"]\n",
    "prince = start[\"Пенапью\"] + end[\"Пенапью\"] + likes[\"Пенапью\"]\n",
    "kanzler = start[\"Давиль\"] + end[\"Давиль\"] + likes[\"Давиль\"]\n",
    "kanzler_wife = start[\"Оттилия\"] + end[\"Оттилия\"] + likes[\"Оттилия\"]\n",
    "actor = start[\"Жак\"] + end[\"Жак\"] + likes[\"Жак\"]\n",
    "actress = start[\"Марта\"] + end[\"Марта\"] + likes[\"Марта\"]\n",
    "maid = start[\"Марселла\"] + end[\"Марселла\"] + likes[\"Марселла\"]"
   ]
  },
  {
   "cell_type": "markdown",
   "metadata": {},
   "source": [
    "Посколько здесь нас интересуют не столько сами герои, сколько то, какие студенты их выбирали чаще всего, заберем из датафрейма `start` столбцы с характеристиками самих респондентов – профиль и пол – и соберем все полученные данные в единый датафрейм `pref`:"
   ]
  },
  {
   "cell_type": "code",
   "execution_count": null,
   "metadata": {},
   "outputs": [],
   "source": [
    "pref = pd.DataFrame({\"профиль\" : start[\"профиль\"], \n",
    "                     \"пол\" : start[\"пол\"], \n",
    "                     \"опрос\" : start[\"опрос\"],\n",
    "                     \"Теодор\" : king, \n",
    "                     \"Флора\" : queen, \n",
    "                     \"Альбина\" : princess, \n",
    "                     \"Патрик\" : poet, \n",
    "                     \"Пенапью\" : prince, \n",
    "                     \"Давиль\" : kanzler,\n",
    "                     \"Оттилия\" : kanzler_wife,\n",
    "                     \"Жак\" : actor, \n",
    "                     \"Марта\" : actress,\n",
    "                     \"Марселла\" : maid})"
   ]
  },
  {
   "cell_type": "markdown",
   "metadata": {},
   "source": [
    "Посмотрим на первые 5 строк:"
   ]
  },
  {
   "cell_type": "code",
   "execution_count": null,
   "metadata": {},
   "outputs": [],
   "source": [
    "pref.head()"
   ]
  },
  {
   "cell_type": "markdown",
   "metadata": {},
   "source": [
    "Вспомним группировку и агрегирование!"
   ]
  },
  {
   "cell_type": "markdown",
   "metadata": {},
   "source": [
    "### Задача 7\n",
    "\n",
    "Сгруппируйте данные по полу и вычислите средний рейтинг одобрения для каждого из героев."
   ]
  },
  {
   "cell_type": "code",
   "execution_count": null,
   "metadata": {},
   "outputs": [],
   "source": [
    "### YOUR CODE HERE\n",
    "\n",
    "# в новой версии pandas добавьте внутрь agg() \n",
    "# аргумент numeric_only = True"
   ]
  },
  {
   "cell_type": "markdown",
   "metadata": {},
   "source": [
    "### Задача 8\n",
    "\n",
    "Сгруппируйте данные по профилю и вычислите средний рейтинг одобрения для каждого из героев."
   ]
  },
  {
   "cell_type": "code",
   "execution_count": null,
   "metadata": {},
   "outputs": [],
   "source": [
    "### YOUR CODE HERE"
   ]
  },
  {
   "cell_type": "markdown",
   "metadata": {},
   "source": [
    "### Задача 9\n",
    "\n",
    "Сгруппируйте данные по профилю и полу и вычислите средний рейтинг одобрения для каждого из героев."
   ]
  },
  {
   "cell_type": "code",
   "execution_count": null,
   "metadata": {},
   "outputs": [],
   "source": [
    "### YOUR CODE HERE"
   ]
  }
 ],
 "metadata": {
  "kernelspec": {
   "display_name": "Python 3",
   "language": "python",
   "name": "python3"
  },
  "language_info": {
   "codemirror_mode": {
    "name": "ipython",
    "version": 3
   },
   "file_extension": ".py",
   "mimetype": "text/x-python",
   "name": "python",
   "nbconvert_exporter": "python",
   "pygments_lexer": "ipython3",
   "version": "3.7.4"
  }
 },
 "nbformat": 4,
 "nbformat_minor": 2
}
