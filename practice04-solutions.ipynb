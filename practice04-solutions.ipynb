{
 "cells": [
  {
   "cell_type": "markdown",
   "metadata": {},
   "source": [
    "# Основы анализа данных в Python\n",
    "\n",
    "*Алла Тамбовцева*\n",
    "\n",
    "## Практикум 4. Доверительные интервалы\n"
   ]
  },
  {
   "cell_type": "markdown",
   "metadata": {},
   "source": [
    "Импортируем необходимые библиотеки:\n",
    "    \n",
    "* `numpy`: для математических функций и работы с массивами;\n",
    "* модуль `stats` из `scipy` для статистических вычислений."
   ]
  },
  {
   "cell_type": "code",
   "execution_count": 1,
   "metadata": {},
   "outputs": [],
   "source": [
    "import numpy as np\n",
    "from scipy import stats as st"
   ]
  },
  {
   "cell_type": "markdown",
   "metadata": {},
   "source": [
    "## Часть 1: работаем с формулами"
   ]
  },
  {
   "cell_type": "markdown",
   "metadata": {},
   "source": [
    "### Задача 1: доверительный интервал для среднего\n",
    "\n",
    "*Из независимого экзамена*\n",
    "\n",
    "Винни-Пух в течение 150 дней фиксировал изменения количества пчёл в улье. Он уверен, что полученные наблюдения являются выборкой независимых одинаково распределённых нормальных случайных величин. Оказалось, что среднее количество пчёл равно 25000, а выборочная дисперсия равна 1300. Постройте 95%-ый доверительный интервал для математического ожидания количества пчёл в улье, используя Z-оценку, и выпишите в ответ его нижнюю границу, округлённую до целого."
   ]
  },
  {
   "cell_type": "markdown",
   "metadata": {},
   "source": [
    "### Решение 1: формулы only"
   ]
  },
  {
   "cell_type": "markdown",
   "metadata": {},
   "source": [
    "Зафиксируем все параметры из условия:\n",
    "\n",
    "* `n`: объем выборки;\n",
    "* `mean`: среднее выборки;\n",
    "* `s2`: выборочная дисперсия; "
   ]
  },
  {
   "cell_type": "code",
   "execution_count": 2,
   "metadata": {},
   "outputs": [],
   "source": [
    "n = 150\n",
    "mean = 25000\n",
    "s2 = 1300"
   ]
  },
  {
   "cell_type": "markdown",
   "metadata": {},
   "source": [
    "Вспомним, как строится 95%-ный доверительный интервал для среднего (в предположении, что выборка достаточно большая и взята из нормального распределения или близкого к нему):\n",
    "\n",
    "$$\n",
    "\\text{mean} - 2 \\times \\text{SE} < \\mu < \\text{mean} + 2 \\times \\text{SE}.\n",
    "$$\n",
    "\n",
    "Здесь $\\mu$ – среднее генеральной совокупности, которое нам неизвестно и которое мы хотим оценить с помощью доверительного интервала, $\\text{mean}$ – среднее, полученное по выборке, $\\text{SE}$ – стандартное отклонение среднего, тоже полученное по выборке, которое вычисляется на основе стандартного отклонения самой выборки $s$ и ее объема $n$:\n",
    "\n",
    "$$\n",
    "\\text{SE} = \\frac{s}{\\sqrt{n}}.\n",
    "$$\n"
   ]
  },
  {
   "cell_type": "markdown",
   "metadata": {},
   "source": [
    "Вычисляем стандартную ошибку:"
   ]
  },
  {
   "cell_type": "code",
   "execution_count": 3,
   "metadata": {},
   "outputs": [
    {
     "name": "stdout",
     "output_type": "stream",
     "text": [
      "2.943920288775949\n"
     ]
    }
   ],
   "source": [
    "SE = np.sqrt(s2) / np.sqrt(n)\n",
    "print(SE)"
   ]
  },
  {
   "cell_type": "markdown",
   "metadata": {},
   "source": [
    "Вычисляем границы доверительного интервала:"
   ]
  },
  {
   "cell_type": "code",
   "execution_count": 4,
   "metadata": {},
   "outputs": [
    {
     "data": {
      "text/plain": [
       "(24994.11215942245, 25005.88784057755)"
      ]
     },
     "execution_count": 4,
     "metadata": {},
     "output_type": "execute_result"
    }
   ],
   "source": [
    "(mean - 2 * SE, mean + 2 * SE)"
   ]
  },
  {
   "cell_type": "markdown",
   "metadata": {},
   "source": [
    "На всякий случай вычислим границы 95%-ного доверительного интервала поточнее – вспомним, что на самом деле, если мы используем z-оценку, то есть квантиль стандартного нормального распределения, нам нужно домножать стандартную ошибку не на 2, а на 1.96:"
   ]
  },
  {
   "cell_type": "code",
   "execution_count": 5,
   "metadata": {},
   "outputs": [
    {
     "data": {
      "text/plain": [
       "(24994.229916234, 25005.770083766)"
      ]
     },
     "execution_count": 5,
     "metadata": {},
     "output_type": "execute_result"
    }
   ],
   "source": [
    "(mean - 1.96 * SE, mean + 1.96 * SE)"
   ]
  },
  {
   "cell_type": "markdown",
   "metadata": {},
   "source": [
    "Если округлим полученные границы, получим интервал [24994, 25006]. Значит, с 95%-ной уверенностью мы можем утверждать, что среднее число пчел в ульях лежит в интервале от 24994 до 25006. В ответ задачи пойдет число 24994 – нам была нужна нижняя граница интервала, округленная до целого."
   ]
  },
  {
   "cell_type": "markdown",
   "metadata": {},
   "source": [
    "### Решение 2: подключаем `scipy.stats`"
   ]
  },
  {
   "cell_type": "markdown",
   "metadata": {},
   "source": [
    "В модуле `stats` библиотеки `scipy` есть функция `norm.interval()` для построения доверительных интервалов с использованием z-оценок (квантилей стандартного нормального распределения) и функция `t.interval()` для построения доверительных интервалов с использованием t-оценок (квантилей распределения Стьюдента). Первая функция подходит для построения доверительных интервалов для доли или среднего в случае большой выборки, вторая функция – для построения доверительных интервалов для среднего в случае выборки любого размера. \n",
    "\n",
    "Плюс этих функций: они сами считают необходимое z-значение или t-значение, исходя из заданного уровня доверия и объема выборки. Минус этих функций: на вход они принимают стандартную ошибку доли или среднего, поэтому предварительно ее нужно посчитать самим.\n",
    "\n",
    "Применим функцию для решения нашей задачи. Раз нам нужен интервал с использованием z-оценки, возьмем функцию `norm.interval()`:"
   ]
  },
  {
   "cell_type": "code",
   "execution_count": 6,
   "metadata": {},
   "outputs": [
    {
     "data": {
      "text/plain": [
       "(24994.230022260643, 25005.769977739357)"
      ]
     },
     "execution_count": 6,
     "metadata": {},
     "output_type": "execute_result"
    }
   ],
   "source": [
    "# st – из stats, его импортировали в самом начале\n",
    "# на первом месте уровень доверия\n",
    "# loc: центр интервала, здесь среднее\n",
    "# scale: разброс, здесь стандартная ошибка среднего\n",
    "\n",
    "st.norm.interval(0.95, loc = mean, scale = SE)"
   ]
  },
  {
   "cell_type": "markdown",
   "metadata": {},
   "source": [
    "Получили те же самые границы, но более точные. Если бы использовали t-оценки, то есть квантили из распределения Стьюдента (строго говоря, их и надо использовать, просто когда выборка большая, соответствующее число степеней свободы распределения Стьюдента тоже большое, поэтому само распределение практически неотличимо от стандартного распределения), нам понадобилась бы функция `t.interval()`:"
   ]
  },
  {
   "cell_type": "code",
   "execution_count": 7,
   "metadata": {},
   "outputs": [
    {
     "data": {
      "text/plain": [
       "(24994.18277471534, 25005.81722528466)"
      ]
     },
     "execution_count": 7,
     "metadata": {},
     "output_type": "execute_result"
    }
   ],
   "source": [
    "# df – число степеней свободы, df = n - 1 \n",
    "\n",
    "st.t.interval(0.95, loc = mean, scale = SE, df = n - 1)"
   ]
  },
  {
   "cell_type": "markdown",
   "metadata": {},
   "source": [
    "Теперь еще более точные границы :) Для маленьких выборок объема менее 30 наблюдений будет актуально, потому что на маленьких объемах приближать распределение Стьюдента стандартным нормальным некорректно."
   ]
  },
  {
   "cell_type": "markdown",
   "metadata": {},
   "source": [
    "### Задача 2: доверительный интервал  для доли\n",
    "\n",
    "*Не из независимого экзамена, тут видно*\n",
    "\n",
    "Винни-Пух, прикинувшись тучкой, опросил 1500 пчел и выяснил, что 1020 пчел любят собирать мед на Пуховой опушке, остальные – в лесу. Постройте 90%-ный доверительный интервал для доли пчел, которые любят собирать мед на Пуховой опушке."
   ]
  },
  {
   "cell_type": "markdown",
   "metadata": {},
   "source": [
    "Вспоминаем формулу в более общем виде (для любого уровня доверия):\n",
    "\n",
    "$$\n",
    "\\hat{p} - z^* \\times \\text{SE} < p < \\hat{p} + z^* \\times \\text{SE}.\n",
    "$$\n",
    "\n",
    "Здесь $z^*$ – соответствующее значение квантиля стандартного нормального распределения, $p$ – доля в генеральной совокупности, которая нам неизвестна и которую мы хотим оценить с помощью доверительного интервала, $\\hat{p}$ – доля, полученное по выборке, $\\text{SE}$ – стандартное отклонение доли, тоже полученное по выборке, которое вычисляется на основе $\\hat{p}$ и $n$:\n",
    "\n",
    "$$\n",
    "\\text{SE} = \\frac{\\sqrt{\\hat{p}(1- \\hat{p})}}{\\sqrt{n}}.\n",
    "$$\n"
   ]
  },
  {
   "cell_type": "code",
   "execution_count": 8,
   "metadata": {},
   "outputs": [
    {
     "data": {
      "text/plain": [
       "(0.6601887867507454, 0.6998112132492547)"
      ]
     },
     "execution_count": 8,
     "metadata": {},
     "output_type": "execute_result"
    }
   ],
   "source": [
    "p = 1020 / 1500\n",
    "se_p = np.sqrt(p * (1 - p) / 1500)\n",
    "st.norm.interval(0.9, loc = p, scale = se_p)"
   ]
  },
  {
   "cell_type": "markdown",
   "metadata": {},
   "source": [
    "## Часть 2: работаем с массивами"
   ]
  },
  {
   "cell_type": "markdown",
   "metadata": {},
   "source": [
    "### Доверительный интервал для среднего\n",
    "\n",
    "Представим, что у нас есть массив значений заработной платы (в тысячах рублей) сотрудников некоторой компании:"
   ]
  },
  {
   "cell_type": "code",
   "execution_count": 9,
   "metadata": {},
   "outputs": [],
   "source": [
    "salary = np.array([50, 60, 90, 60, 55, 45, 50, 30, 35])"
   ]
  },
  {
   "cell_type": "markdown",
   "metadata": {},
   "source": [
    "Для того, чтобы построить доверительный интервал для среднего, нам понадобится выборочное среднее и стандартная ошибка среднего. Для вычисления среднего воспользуемся функцией `mean()` из `numpy`, для вычисления стандартной ошибки – функцией `sem()` из `stats` (сокращение от *standard error of a mean*):"
   ]
  },
  {
   "cell_type": "code",
   "execution_count": 10,
   "metadata": {},
   "outputs": [
    {
     "name": "stdout",
     "output_type": "stream",
     "text": [
      "52.77777777777778\n"
     ]
    }
   ],
   "source": [
    "# среднее\n",
    "\n",
    "m = np.mean(salary)\n",
    "print(m)"
   ]
  },
  {
   "cell_type": "code",
   "execution_count": 11,
   "metadata": {},
   "outputs": [
    {
     "name": "stdout",
     "output_type": "stream",
     "text": [
      "5.780181124079114\n"
     ]
    }
   ],
   "source": [
    "# стандартная ошибка среднего\n",
    "\n",
    "se_m = st.sem(salary)\n",
    "print(se_m)"
   ]
  },
  {
   "cell_type": "markdown",
   "metadata": {},
   "source": [
    "Так как выборка маленькая, мы будем пользоваться t-значениями, квантилями из распределения Стьюдента. А для этого необходимо зафиксировать число наблюдений в выборке (понадобится для числа степеней свободы):"
   ]
  },
  {
   "cell_type": "code",
   "execution_count": 12,
   "metadata": {},
   "outputs": [
    {
     "name": "stdout",
     "output_type": "stream",
     "text": [
      "9\n"
     ]
    }
   ],
   "source": [
    "# атрибут size\n",
    "\n",
    "n = salary.size\n",
    "print(n)"
   ]
  },
  {
   "cell_type": "markdown",
   "metadata": {},
   "source": [
    "Теперь построим 95%-ный доверительный интервал для среднего значения заработной платы:"
   ]
  },
  {
   "cell_type": "code",
   "execution_count": 13,
   "metadata": {},
   "outputs": [
    {
     "data": {
      "text/plain": [
       "(39.4486562044095, 66.10689935114605)"
      ]
     },
     "execution_count": 13,
     "metadata": {},
     "output_type": "execute_result"
    }
   ],
   "source": [
    "# loc: интервал симметричен относительно среднего\n",
    "# scale: показывает средний разброс вокруг среднего в loc\n",
    "# df = n - 1, число степеней свободы\n",
    "\n",
    "st.t.interval(0.95, loc = m, scale = se_m, df = n - 1)"
   ]
  },
  {
   "cell_type": "markdown",
   "metadata": {},
   "source": [
    "Так как выборка очень маленькая, интервал получился широким. Это неприятно, но в данном случае ожидамо. С 95%-ной уверенностью можно утверждать, что истинное среднее значение заработной платы (не по опрошенным сотрудникам, а по всем сотрудникам компании) лежит в интервале от 39 до 66 тысяч рублей.\n",
    "\n",
    "Если бы мы построили 99%-ный доверительный интервал, он оказался бы еще шире:"
   ]
  },
  {
   "cell_type": "code",
   "execution_count": 14,
   "metadata": {},
   "outputs": [
    {
     "data": {
      "text/plain": [
       "(33.38303126123029, 72.17252429432526)"
      ]
     },
     "execution_count": 14,
     "metadata": {},
     "output_type": "execute_result"
    }
   ],
   "source": [
    "st.t.interval(0.99, loc = m, scale = se_m, df = n - 1)"
   ]
  },
  {
   "cell_type": "markdown",
   "metadata": {},
   "source": [
    "### Доверительный интервал для доли"
   ]
  },
  {
   "cell_type": "markdown",
   "metadata": {},
   "source": [
    "Представим себе, что у нас есть массив из 0 и 1, где значением 1 закодированы ответы «да», а значением 0 – ответы «нет»:"
   ]
  },
  {
   "cell_type": "code",
   "execution_count": 15,
   "metadata": {},
   "outputs": [],
   "source": [
    "yes_no = np.array([0, 1, 1, 0, 0, 1, 0, 0, 1, 0, 0, 1, 1, 0, 0, 1, 0, 0, 1, 0,\n",
    "                  0, 1, 1, 0, 0, 1, 0, 0, 1, 0, 0, 1, 1, 0, 0, 1, 0, 0, 1, 0, \n",
    "                  0, 1, 1, 0, 0, 1, 0, 0, 1, 0, 0, 1, 1, 0, 0, 1, 0, 0, 1, 0,\n",
    "                  0, 1, 1, 0, 0, 1, 0, 0, 1, 0, 0, 1, 1, 0, 0, 1, 0, 0, 1, 0])"
   ]
  },
  {
   "cell_type": "markdown",
   "metadata": {},
   "source": [
    "Мы уже выяснили, что для построения доверительного интервала для доли нам нужно знать значение $\\hat{p}$ и $\\text{SE}$.\n",
    "\n",
    "В нашем случае $\\hat{p}$ – это доля единиц. Поэтому для вычисления доли мы можем воспользоваться функцией для нахождения среднего, так как:\n",
    "\n",
    "* среднее – это сумма элементов, деленная на общее число элементов;\n",
    "* доля – это число единиц, деленное на общее число элементов;\n",
    "* при суммировании нули не считаются, поэтому результаты выше эквивалентны.\n",
    "\n",
    "Итак, доля:"
   ]
  },
  {
   "cell_type": "code",
   "execution_count": 16,
   "metadata": {},
   "outputs": [
    {
     "name": "stdout",
     "output_type": "stream",
     "text": [
      "0.4\n"
     ]
    }
   ],
   "source": [
    "p = np.mean(yes_no)\n",
    "print(p)"
   ]
  },
  {
   "cell_type": "markdown",
   "metadata": {},
   "source": [
    "По аналогичным причинам стандартная ошибка доли в случае бинарного массива будет совпадать со стандартной ошибкой среднего, поэтому SE здесь:"
   ]
  },
  {
   "cell_type": "code",
   "execution_count": 17,
   "metadata": {},
   "outputs": [
    {
     "name": "stdout",
     "output_type": "stream",
     "text": [
      "0.05511782546095504\n"
     ]
    }
   ],
   "source": [
    "se_p = st.sem(yes_no)\n",
    "print(se_p)"
   ]
  },
  {
   "cell_type": "markdown",
   "metadata": {},
   "source": [
    "Теперь построим 95%-ный доверительный интервал для доли:"
   ]
  },
  {
   "cell_type": "code",
   "execution_count": 18,
   "metadata": {},
   "outputs": [
    {
     "data": {
      "text/plain": [
       "(0.2919710471903633, 0.5080289528096367)"
      ]
     },
     "execution_count": 18,
     "metadata": {},
     "output_type": "execute_result"
    }
   ],
   "source": [
    "st.norm.interval(0.95, loc = p, scale = se_p)"
   ]
  },
  {
   "cell_type": "markdown",
   "metadata": {},
   "source": [
    "С 95%-ной уверенностью можно утверждать, что истинная доля ответивших «да» (доля в генеральной совокупности, среди всех людей) лежит в интервале от 0.29 до 0.51."
   ]
  },
  {
   "cell_type": "markdown",
   "metadata": {},
   "source": [
    "Конечно, далеко не всегда данные представлены в виде готовых удобных массивов из 0 и 1. Но, что удобно, любой массив можно свести к бинарному, а как считать доли для бинарных, мы уже знаем.\n",
    "\n",
    "Предположим, у нас есть массив из текстовых значений `yes` и `no`:"
   ]
  },
  {
   "cell_type": "code",
   "execution_count": 19,
   "metadata": {},
   "outputs": [],
   "source": [
    "answers = np.array([\"yes\", \"no\", \"yes\", \"no\", \"yes\", \"yes\", \"yes\"])"
   ]
  },
  {
   "cell_type": "markdown",
   "metadata": {},
   "source": [
    "Как определить долю ответов yes? Первый шаг: проверяем равенство значению `yes` для всех элементов массива:"
   ]
  },
  {
   "cell_type": "code",
   "execution_count": 20,
   "metadata": {},
   "outputs": [
    {
     "data": {
      "text/plain": [
       "array([ True, False,  True, False,  True,  True,  True])"
      ]
     },
     "execution_count": 20,
     "metadata": {},
     "output_type": "execute_result"
    }
   ],
   "source": [
    "answers == \"yes\""
   ]
  },
  {
   "cell_type": "markdown",
   "metadata": {},
   "source": [
    "Получили набор из логических значений `True` и `False`. Python умеет автоматически заменять `True` на 1, а `False` на 0, поэтому к таким массивам (булевы массивы, так как логический тип данных еще называется булевым по имени логика Дж.Буля) можно применять те же функции суммирования и нахождения среднего. Отсюда второй шаг: считаем среднее по полученному массиву:"
   ]
  },
  {
   "cell_type": "code",
   "execution_count": 21,
   "metadata": {},
   "outputs": [
    {
     "data": {
      "text/plain": [
       "0.7142857142857143"
      ]
     },
     "execution_count": 21,
     "metadata": {},
     "output_type": "execute_result"
    }
   ],
   "source": [
    "# доля ответов yes\n",
    "\n",
    "np.mean(answers == \"yes\")"
   ]
  },
  {
   "cell_type": "markdown",
   "metadata": {},
   "source": [
    "А дальше можно действовать по уже знакомому плану – вычислить стандартную ошибку и границы интервала."
   ]
  },
  {
   "cell_type": "code",
   "execution_count": 22,
   "metadata": {},
   "outputs": [
    {
     "data": {
      "text/plain": [
       "(0.35281391089095426, 1.0757575176804743)"
      ]
     },
     "execution_count": 22,
     "metadata": {},
     "output_type": "execute_result"
    }
   ],
   "source": [
    "# например, 95%-ный\n",
    "\n",
    "st.norm.interval(0.95, loc = np.mean(answers == \"yes\"), \n",
    "                scale = st.sem(answers == \"yes\"))"
   ]
  },
  {
   "cell_type": "markdown",
   "metadata": {},
   "source": [
    "Чисто технически можно получить какой-то нереалистично широкий доверительный интервал, границы которого выходят за разумные пределы, если стандартная ошибка оказалась очень большой. В данном случае это и произошло: мы построили доверительный интервал для доли на основе очень маленькой выборки. Вообще доля не может выходить за рамки отрезка от 0 до 1, а верхняя граница нашего интервала здесь 1.08. При интерпретации мы можем зацензурировать полученный интервал и сказать, что с 95%-ной уверенностью доля ответивших «да» лежит в интервале от 0.35 до 1 или от 35% до 100% (но все равно интервал неинформативный, слишком широкий, выборка в 7 наблюдений – это несерьезно)."
   ]
  },
  {
   "cell_type": "markdown",
   "metadata": {},
   "source": [
    "## Часть 3: работаем с реальными данными"
   ]
  },
  {
   "cell_type": "markdown",
   "metadata": {},
   "source": [
    "Импортируем `pandas`:"
   ]
  },
  {
   "cell_type": "code",
   "execution_count": 23,
   "metadata": {},
   "outputs": [],
   "source": [
    "import pandas as pd"
   ]
  },
  {
   "cell_type": "markdown",
   "metadata": {},
   "source": [
    "Загрузим данные по видеоиграм из файла `c.xlsx` (мы с ним уже работали):"
   ]
  },
  {
   "cell_type": "code",
   "execution_count": 24,
   "metadata": {},
   "outputs": [],
   "source": [
    "games = pd.read_excel(\"c.xlsx\")"
   ]
  },
  {
   "cell_type": "markdown",
   "metadata": {},
   "source": [
    "Посмотрим на число пропущенных значений в каждом столбце:"
   ]
  },
  {
   "cell_type": "code",
   "execution_count": 25,
   "metadata": {},
   "outputs": [
    {
     "data": {
      "text/plain": [
       "Unnamed: 0            0\n",
       "Name                  2\n",
       "Platform              0\n",
       "Year_of_Release     269\n",
       "Genre                 2\n",
       "Publisher            54\n",
       "NA_Sales              0\n",
       "EU_Sales              0\n",
       "JP_Sales              0\n",
       "Other_Sales           0\n",
       "Global_Sales          0\n",
       "Critic_Score       8582\n",
       "Critic_Count       8582\n",
       "User_Score         6704\n",
       "User_Count         9129\n",
       "Developer          6623\n",
       "Rating             6769\n",
       "dtype: int64"
      ]
     },
     "execution_count": 25,
     "metadata": {},
     "output_type": "execute_result"
    }
   ],
   "source": [
    "games.isnull().sum()"
   ]
  },
  {
   "cell_type": "markdown",
   "metadata": {},
   "source": [
    "Попробуем построить 95%-ный доверительный интервал для среднего значения `Critic_Score` (рейтинг команды Metacritic). \n",
    "Вычислим среднее:"
   ]
  },
  {
   "cell_type": "code",
   "execution_count": 26,
   "metadata": {},
   "outputs": [
    {
     "data": {
      "text/plain": [
       "68.96767850559173"
      ]
     },
     "execution_count": 26,
     "metadata": {},
     "output_type": "execute_result"
    }
   ],
   "source": [
    "games[\"Critic_Score\"].mean()"
   ]
  },
  {
   "cell_type": "markdown",
   "metadata": {},
   "source": [
    "Вычислим стандартную ошибку среднего:"
   ]
  },
  {
   "cell_type": "code",
   "execution_count": 27,
   "metadata": {},
   "outputs": [
    {
     "data": {
      "text/plain": [
       "nan"
      ]
     },
     "execution_count": 27,
     "metadata": {},
     "output_type": "execute_result"
    }
   ],
   "source": [
    "st.sem(games[\"Critic_Score\"]) # проблема!"
   ]
  },
  {
   "cell_type": "markdown",
   "metadata": {},
   "source": [
    "Из-за пропусков стандартная ошибка не вычисляется. Тут два пути: либо заполнить пропуски (например, средним или медианой), либо удалить их. Давайте пойдем по второму пути, но сделаем это осторожно. Мы не будем удалять строки с пропущенными значениями вообще, а удалим только те строки, где есть пропуски в столбце `Critic_Score`:"
   ]
  },
  {
   "cell_type": "code",
   "execution_count": 28,
   "metadata": {},
   "outputs": [],
   "source": [
    "games.dropna(subset = [\"Critic_Score\"], inplace = True)"
   ]
  },
  {
   "cell_type": "markdown",
   "metadata": {},
   "source": [
    "Проверим, что осталось, и сколько пропусков в датафрейме сейчас:"
   ]
  },
  {
   "cell_type": "code",
   "execution_count": 29,
   "metadata": {},
   "outputs": [
    {
     "data": {
      "text/plain": [
       "Unnamed: 0            0\n",
       "Name                  0\n",
       "Platform              0\n",
       "Year_of_Release     154\n",
       "Genre                 0\n",
       "Publisher             4\n",
       "NA_Sales              0\n",
       "EU_Sales              0\n",
       "JP_Sales              0\n",
       "Other_Sales           0\n",
       "Global_Sales          0\n",
       "Critic_Score          0\n",
       "Critic_Count          0\n",
       "User_Score           38\n",
       "User_Count         1120\n",
       "Developer             6\n",
       "Rating               83\n",
       "dtype: int64"
      ]
     },
     "execution_count": 29,
     "metadata": {},
     "output_type": "execute_result"
    }
   ],
   "source": [
    "games.isnull().sum()"
   ]
  },
  {
   "cell_type": "markdown",
   "metadata": {},
   "source": [
    "Попробуем снова посчитать среднее и стандартную ошибку среднего по `Critic_Score`:"
   ]
  },
  {
   "cell_type": "code",
   "execution_count": 30,
   "metadata": {},
   "outputs": [
    {
     "data": {
      "text/plain": [
       "68.96767850559173"
      ]
     },
     "execution_count": 30,
     "metadata": {},
     "output_type": "execute_result"
    }
   ],
   "source": [
    "games[\"Critic_Score\"].mean()  # не изменилось, mean() игнорирует пропуски"
   ]
  },
  {
   "cell_type": "code",
   "execution_count": 31,
   "metadata": {},
   "outputs": [
    {
     "data": {
      "text/plain": [
       "0.15451599023343576"
      ]
     },
     "execution_count": 31,
     "metadata": {},
     "output_type": "execute_result"
    }
   ],
   "source": [
    "st.sem(games[\"Critic_Score\"]) # вычисляется!"
   ]
  },
  {
   "cell_type": "markdown",
   "metadata": {},
   "source": [
    "Теперь осталось вычислить 95%-ный доверительный интервал (проверьте, чего нам для него еще не хватает! "
   ]
  },
  {
   "cell_type": "code",
   "execution_count": 32,
   "metadata": {},
   "outputs": [
    {
     "data": {
      "text/plain": [
       "(68.66478767532462, 69.27056933585885)"
      ]
     },
     "execution_count": 32,
     "metadata": {},
     "output_type": "execute_result"
    }
   ],
   "source": [
    "# не хватает n для df\n",
    "\n",
    "st.t.interval(0.95, \n",
    "              loc = games[\"Critic_Score\"].mean(), \n",
    "              scale = st.sem(games[\"Critic_Score\"]), \n",
    "              df = games[\"Critic_Score\"].size) "
   ]
  }
 ],
 "metadata": {
  "kernelspec": {
   "display_name": "Python 3",
   "language": "python",
   "name": "python3"
  },
  "language_info": {
   "codemirror_mode": {
    "name": "ipython",
    "version": 3
   },
   "file_extension": ".py",
   "mimetype": "text/x-python",
   "name": "python",
   "nbconvert_exporter": "python",
   "pygments_lexer": "ipython3",
   "version": "3.7.4"
  }
 },
 "nbformat": 4,
 "nbformat_minor": 2
}
