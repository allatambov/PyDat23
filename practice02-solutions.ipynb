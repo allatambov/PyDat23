{
 "cells": [
  {
   "cell_type": "markdown",
   "metadata": {},
   "source": [
    "# Основы анализа данных в Python\n",
    "\n",
    "*Алла Тамбовцева*\n",
    "\n",
    "## Практикум 2. Описательные статистики, группировка и агрегирование данных с `pandas`\n"
   ]
  },
  {
   "cell_type": "markdown",
   "metadata": {},
   "source": [
    "В этом практикуме предлагается поработать с данными из части C демонстрационного варианта независимого экзамена. В первой части практикума мы разберём задачи непосредственно из экзамена, а во второй части посмотрим ещё на несколько примеров работы с данными (вопросы не из экзамена, из жизни)."
   ]
  },
  {
   "cell_type": "markdown",
   "metadata": {},
   "source": [
    "Файл `c.xlsx` содержит данные о рейтингах видео-игр по данным Metacritic. Набор данных содержит следующие переменные:\n",
    "\n",
    "* `Name` – название игры.\n",
    "* `Platform` – платформа для запуска игры.\n",
    "* `Year_of_Release` – год запуска игры.\n",
    "* `Genre` – жанр игры.\n",
    "* `Publisher` – компания, выпустившая игру.\n",
    "* `NA_Sales` – продажи в Северной Америке (миллионы копий).\n",
    "* `EU_Sales` – продажи в Европейском Союзе (миллионы копий).\n",
    "* `JP_Sales` – продажи в Японии (миллионы копий).\n",
    "* `Other_Sales` – продажи в прочих странах (миллионы копий).\n",
    "* `Global_Sales` – общие продажи по миру (миллионы копий).\n",
    "* `Critic_Score` – агрегированный рейтинг команды Metacritic.\n",
    "* `Critic_Count` – количество экспертов, участвовавших в расчёте `Critic_Score`.\n",
    "* `User_Score` – агрегированный рейтинг пользователей Metacritic.\n",
    "* `User_Count` – количество пользователей, участвовавших в расчёте `User_Score`.\n",
    "* `Developer` – разработчик игры.\n",
    "* `Rating` – рейтинг ESRB (Everyone, Teen, Adults Only, ...)."
   ]
  },
  {
   "cell_type": "markdown",
   "metadata": {},
   "source": [
    "Импортируем библиотеку `pandas` с сокращённым названием:"
   ]
  },
  {
   "cell_type": "code",
   "execution_count": 1,
   "metadata": {},
   "outputs": [],
   "source": [
    "import pandas as pd"
   ]
  },
  {
   "cell_type": "markdown",
   "metadata": {},
   "source": [
    "Загрузим данные из файла:"
   ]
  },
  {
   "cell_type": "code",
   "execution_count": 2,
   "metadata": {},
   "outputs": [],
   "source": [
    "games = pd.read_excel(\"c.xlsx\")"
   ]
  },
  {
   "cell_type": "markdown",
   "metadata": {},
   "source": [
    "Выведем описательные статистики для каждого числового (`int` или `float`) столбца, полезная информация на первом этапе работы с данными:"
   ]
  },
  {
   "cell_type": "code",
   "execution_count": 3,
   "metadata": {},
   "outputs": [
    {
     "data": {
      "text/html": [
       "<div>\n",
       "<style scoped>\n",
       "    .dataframe tbody tr th:only-of-type {\n",
       "        vertical-align: middle;\n",
       "    }\n",
       "\n",
       "    .dataframe tbody tr th {\n",
       "        vertical-align: top;\n",
       "    }\n",
       "\n",
       "    .dataframe thead th {\n",
       "        text-align: right;\n",
       "    }\n",
       "</style>\n",
       "<table border=\"1\" class=\"dataframe\">\n",
       "  <thead>\n",
       "    <tr style=\"text-align: right;\">\n",
       "      <th></th>\n",
       "      <th>Unnamed: 0</th>\n",
       "      <th>Year_of_Release</th>\n",
       "      <th>NA_Sales</th>\n",
       "      <th>EU_Sales</th>\n",
       "      <th>JP_Sales</th>\n",
       "      <th>Other_Sales</th>\n",
       "      <th>Global_Sales</th>\n",
       "      <th>Critic_Score</th>\n",
       "      <th>Critic_Count</th>\n",
       "      <th>User_Count</th>\n",
       "    </tr>\n",
       "  </thead>\n",
       "  <tbody>\n",
       "    <tr>\n",
       "      <th>count</th>\n",
       "      <td>16719.000000</td>\n",
       "      <td>16450.000000</td>\n",
       "      <td>16719.000000</td>\n",
       "      <td>16719.000000</td>\n",
       "      <td>16719.000000</td>\n",
       "      <td>16719.000000</td>\n",
       "      <td>16719.000000</td>\n",
       "      <td>8137.000000</td>\n",
       "      <td>8137.000000</td>\n",
       "      <td>7590.000000</td>\n",
       "    </tr>\n",
       "    <tr>\n",
       "      <th>mean</th>\n",
       "      <td>8359.000000</td>\n",
       "      <td>2006.487356</td>\n",
       "      <td>0.263330</td>\n",
       "      <td>0.145025</td>\n",
       "      <td>0.077602</td>\n",
       "      <td>0.047332</td>\n",
       "      <td>0.533543</td>\n",
       "      <td>68.967679</td>\n",
       "      <td>26.360821</td>\n",
       "      <td>162.229908</td>\n",
       "    </tr>\n",
       "    <tr>\n",
       "      <th>std</th>\n",
       "      <td>4826.503911</td>\n",
       "      <td>5.878995</td>\n",
       "      <td>0.813514</td>\n",
       "      <td>0.503283</td>\n",
       "      <td>0.308818</td>\n",
       "      <td>0.186710</td>\n",
       "      <td>1.547935</td>\n",
       "      <td>13.938165</td>\n",
       "      <td>18.980495</td>\n",
       "      <td>561.282326</td>\n",
       "    </tr>\n",
       "    <tr>\n",
       "      <th>min</th>\n",
       "      <td>0.000000</td>\n",
       "      <td>1980.000000</td>\n",
       "      <td>0.000000</td>\n",
       "      <td>0.000000</td>\n",
       "      <td>0.000000</td>\n",
       "      <td>0.000000</td>\n",
       "      <td>0.010000</td>\n",
       "      <td>13.000000</td>\n",
       "      <td>3.000000</td>\n",
       "      <td>4.000000</td>\n",
       "    </tr>\n",
       "    <tr>\n",
       "      <th>25%</th>\n",
       "      <td>4179.500000</td>\n",
       "      <td>2003.000000</td>\n",
       "      <td>0.000000</td>\n",
       "      <td>0.000000</td>\n",
       "      <td>0.000000</td>\n",
       "      <td>0.000000</td>\n",
       "      <td>0.060000</td>\n",
       "      <td>60.000000</td>\n",
       "      <td>12.000000</td>\n",
       "      <td>10.000000</td>\n",
       "    </tr>\n",
       "    <tr>\n",
       "      <th>50%</th>\n",
       "      <td>8359.000000</td>\n",
       "      <td>2007.000000</td>\n",
       "      <td>0.080000</td>\n",
       "      <td>0.020000</td>\n",
       "      <td>0.000000</td>\n",
       "      <td>0.010000</td>\n",
       "      <td>0.170000</td>\n",
       "      <td>71.000000</td>\n",
       "      <td>21.000000</td>\n",
       "      <td>24.000000</td>\n",
       "    </tr>\n",
       "    <tr>\n",
       "      <th>75%</th>\n",
       "      <td>12538.500000</td>\n",
       "      <td>2010.000000</td>\n",
       "      <td>0.240000</td>\n",
       "      <td>0.110000</td>\n",
       "      <td>0.040000</td>\n",
       "      <td>0.030000</td>\n",
       "      <td>0.470000</td>\n",
       "      <td>79.000000</td>\n",
       "      <td>36.000000</td>\n",
       "      <td>81.000000</td>\n",
       "    </tr>\n",
       "    <tr>\n",
       "      <th>max</th>\n",
       "      <td>16718.000000</td>\n",
       "      <td>2020.000000</td>\n",
       "      <td>41.360000</td>\n",
       "      <td>28.960000</td>\n",
       "      <td>10.220000</td>\n",
       "      <td>10.570000</td>\n",
       "      <td>82.530000</td>\n",
       "      <td>98.000000</td>\n",
       "      <td>113.000000</td>\n",
       "      <td>10665.000000</td>\n",
       "    </tr>\n",
       "  </tbody>\n",
       "</table>\n",
       "</div>"
      ],
      "text/plain": [
       "         Unnamed: 0  Year_of_Release      NA_Sales      EU_Sales  \\\n",
       "count  16719.000000     16450.000000  16719.000000  16719.000000   \n",
       "mean    8359.000000      2006.487356      0.263330      0.145025   \n",
       "std     4826.503911         5.878995      0.813514      0.503283   \n",
       "min        0.000000      1980.000000      0.000000      0.000000   \n",
       "25%     4179.500000      2003.000000      0.000000      0.000000   \n",
       "50%     8359.000000      2007.000000      0.080000      0.020000   \n",
       "75%    12538.500000      2010.000000      0.240000      0.110000   \n",
       "max    16718.000000      2020.000000     41.360000     28.960000   \n",
       "\n",
       "           JP_Sales   Other_Sales  Global_Sales  Critic_Score  Critic_Count  \\\n",
       "count  16719.000000  16719.000000  16719.000000   8137.000000   8137.000000   \n",
       "mean       0.077602      0.047332      0.533543     68.967679     26.360821   \n",
       "std        0.308818      0.186710      1.547935     13.938165     18.980495   \n",
       "min        0.000000      0.000000      0.010000     13.000000      3.000000   \n",
       "25%        0.000000      0.000000      0.060000     60.000000     12.000000   \n",
       "50%        0.000000      0.010000      0.170000     71.000000     21.000000   \n",
       "75%        0.040000      0.030000      0.470000     79.000000     36.000000   \n",
       "max       10.220000     10.570000     82.530000     98.000000    113.000000   \n",
       "\n",
       "         User_Count  \n",
       "count   7590.000000  \n",
       "mean     162.229908  \n",
       "std      561.282326  \n",
       "min        4.000000  \n",
       "25%       10.000000  \n",
       "50%       24.000000  \n",
       "75%       81.000000  \n",
       "max    10665.000000  "
      ]
     },
     "execution_count": 3,
     "metadata": {},
     "output_type": "execute_result"
    }
   ],
   "source": [
    "games.describe() # проинтерпретируем"
   ]
  },
  {
   "cell_type": "markdown",
   "metadata": {},
   "source": [
    "**Пояснения:** \n",
    "\n",
    "* `count`: число заполненных ячеек;\n",
    "* `mean`: среднее арифметическое;\n",
    "* `std`: стандартное отклонение;\n",
    "* `min` и `max`: минимальное и максимальное значение;\n",
    "* `50%`: медиана;\n",
    "* `25%` и `75%`: нижний и верхний квартиль."
   ]
  },
  {
   "cell_type": "markdown",
   "metadata": {},
   "source": [
    "Для текстовых данных метод `.describe()` тоже работает, нужно только указать, что нас интересует тип `object`:"
   ]
  },
  {
   "cell_type": "code",
   "execution_count": 4,
   "metadata": {},
   "outputs": [
    {
     "data": {
      "text/html": [
       "<div>\n",
       "<style scoped>\n",
       "    .dataframe tbody tr th:only-of-type {\n",
       "        vertical-align: middle;\n",
       "    }\n",
       "\n",
       "    .dataframe tbody tr th {\n",
       "        vertical-align: top;\n",
       "    }\n",
       "\n",
       "    .dataframe thead th {\n",
       "        text-align: right;\n",
       "    }\n",
       "</style>\n",
       "<table border=\"1\" class=\"dataframe\">\n",
       "  <thead>\n",
       "    <tr style=\"text-align: right;\">\n",
       "      <th></th>\n",
       "      <th>Name</th>\n",
       "      <th>Platform</th>\n",
       "      <th>Genre</th>\n",
       "      <th>Publisher</th>\n",
       "      <th>User_Score</th>\n",
       "      <th>Developer</th>\n",
       "      <th>Rating</th>\n",
       "    </tr>\n",
       "  </thead>\n",
       "  <tbody>\n",
       "    <tr>\n",
       "      <th>count</th>\n",
       "      <td>16717</td>\n",
       "      <td>16719</td>\n",
       "      <td>16717</td>\n",
       "      <td>16665</td>\n",
       "      <td>10015</td>\n",
       "      <td>10096</td>\n",
       "      <td>9950</td>\n",
       "    </tr>\n",
       "    <tr>\n",
       "      <th>unique</th>\n",
       "      <td>11562</td>\n",
       "      <td>31</td>\n",
       "      <td>12</td>\n",
       "      <td>581</td>\n",
       "      <td>96</td>\n",
       "      <td>1696</td>\n",
       "      <td>8</td>\n",
       "    </tr>\n",
       "    <tr>\n",
       "      <th>top</th>\n",
       "      <td>Need for Speed: Most Wanted</td>\n",
       "      <td>PS2</td>\n",
       "      <td>Action</td>\n",
       "      <td>Electronic Arts</td>\n",
       "      <td>tbd</td>\n",
       "      <td>Ubisoft</td>\n",
       "      <td>E</td>\n",
       "    </tr>\n",
       "    <tr>\n",
       "      <th>freq</th>\n",
       "      <td>12</td>\n",
       "      <td>2161</td>\n",
       "      <td>3370</td>\n",
       "      <td>1356</td>\n",
       "      <td>2425</td>\n",
       "      <td>204</td>\n",
       "      <td>3991</td>\n",
       "    </tr>\n",
       "  </tbody>\n",
       "</table>\n",
       "</div>"
      ],
      "text/plain": [
       "                               Name Platform   Genre        Publisher  \\\n",
       "count                         16717    16719   16717            16665   \n",
       "unique                        11562       31      12              581   \n",
       "top     Need for Speed: Most Wanted      PS2  Action  Electronic Arts   \n",
       "freq                             12     2161    3370             1356   \n",
       "\n",
       "       User_Score Developer Rating  \n",
       "count       10015     10096   9950  \n",
       "unique         96      1696      8  \n",
       "top           tbd   Ubisoft      E  \n",
       "freq         2425       204   3991  "
      ]
     },
     "execution_count": 4,
     "metadata": {},
     "output_type": "execute_result"
    }
   ],
   "source": [
    "games.describe(include = \"object\") # проинтерпретируем"
   ]
  },
  {
   "cell_type": "markdown",
   "metadata": {},
   "source": [
    "**Пояснения:**\n",
    "\n",
    "* `count`: число заполненных ячеек;\n",
    "* `unique`: число уникальных значений (например, всего 12 разных жанров игр);\n",
    "* `top`: мода, самое частое значение (наиболее встречающийся жанр - Action);\n",
    "* `freq`: частота, соответствующая моде (3370 игр жанра Action)."
   ]
  },
  {
   "cell_type": "markdown",
   "metadata": {},
   "source": [
    "В целом, если описать данные в самом начале, уже на некоторые вопросы части C мы сможем ответить без дополнительного кода. Но на функции для отдельных описательных статистик мы тоже посмотрим!"
   ]
  },
  {
   "cell_type": "markdown",
   "metadata": {},
   "source": [
    "## Часть 1: описательные статистики"
   ]
  },
  {
   "cell_type": "markdown",
   "metadata": {},
   "source": [
    "### Задача 1\n",
    "\n",
    "Вычислите среднее по продажам в Северной Америке (в миллионах копий) – переменная `NA_Sales`.\n",
    "\n",
    "Пример ответа: 13.20"
   ]
  },
  {
   "cell_type": "code",
   "execution_count": 5,
   "metadata": {},
   "outputs": [
    {
     "data": {
      "text/plain": [
       "0.2633303427238687"
      ]
     },
     "execution_count": 5,
     "metadata": {},
     "output_type": "execute_result"
    }
   ],
   "source": [
    "games[\"NA_Sales\"].mean() # 0.26"
   ]
  },
  {
   "cell_type": "markdown",
   "metadata": {},
   "source": [
    "### Задача 2\n",
    "\n",
    "Вычислите минимальное значение по продажам в Северной Америке (в миллионах копий) – переменная `NA_Sales`.\n",
    "\n",
    "Пример ответа: 12.00"
   ]
  },
  {
   "cell_type": "code",
   "execution_count": 6,
   "metadata": {},
   "outputs": [
    {
     "data": {
      "text/plain": [
       "0.0"
      ]
     },
     "execution_count": 6,
     "metadata": {},
     "output_type": "execute_result"
    }
   ],
   "source": [
    "games[\"NA_Sales\"].min() # 0.00"
   ]
  },
  {
   "cell_type": "markdown",
   "metadata": {},
   "source": [
    "### Задача 3\n",
    "\n",
    "Вычислите стандартное отклонение по продажам в Северной Америке (в миллионах копий) – переменная `NA_Sales`.\n",
    "\n",
    "Пример ответа: 20.04"
   ]
  },
  {
   "cell_type": "code",
   "execution_count": 7,
   "metadata": {},
   "outputs": [
    {
     "data": {
      "text/plain": [
       "0.8135138347516405"
      ]
     },
     "execution_count": 7,
     "metadata": {},
     "output_type": "execute_result"
    }
   ],
   "source": [
    "games[\"NA_Sales\"].std() # 0.81"
   ]
  },
  {
   "cell_type": "markdown",
   "metadata": {},
   "source": [
    "### Задача 4\n",
    "\n",
    "Определите наиболее часто встречающийся жанр игр.\n",
    "\n",
    "Пример ответа: Simulation"
   ]
  },
  {
   "cell_type": "code",
   "execution_count": 8,
   "metadata": {},
   "outputs": [
    {
     "data": {
      "text/plain": [
       "0    Action\n",
       "dtype: object"
      ]
     },
     "execution_count": 8,
     "metadata": {},
     "output_type": "execute_result"
    }
   ],
   "source": [
    "games[\"Genre\"].mode() # Action"
   ]
  },
  {
   "cell_type": "code",
   "execution_count": 9,
   "metadata": {},
   "outputs": [
    {
     "data": {
      "text/plain": [
       "Action          3370\n",
       "Sports          2348\n",
       "Misc            1750\n",
       "Role-Playing    1500\n",
       "Shooter         1323\n",
       "Adventure       1303\n",
       "Racing          1249\n",
       "Platform         888\n",
       "Simulation       874\n",
       "Fighting         849\n",
       "Strategy         683\n",
       "Puzzle           580\n",
       "Name: Genre, dtype: int64"
      ]
     },
     "execution_count": 9,
     "metadata": {},
     "output_type": "execute_result"
    }
   ],
   "source": [
    "games[\"Genre\"].value_counts() # так тоже можно посмотреть"
   ]
  },
  {
   "cell_type": "markdown",
   "metadata": {},
   "source": [
    "### Задача 5\n",
    "\n",
    "Добавьте в таблицу новый признак `Platform_Coded`, который будет представлять собой закодированное название платформы для запуска игры. Кодировку проведите следующим образом: если платформа – это `PS3`, то код равен 1, а если любая другая, то код равен 0. \n",
    "\n",
    "Выведите среднее по признаку `Platform_Coded`, округлённое до сотых."
   ]
  },
  {
   "cell_type": "code",
   "execution_count": 10,
   "metadata": {},
   "outputs": [],
   "source": [
    "games[\"Platform_Coded\"] = (games[\"Platform\"] == \"PS3\").astype(int) "
   ]
  },
  {
   "cell_type": "code",
   "execution_count": 11,
   "metadata": {},
   "outputs": [
    {
     "data": {
      "text/plain": [
       "0.07961002452299779"
      ]
     },
     "execution_count": 11,
     "metadata": {},
     "output_type": "execute_result"
    }
   ],
   "source": [
    "games[\"Platform_Coded\"].mean() # 0.08 – доля игр для платформы PS3 (доля единиц)"
   ]
  },
  {
   "cell_type": "markdown",
   "metadata": {},
   "source": [
    "### Задача 6\n",
    "\n",
    "Вычислите средний агрегированный рейтинг команды Metacritic для игр, выпущенных (published) компаниями Tecmo Koei или Wanadoo. Выпишите полученное значение, округлённое до сотых.\n",
    "\n",
    "Пример ответа: 17.20"
   ]
  },
  {
   "cell_type": "code",
   "execution_count": 12,
   "metadata": {},
   "outputs": [],
   "source": [
    "chosen = games[(games[\"Publisher\"] == \"Tecmo Koei\") | (games[\"Publisher\"] == \"Wanadoo\")] "
   ]
  },
  {
   "cell_type": "code",
   "execution_count": 13,
   "metadata": {},
   "outputs": [
    {
     "data": {
      "text/plain": [
       "array(['Tecmo Koei', 'Wanadoo'], dtype=object)"
      ]
     },
     "execution_count": 13,
     "metadata": {},
     "output_type": "execute_result"
    }
   ],
   "source": [
    "chosen[\"Publisher\"].unique() # удостоверимся, что отфильтровали правильно"
   ]
  },
  {
   "cell_type": "code",
   "execution_count": 14,
   "metadata": {},
   "outputs": [
    {
     "data": {
      "text/plain": [
       "65.60135135135135"
      ]
     },
     "execution_count": 14,
     "metadata": {},
     "output_type": "execute_result"
    }
   ],
   "source": [
    "chosen[\"Critic_Score\"].mean() # 65.60"
   ]
  },
  {
   "cell_type": "markdown",
   "metadata": {},
   "source": [
    "## Часть 2: группировка и агрегирование"
   ]
  },
  {
   "cell_type": "markdown",
   "metadata": {},
   "source": [
    "### Задача 7\n",
    "\n",
    "Сгруппируйте игры по жанру и вычислите среднее число продаж в Европейском союзе для каждого жанра."
   ]
  },
  {
   "cell_type": "code",
   "execution_count": 15,
   "metadata": {},
   "outputs": [
    {
     "data": {
      "text/html": [
       "<div>\n",
       "<style scoped>\n",
       "    .dataframe tbody tr th:only-of-type {\n",
       "        vertical-align: middle;\n",
       "    }\n",
       "\n",
       "    .dataframe tbody tr th {\n",
       "        vertical-align: top;\n",
       "    }\n",
       "\n",
       "    .dataframe thead th {\n",
       "        text-align: right;\n",
       "    }\n",
       "</style>\n",
       "<table border=\"1\" class=\"dataframe\">\n",
       "  <thead>\n",
       "    <tr style=\"text-align: right;\">\n",
       "      <th></th>\n",
       "      <th>Unnamed: 0</th>\n",
       "      <th>Year_of_Release</th>\n",
       "      <th>NA_Sales</th>\n",
       "      <th>EU_Sales</th>\n",
       "      <th>JP_Sales</th>\n",
       "      <th>Other_Sales</th>\n",
       "      <th>Global_Sales</th>\n",
       "      <th>Critic_Score</th>\n",
       "      <th>Critic_Count</th>\n",
       "      <th>User_Count</th>\n",
       "      <th>Platform_Coded</th>\n",
       "    </tr>\n",
       "    <tr>\n",
       "      <th>Genre</th>\n",
       "      <th></th>\n",
       "      <th></th>\n",
       "      <th></th>\n",
       "      <th></th>\n",
       "      <th></th>\n",
       "      <th></th>\n",
       "      <th></th>\n",
       "      <th></th>\n",
       "      <th></th>\n",
       "      <th></th>\n",
       "      <th></th>\n",
       "    </tr>\n",
       "  </thead>\n",
       "  <tbody>\n",
       "    <tr>\n",
       "      <th>Action</th>\n",
       "      <td>8096.666469</td>\n",
       "      <td>2008.050181</td>\n",
       "      <td>0.260834</td>\n",
       "      <td>0.154045</td>\n",
       "      <td>0.047905</td>\n",
       "      <td>0.054777</td>\n",
       "      <td>0.517884</td>\n",
       "      <td>66.629101</td>\n",
       "      <td>27.780952</td>\n",
       "      <td>188.889617</td>\n",
       "      <td>0.112760</td>\n",
       "    </tr>\n",
       "    <tr>\n",
       "      <th>Adventure</th>\n",
       "      <td>11631.069839</td>\n",
       "      <td>2008.263728</td>\n",
       "      <td>0.080783</td>\n",
       "      <td>0.048764</td>\n",
       "      <td>0.040138</td>\n",
       "      <td>0.012655</td>\n",
       "      <td>0.182417</td>\n",
       "      <td>65.331269</td>\n",
       "      <td>22.114551</td>\n",
       "      <td>103.410000</td>\n",
       "      <td>0.056792</td>\n",
       "    </tr>\n",
       "    <tr>\n",
       "      <th>Fighting</th>\n",
       "      <td>7671.209658</td>\n",
       "      <td>2004.653524</td>\n",
       "      <td>0.263086</td>\n",
       "      <td>0.118174</td>\n",
       "      <td>0.103039</td>\n",
       "      <td>0.042827</td>\n",
       "      <td>0.527067</td>\n",
       "      <td>69.217604</td>\n",
       "      <td>27.909535</td>\n",
       "      <td>64.929825</td>\n",
       "      <td>0.089517</td>\n",
       "    </tr>\n",
       "    <tr>\n",
       "      <th>Misc</th>\n",
       "      <td>8649.013714</td>\n",
       "      <td>2007.328298</td>\n",
       "      <td>0.232726</td>\n",
       "      <td>0.121566</td>\n",
       "      <td>0.061777</td>\n",
       "      <td>0.042509</td>\n",
       "      <td>0.458960</td>\n",
       "      <td>66.619503</td>\n",
       "      <td>21.533461</td>\n",
       "      <td>31.113895</td>\n",
       "      <td>0.071429</td>\n",
       "    </tr>\n",
       "    <tr>\n",
       "      <th>Platform</th>\n",
       "      <td>6947.822072</td>\n",
       "      <td>2003.857631</td>\n",
       "      <td>0.501689</td>\n",
       "      <td>0.225619</td>\n",
       "      <td>0.147331</td>\n",
       "      <td>0.057534</td>\n",
       "      <td>0.932523</td>\n",
       "      <td>68.058350</td>\n",
       "      <td>23.698189</td>\n",
       "      <td>109.128505</td>\n",
       "      <td>0.041667</td>\n",
       "    </tr>\n",
       "    <tr>\n",
       "      <th>Puzzle</th>\n",
       "      <td>9681.574138</td>\n",
       "      <td>2005.230228</td>\n",
       "      <td>0.211845</td>\n",
       "      <td>0.086224</td>\n",
       "      <td>0.098810</td>\n",
       "      <td>0.021345</td>\n",
       "      <td>0.419000</td>\n",
       "      <td>67.424107</td>\n",
       "      <td>20.308036</td>\n",
       "      <td>32.500000</td>\n",
       "      <td>0.005172</td>\n",
       "    </tr>\n",
       "    <tr>\n",
       "      <th>Racing</th>\n",
       "      <td>7990.485989</td>\n",
       "      <td>2004.864600</td>\n",
       "      <td>0.287710</td>\n",
       "      <td>0.189359</td>\n",
       "      <td>0.045404</td>\n",
       "      <td>0.060929</td>\n",
       "      <td>0.583587</td>\n",
       "      <td>67.963612</td>\n",
       "      <td>23.028302</td>\n",
       "      <td>69.372855</td>\n",
       "      <td>0.073659</td>\n",
       "    </tr>\n",
       "    <tr>\n",
       "      <th>Role-Playing</th>\n",
       "      <td>8116.014000</td>\n",
       "      <td>2007.130816</td>\n",
       "      <td>0.220540</td>\n",
       "      <td>0.125807</td>\n",
       "      <td>0.236973</td>\n",
       "      <td>0.039753</td>\n",
       "      <td>0.622933</td>\n",
       "      <td>72.652646</td>\n",
       "      <td>32.489824</td>\n",
       "      <td>320.746972</td>\n",
       "      <td>0.079333</td>\n",
       "    </tr>\n",
       "    <tr>\n",
       "      <th>Shooter</th>\n",
       "      <td>7368.891156</td>\n",
       "      <td>2006.033179</td>\n",
       "      <td>0.447649</td>\n",
       "      <td>0.239864</td>\n",
       "      <td>0.029297</td>\n",
       "      <td>0.078692</td>\n",
       "      <td>0.795873</td>\n",
       "      <td>70.181144</td>\n",
       "      <td>35.610169</td>\n",
       "      <td>374.577922</td>\n",
       "      <td>0.117914</td>\n",
       "    </tr>\n",
       "    <tr>\n",
       "      <th>Simulation</th>\n",
       "      <td>8693.340961</td>\n",
       "      <td>2006.663170</td>\n",
       "      <td>0.208455</td>\n",
       "      <td>0.129886</td>\n",
       "      <td>0.072998</td>\n",
       "      <td>0.035183</td>\n",
       "      <td>0.446705</td>\n",
       "      <td>68.619318</td>\n",
       "      <td>21.446023</td>\n",
       "      <td>82.656977</td>\n",
       "      <td>0.035469</td>\n",
       "    </tr>\n",
       "    <tr>\n",
       "      <th>Sports</th>\n",
       "      <td>7439.030664</td>\n",
       "      <td>2005.503036</td>\n",
       "      <td>0.291495</td>\n",
       "      <td>0.160473</td>\n",
       "      <td>0.057726</td>\n",
       "      <td>0.057287</td>\n",
       "      <td>0.567291</td>\n",
       "      <td>71.968174</td>\n",
       "      <td>21.030151</td>\n",
       "      <td>41.567543</td>\n",
       "      <td>0.091141</td>\n",
       "    </tr>\n",
       "    <tr>\n",
       "      <th>Strategy</th>\n",
       "      <td>10097.439239</td>\n",
       "      <td>2005.618128</td>\n",
       "      <td>0.100366</td>\n",
       "      <td>0.066135</td>\n",
       "      <td>0.072709</td>\n",
       "      <td>0.015886</td>\n",
       "      <td>0.255490</td>\n",
       "      <td>72.086093</td>\n",
       "      <td>28.271523</td>\n",
       "      <td>196.221865</td>\n",
       "      <td>0.035139</td>\n",
       "    </tr>\n",
       "  </tbody>\n",
       "</table>\n",
       "</div>"
      ],
      "text/plain": [
       "                Unnamed: 0  Year_of_Release  NA_Sales  EU_Sales  JP_Sales  \\\n",
       "Genre                                                                       \n",
       "Action         8096.666469      2008.050181  0.260834  0.154045  0.047905   \n",
       "Adventure     11631.069839      2008.263728  0.080783  0.048764  0.040138   \n",
       "Fighting       7671.209658      2004.653524  0.263086  0.118174  0.103039   \n",
       "Misc           8649.013714      2007.328298  0.232726  0.121566  0.061777   \n",
       "Platform       6947.822072      2003.857631  0.501689  0.225619  0.147331   \n",
       "Puzzle         9681.574138      2005.230228  0.211845  0.086224  0.098810   \n",
       "Racing         7990.485989      2004.864600  0.287710  0.189359  0.045404   \n",
       "Role-Playing   8116.014000      2007.130816  0.220540  0.125807  0.236973   \n",
       "Shooter        7368.891156      2006.033179  0.447649  0.239864  0.029297   \n",
       "Simulation     8693.340961      2006.663170  0.208455  0.129886  0.072998   \n",
       "Sports         7439.030664      2005.503036  0.291495  0.160473  0.057726   \n",
       "Strategy      10097.439239      2005.618128  0.100366  0.066135  0.072709   \n",
       "\n",
       "              Other_Sales  Global_Sales  Critic_Score  Critic_Count  \\\n",
       "Genre                                                                 \n",
       "Action           0.054777      0.517884     66.629101     27.780952   \n",
       "Adventure        0.012655      0.182417     65.331269     22.114551   \n",
       "Fighting         0.042827      0.527067     69.217604     27.909535   \n",
       "Misc             0.042509      0.458960     66.619503     21.533461   \n",
       "Platform         0.057534      0.932523     68.058350     23.698189   \n",
       "Puzzle           0.021345      0.419000     67.424107     20.308036   \n",
       "Racing           0.060929      0.583587     67.963612     23.028302   \n",
       "Role-Playing     0.039753      0.622933     72.652646     32.489824   \n",
       "Shooter          0.078692      0.795873     70.181144     35.610169   \n",
       "Simulation       0.035183      0.446705     68.619318     21.446023   \n",
       "Sports           0.057287      0.567291     71.968174     21.030151   \n",
       "Strategy         0.015886      0.255490     72.086093     28.271523   \n",
       "\n",
       "              User_Count  Platform_Coded  \n",
       "Genre                                     \n",
       "Action        188.889617        0.112760  \n",
       "Adventure     103.410000        0.056792  \n",
       "Fighting       64.929825        0.089517  \n",
       "Misc           31.113895        0.071429  \n",
       "Platform      109.128505        0.041667  \n",
       "Puzzle         32.500000        0.005172  \n",
       "Racing         69.372855        0.073659  \n",
       "Role-Playing  320.746972        0.079333  \n",
       "Shooter       374.577922        0.117914  \n",
       "Simulation     82.656977        0.035469  \n",
       "Sports         41.567543        0.091141  \n",
       "Strategy      196.221865        0.035139  "
      ]
     },
     "execution_count": 15,
     "metadata": {},
     "output_type": "execute_result"
    }
   ],
   "source": [
    "# в .groupby() – основание для группировки (название столбца)\n",
    "# в .agg() – название функции для агрегирования (если встроенная в pandas, то в кавычках)\n",
    "\n",
    "games.groupby(\"Genre\").agg(\"mean\")"
   ]
  },
  {
   "cell_type": "code",
   "execution_count": 16,
   "metadata": {},
   "outputs": [
    {
     "data": {
      "text/plain": [
       "Genre\n",
       "Action          0.154045\n",
       "Adventure       0.048764\n",
       "Fighting        0.118174\n",
       "Misc            0.121566\n",
       "Platform        0.225619\n",
       "Puzzle          0.086224\n",
       "Racing          0.189359\n",
       "Role-Playing    0.125807\n",
       "Shooter         0.239864\n",
       "Simulation      0.129886\n",
       "Sports          0.160473\n",
       "Strategy        0.066135\n",
       "Name: EU_Sales, dtype: float64"
      ]
     },
     "execution_count": 16,
     "metadata": {},
     "output_type": "execute_result"
    }
   ],
   "source": [
    "# .agg() по умолчанию считает среднее по всем столбцам, \n",
    "# но можем выбрать один\n",
    "\n",
    "games.groupby(\"Genre\").agg(\"mean\")[\"EU_Sales\"] "
   ]
  },
  {
   "cell_type": "code",
   "execution_count": 17,
   "metadata": {},
   "outputs": [
    {
     "data": {
      "text/html": [
       "<div>\n",
       "<style scoped>\n",
       "    .dataframe tbody tr th:only-of-type {\n",
       "        vertical-align: middle;\n",
       "    }\n",
       "\n",
       "    .dataframe tbody tr th {\n",
       "        vertical-align: top;\n",
       "    }\n",
       "\n",
       "    .dataframe thead th {\n",
       "        text-align: right;\n",
       "    }\n",
       "</style>\n",
       "<table border=\"1\" class=\"dataframe\">\n",
       "  <thead>\n",
       "    <tr style=\"text-align: right;\">\n",
       "      <th></th>\n",
       "      <th>EU_Sales</th>\n",
       "    </tr>\n",
       "    <tr>\n",
       "      <th>Genre</th>\n",
       "      <th></th>\n",
       "    </tr>\n",
       "  </thead>\n",
       "  <tbody>\n",
       "    <tr>\n",
       "      <th>Action</th>\n",
       "      <td>0.154045</td>\n",
       "    </tr>\n",
       "    <tr>\n",
       "      <th>Adventure</th>\n",
       "      <td>0.048764</td>\n",
       "    </tr>\n",
       "    <tr>\n",
       "      <th>Fighting</th>\n",
       "      <td>0.118174</td>\n",
       "    </tr>\n",
       "    <tr>\n",
       "      <th>Misc</th>\n",
       "      <td>0.121566</td>\n",
       "    </tr>\n",
       "    <tr>\n",
       "      <th>Platform</th>\n",
       "      <td>0.225619</td>\n",
       "    </tr>\n",
       "    <tr>\n",
       "      <th>Puzzle</th>\n",
       "      <td>0.086224</td>\n",
       "    </tr>\n",
       "    <tr>\n",
       "      <th>Racing</th>\n",
       "      <td>0.189359</td>\n",
       "    </tr>\n",
       "    <tr>\n",
       "      <th>Role-Playing</th>\n",
       "      <td>0.125807</td>\n",
       "    </tr>\n",
       "    <tr>\n",
       "      <th>Shooter</th>\n",
       "      <td>0.239864</td>\n",
       "    </tr>\n",
       "    <tr>\n",
       "      <th>Simulation</th>\n",
       "      <td>0.129886</td>\n",
       "    </tr>\n",
       "    <tr>\n",
       "      <th>Sports</th>\n",
       "      <td>0.160473</td>\n",
       "    </tr>\n",
       "    <tr>\n",
       "      <th>Strategy</th>\n",
       "      <td>0.066135</td>\n",
       "    </tr>\n",
       "  </tbody>\n",
       "</table>\n",
       "</div>"
      ],
      "text/plain": [
       "              EU_Sales\n",
       "Genre                 \n",
       "Action        0.154045\n",
       "Adventure     0.048764\n",
       "Fighting      0.118174\n",
       "Misc          0.121566\n",
       "Platform      0.225619\n",
       "Puzzle        0.086224\n",
       "Racing        0.189359\n",
       "Role-Playing  0.125807\n",
       "Shooter       0.239864\n",
       "Simulation    0.129886\n",
       "Sports        0.160473\n",
       "Strategy      0.066135"
      ]
     },
     "execution_count": 17,
     "metadata": {},
     "output_type": "execute_result"
    }
   ],
   "source": [
    "# еще одна альтернатива – можно в .agg() вписать словарь\n",
    "# где ключи – названия столбцов, значения – названия статистик\n",
    "\n",
    "games.groupby(\"Genre\").agg({\"EU_Sales\" : \"mean\"})"
   ]
  },
  {
   "cell_type": "markdown",
   "metadata": {},
   "source": [
    "### Задача 8\n",
    "\n",
    "Сгруппируйте игры по жанру и вычислите медианное число продаж в Европейском союзе для каждого жанра."
   ]
  },
  {
   "cell_type": "code",
   "execution_count": 18,
   "metadata": {},
   "outputs": [
    {
     "data": {
      "text/plain": [
       "Genre\n",
       "Action          0.03\n",
       "Adventure       0.00\n",
       "Fighting        0.02\n",
       "Misc            0.01\n",
       "Platform        0.05\n",
       "Puzzle          0.01\n",
       "Racing          0.04\n",
       "Role-Playing    0.01\n",
       "Shooter         0.05\n",
       "Simulation      0.01\n",
       "Sports          0.02\n",
       "Strategy        0.01\n",
       "Name: EU_Sales, dtype: float64"
      ]
     },
     "execution_count": 18,
     "metadata": {},
     "output_type": "execute_result"
    }
   ],
   "source": [
    "# то же, только функция median\n",
    "\n",
    "games.groupby(\"Genre\").agg(\"median\")[\"EU_Sales\"] "
   ]
  },
  {
   "cell_type": "code",
   "execution_count": 19,
   "metadata": {},
   "outputs": [
    {
     "data": {
      "text/html": [
       "<div>\n",
       "<style scoped>\n",
       "    .dataframe tbody tr th:only-of-type {\n",
       "        vertical-align: middle;\n",
       "    }\n",
       "\n",
       "    .dataframe tbody tr th {\n",
       "        vertical-align: top;\n",
       "    }\n",
       "\n",
       "    .dataframe thead th {\n",
       "        text-align: right;\n",
       "    }\n",
       "</style>\n",
       "<table border=\"1\" class=\"dataframe\">\n",
       "  <thead>\n",
       "    <tr style=\"text-align: right;\">\n",
       "      <th></th>\n",
       "      <th>EU_Sales</th>\n",
       "    </tr>\n",
       "    <tr>\n",
       "      <th>Genre</th>\n",
       "      <th></th>\n",
       "    </tr>\n",
       "  </thead>\n",
       "  <tbody>\n",
       "    <tr>\n",
       "      <th>Action</th>\n",
       "      <td>0.03</td>\n",
       "    </tr>\n",
       "    <tr>\n",
       "      <th>Adventure</th>\n",
       "      <td>0.00</td>\n",
       "    </tr>\n",
       "    <tr>\n",
       "      <th>Fighting</th>\n",
       "      <td>0.02</td>\n",
       "    </tr>\n",
       "    <tr>\n",
       "      <th>Misc</th>\n",
       "      <td>0.01</td>\n",
       "    </tr>\n",
       "    <tr>\n",
       "      <th>Platform</th>\n",
       "      <td>0.05</td>\n",
       "    </tr>\n",
       "    <tr>\n",
       "      <th>Puzzle</th>\n",
       "      <td>0.01</td>\n",
       "    </tr>\n",
       "    <tr>\n",
       "      <th>Racing</th>\n",
       "      <td>0.04</td>\n",
       "    </tr>\n",
       "    <tr>\n",
       "      <th>Role-Playing</th>\n",
       "      <td>0.01</td>\n",
       "    </tr>\n",
       "    <tr>\n",
       "      <th>Shooter</th>\n",
       "      <td>0.05</td>\n",
       "    </tr>\n",
       "    <tr>\n",
       "      <th>Simulation</th>\n",
       "      <td>0.01</td>\n",
       "    </tr>\n",
       "    <tr>\n",
       "      <th>Sports</th>\n",
       "      <td>0.02</td>\n",
       "    </tr>\n",
       "    <tr>\n",
       "      <th>Strategy</th>\n",
       "      <td>0.01</td>\n",
       "    </tr>\n",
       "  </tbody>\n",
       "</table>\n",
       "</div>"
      ],
      "text/plain": [
       "              EU_Sales\n",
       "Genre                 \n",
       "Action            0.03\n",
       "Adventure         0.00\n",
       "Fighting          0.02\n",
       "Misc              0.01\n",
       "Platform          0.05\n",
       "Puzzle            0.01\n",
       "Racing            0.04\n",
       "Role-Playing      0.01\n",
       "Shooter           0.05\n",
       "Simulation        0.01\n",
       "Sports            0.02\n",
       "Strategy          0.01"
      ]
     },
     "execution_count": 19,
     "metadata": {},
     "output_type": "execute_result"
    }
   ],
   "source": [
    "# альтернатива – со словарем\n",
    "\n",
    "games.groupby(\"Genre\").agg({\"EU_Sales\" : \"median\"})"
   ]
  },
  {
   "cell_type": "markdown",
   "metadata": {},
   "source": [
    "### Задача 9\n",
    "\n",
    "Сгруппируйте игры по жанру и вычислите минимальное и максимальное значение рейтинга команды `Critic_Score` для каждого жанра. Добавьте в получившуюся таблицу столбец с размахом пользовательского рейтинга для каждого жанра. Игры какого жанра имеют наиболее разнообразные значения рейтинга?"
   ]
  },
  {
   "cell_type": "code",
   "execution_count": 20,
   "metadata": {},
   "outputs": [],
   "source": [
    "# в .agg() можно вписывать список функций, здесь min и max\n",
    "# потом так же извлекаем Critic_Score\n",
    "\n",
    "# res – обычный датафрейм, можем выбирать из него столбцы\n",
    "# и создавать на их основе новые\n",
    "\n",
    "res = games.groupby(\"Genre\").agg([\"min\", \"max\"])[\"Critic_Score\"] \n",
    "res[\"range\"] = res[\"max\"] - res[\"min\"] "
   ]
  },
  {
   "cell_type": "code",
   "execution_count": 21,
   "metadata": {},
   "outputs": [
    {
     "data": {
      "text/html": [
       "<div>\n",
       "<style scoped>\n",
       "    .dataframe tbody tr th:only-of-type {\n",
       "        vertical-align: middle;\n",
       "    }\n",
       "\n",
       "    .dataframe tbody tr th {\n",
       "        vertical-align: top;\n",
       "    }\n",
       "\n",
       "    .dataframe thead th {\n",
       "        text-align: right;\n",
       "    }\n",
       "</style>\n",
       "<table border=\"1\" class=\"dataframe\">\n",
       "  <thead>\n",
       "    <tr style=\"text-align: right;\">\n",
       "      <th></th>\n",
       "      <th>min</th>\n",
       "      <th>max</th>\n",
       "      <th>range</th>\n",
       "    </tr>\n",
       "    <tr>\n",
       "      <th>Genre</th>\n",
       "      <th></th>\n",
       "      <th></th>\n",
       "      <th></th>\n",
       "    </tr>\n",
       "  </thead>\n",
       "  <tbody>\n",
       "    <tr>\n",
       "      <th>Action</th>\n",
       "      <td>19.0</td>\n",
       "      <td>98.0</td>\n",
       "      <td>79.0</td>\n",
       "    </tr>\n",
       "    <tr>\n",
       "      <th>Adventure</th>\n",
       "      <td>17.0</td>\n",
       "      <td>93.0</td>\n",
       "      <td>76.0</td>\n",
       "    </tr>\n",
       "    <tr>\n",
       "      <th>Fighting</th>\n",
       "      <td>23.0</td>\n",
       "      <td>98.0</td>\n",
       "      <td>75.0</td>\n",
       "    </tr>\n",
       "    <tr>\n",
       "      <th>Misc</th>\n",
       "      <td>19.0</td>\n",
       "      <td>93.0</td>\n",
       "      <td>74.0</td>\n",
       "    </tr>\n",
       "    <tr>\n",
       "      <th>Platform</th>\n",
       "      <td>19.0</td>\n",
       "      <td>97.0</td>\n",
       "      <td>78.0</td>\n",
       "    </tr>\n",
       "    <tr>\n",
       "      <th>Puzzle</th>\n",
       "      <td>25.0</td>\n",
       "      <td>90.0</td>\n",
       "      <td>65.0</td>\n",
       "    </tr>\n",
       "    <tr>\n",
       "      <th>Racing</th>\n",
       "      <td>13.0</td>\n",
       "      <td>96.0</td>\n",
       "      <td>83.0</td>\n",
       "    </tr>\n",
       "    <tr>\n",
       "      <th>Role-Playing</th>\n",
       "      <td>35.0</td>\n",
       "      <td>96.0</td>\n",
       "      <td>61.0</td>\n",
       "    </tr>\n",
       "    <tr>\n",
       "      <th>Shooter</th>\n",
       "      <td>22.0</td>\n",
       "      <td>97.0</td>\n",
       "      <td>75.0</td>\n",
       "    </tr>\n",
       "    <tr>\n",
       "      <th>Simulation</th>\n",
       "      <td>31.0</td>\n",
       "      <td>92.0</td>\n",
       "      <td>61.0</td>\n",
       "    </tr>\n",
       "    <tr>\n",
       "      <th>Sports</th>\n",
       "      <td>19.0</td>\n",
       "      <td>98.0</td>\n",
       "      <td>79.0</td>\n",
       "    </tr>\n",
       "    <tr>\n",
       "      <th>Strategy</th>\n",
       "      <td>35.0</td>\n",
       "      <td>94.0</td>\n",
       "      <td>59.0</td>\n",
       "    </tr>\n",
       "  </tbody>\n",
       "</table>\n",
       "</div>"
      ],
      "text/plain": [
       "               min   max  range\n",
       "Genre                          \n",
       "Action        19.0  98.0   79.0\n",
       "Adventure     17.0  93.0   76.0\n",
       "Fighting      23.0  98.0   75.0\n",
       "Misc          19.0  93.0   74.0\n",
       "Platform      19.0  97.0   78.0\n",
       "Puzzle        25.0  90.0   65.0\n",
       "Racing        13.0  96.0   83.0\n",
       "Role-Playing  35.0  96.0   61.0\n",
       "Shooter       22.0  97.0   75.0\n",
       "Simulation    31.0  92.0   61.0\n",
       "Sports        19.0  98.0   79.0\n",
       "Strategy      35.0  94.0   59.0"
      ]
     },
     "execution_count": 21,
     "metadata": {},
     "output_type": "execute_result"
    }
   ],
   "source": [
    "res"
   ]
  },
  {
   "cell_type": "markdown",
   "metadata": {},
   "source": [
    "### Задача 10\n",
    "\n",
    "Сформируйте таблицу сопряжённости, по строкам которой указаны значения жанра игры (`Genre`), а по столбцам – значения возрастного рейтинга игры (`Rating`). Подробнее о значениях рейтинга можно почитать [здесь](https://www.esrb.org/ratings-guide/)."
   ]
  },
  {
   "cell_type": "code",
   "execution_count": 22,
   "metadata": {},
   "outputs": [
    {
     "data": {
      "text/html": [
       "<div>\n",
       "<style scoped>\n",
       "    .dataframe tbody tr th:only-of-type {\n",
       "        vertical-align: middle;\n",
       "    }\n",
       "\n",
       "    .dataframe tbody tr th {\n",
       "        vertical-align: top;\n",
       "    }\n",
       "\n",
       "    .dataframe thead th {\n",
       "        text-align: right;\n",
       "    }\n",
       "</style>\n",
       "<table border=\"1\" class=\"dataframe\">\n",
       "  <thead>\n",
       "    <tr style=\"text-align: right;\">\n",
       "      <th>Rating</th>\n",
       "      <th>AO</th>\n",
       "      <th>E</th>\n",
       "      <th>E10+</th>\n",
       "      <th>EC</th>\n",
       "      <th>K-A</th>\n",
       "      <th>M</th>\n",
       "      <th>RP</th>\n",
       "      <th>T</th>\n",
       "    </tr>\n",
       "    <tr>\n",
       "      <th>Genre</th>\n",
       "      <th></th>\n",
       "      <th></th>\n",
       "      <th></th>\n",
       "      <th></th>\n",
       "      <th></th>\n",
       "      <th></th>\n",
       "      <th></th>\n",
       "      <th></th>\n",
       "    </tr>\n",
       "  </thead>\n",
       "  <tbody>\n",
       "    <tr>\n",
       "      <th>Action</th>\n",
       "      <td>1</td>\n",
       "      <td>416</td>\n",
       "      <td>481</td>\n",
       "      <td>1</td>\n",
       "      <td>0</td>\n",
       "      <td>608</td>\n",
       "      <td>0</td>\n",
       "      <td>681</td>\n",
       "    </tr>\n",
       "    <tr>\n",
       "      <th>Adventure</th>\n",
       "      <td>0</td>\n",
       "      <td>162</td>\n",
       "      <td>68</td>\n",
       "      <td>2</td>\n",
       "      <td>0</td>\n",
       "      <td>99</td>\n",
       "      <td>0</td>\n",
       "      <td>115</td>\n",
       "    </tr>\n",
       "    <tr>\n",
       "      <th>Fighting</th>\n",
       "      <td>0</td>\n",
       "      <td>8</td>\n",
       "      <td>19</td>\n",
       "      <td>0</td>\n",
       "      <td>0</td>\n",
       "      <td>49</td>\n",
       "      <td>0</td>\n",
       "      <td>362</td>\n",
       "    </tr>\n",
       "    <tr>\n",
       "      <th>Misc</th>\n",
       "      <td>0</td>\n",
       "      <td>457</td>\n",
       "      <td>167</td>\n",
       "      <td>5</td>\n",
       "      <td>1</td>\n",
       "      <td>13</td>\n",
       "      <td>0</td>\n",
       "      <td>239</td>\n",
       "    </tr>\n",
       "    <tr>\n",
       "      <th>Platform</th>\n",
       "      <td>0</td>\n",
       "      <td>358</td>\n",
       "      <td>144</td>\n",
       "      <td>0</td>\n",
       "      <td>0</td>\n",
       "      <td>3</td>\n",
       "      <td>0</td>\n",
       "      <td>64</td>\n",
       "    </tr>\n",
       "    <tr>\n",
       "      <th>Puzzle</th>\n",
       "      <td>0</td>\n",
       "      <td>289</td>\n",
       "      <td>43</td>\n",
       "      <td>0</td>\n",
       "      <td>0</td>\n",
       "      <td>0</td>\n",
       "      <td>0</td>\n",
       "      <td>10</td>\n",
       "    </tr>\n",
       "    <tr>\n",
       "      <th>Racing</th>\n",
       "      <td>0</td>\n",
       "      <td>585</td>\n",
       "      <td>96</td>\n",
       "      <td>0</td>\n",
       "      <td>0</td>\n",
       "      <td>18</td>\n",
       "      <td>1</td>\n",
       "      <td>172</td>\n",
       "    </tr>\n",
       "    <tr>\n",
       "      <th>Role-Playing</th>\n",
       "      <td>0</td>\n",
       "      <td>84</td>\n",
       "      <td>111</td>\n",
       "      <td>0</td>\n",
       "      <td>0</td>\n",
       "      <td>162</td>\n",
       "      <td>0</td>\n",
       "      <td>420</td>\n",
       "    </tr>\n",
       "    <tr>\n",
       "      <th>Shooter</th>\n",
       "      <td>0</td>\n",
       "      <td>48</td>\n",
       "      <td>58</td>\n",
       "      <td>0</td>\n",
       "      <td>0</td>\n",
       "      <td>565</td>\n",
       "      <td>0</td>\n",
       "      <td>348</td>\n",
       "    </tr>\n",
       "    <tr>\n",
       "      <th>Simulation</th>\n",
       "      <td>0</td>\n",
       "      <td>326</td>\n",
       "      <td>48</td>\n",
       "      <td>0</td>\n",
       "      <td>0</td>\n",
       "      <td>5</td>\n",
       "      <td>0</td>\n",
       "      <td>190</td>\n",
       "    </tr>\n",
       "    <tr>\n",
       "      <th>Sports</th>\n",
       "      <td>0</td>\n",
       "      <td>1188</td>\n",
       "      <td>107</td>\n",
       "      <td>0</td>\n",
       "      <td>0</td>\n",
       "      <td>16</td>\n",
       "      <td>0</td>\n",
       "      <td>198</td>\n",
       "    </tr>\n",
       "    <tr>\n",
       "      <th>Strategy</th>\n",
       "      <td>0</td>\n",
       "      <td>70</td>\n",
       "      <td>78</td>\n",
       "      <td>0</td>\n",
       "      <td>2</td>\n",
       "      <td>25</td>\n",
       "      <td>2</td>\n",
       "      <td>162</td>\n",
       "    </tr>\n",
       "  </tbody>\n",
       "</table>\n",
       "</div>"
      ],
      "text/plain": [
       "Rating        AO     E  E10+  EC  K-A    M  RP    T\n",
       "Genre                                              \n",
       "Action         1   416   481   1    0  608   0  681\n",
       "Adventure      0   162    68   2    0   99   0  115\n",
       "Fighting       0     8    19   0    0   49   0  362\n",
       "Misc           0   457   167   5    1   13   0  239\n",
       "Platform       0   358   144   0    0    3   0   64\n",
       "Puzzle         0   289    43   0    0    0   0   10\n",
       "Racing         0   585    96   0    0   18   1  172\n",
       "Role-Playing   0    84   111   0    0  162   0  420\n",
       "Shooter        0    48    58   0    0  565   0  348\n",
       "Simulation     0   326    48   0    0    5   0  190\n",
       "Sports         0  1188   107   0    0   16   0  198\n",
       "Strategy       0    70    78   0    2   25   2  162"
      ]
     },
     "execution_count": 22,
     "metadata": {},
     "output_type": "execute_result"
    }
   ],
   "source": [
    "# cross tabulation или contingency table\n",
    "\n",
    "pd.crosstab(games[\"Genre\"], games[\"Rating\"]) "
   ]
  },
  {
   "cell_type": "markdown",
   "metadata": {},
   "source": [
    "**Пояснения:** мы видим, сколько игр каждого возрастного рейтинга в каждом жанре. Так, например, в жанре \n",
    "*Fighting* всего 8 игр для любого возраста (*E* – *Everyone*), что довольно логично, учитывая наличие насилия в игре. А вот в категории *Sports*, наоборот, больше всего игр без возрастной маркировки (то же *E* – *Everyone*)."
   ]
  }
 ],
 "metadata": {
  "kernelspec": {
   "display_name": "Python 3",
   "language": "python",
   "name": "python3"
  },
  "language_info": {
   "codemirror_mode": {
    "name": "ipython",
    "version": 3
   },
   "file_extension": ".py",
   "mimetype": "text/x-python",
   "name": "python",
   "nbconvert_exporter": "python",
   "pygments_lexer": "ipython3",
   "version": "3.7.4"
  }
 },
 "nbformat": 4,
 "nbformat_minor": 2
}
