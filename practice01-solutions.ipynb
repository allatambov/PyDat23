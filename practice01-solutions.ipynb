{
 "cells": [
  {
   "cell_type": "markdown",
   "metadata": {},
   "source": [
    "# Основы анализа данных в Python\n",
    "\n",
    "*Алла Тамбовцева*\n",
    "\n",
    "## Практикум 1. Модуль `random` и введение в обработку данных с библиотекой `pandas`\n",
    "\n",
    "### Модуль `random` и псевдослучайный выбор"
   ]
  },
  {
   "cell_type": "markdown",
   "metadata": {},
   "source": [
    "Импортируем модуль `random` с сокращённым названием:"
   ]
  },
  {
   "cell_type": "code",
   "execution_count": 1,
   "metadata": {},
   "outputs": [],
   "source": [
    "import random as rd"
   ]
  },
  {
   "cell_type": "markdown",
   "metadata": {},
   "source": [
    "Если мы хотим (псевдо)случайным образом выбрать одно целое число из заданного интервала, пригодится функция `randrange()`:"
   ]
  },
  {
   "cell_type": "code",
   "execution_count": 2,
   "metadata": {},
   "outputs": [
    {
     "data": {
      "text/plain": [
       "7"
      ]
     },
     "execution_count": 2,
     "metadata": {},
     "output_type": "execute_result"
    }
   ],
   "source": [
    "# от 1 до 100, правый конец исключается\n",
    "\n",
    "rd.randrange(1, 101)"
   ]
  },
  {
   "cell_type": "markdown",
   "metadata": {},
   "source": [
    "Для воспроизводимости результатов мы можем зафиксировать стартовую точку алгоритма (*seed*), тогда у всех при запуске кода будут получаться одинаковые результаты:"
   ]
  },
  {
   "cell_type": "code",
   "execution_count": 3,
   "metadata": {},
   "outputs": [
    {
     "name": "stdout",
     "output_type": "stream",
     "text": [
      "38\n"
     ]
    }
   ],
   "source": [
    "rd.seed(2525)\n",
    "x = rd.randrange(1, 101)\n",
    "print(x)"
   ]
  },
  {
   "cell_type": "markdown",
   "metadata": {},
   "source": [
    "Если мы хотим получить набор сразу из нескольких чисел, лучше воспользоваться функцией `sample` и в качестве генеральной совокупности указать желаемый интервал чисел:"
   ]
  },
  {
   "cell_type": "code",
   "execution_count": 4,
   "metadata": {},
   "outputs": [
    {
     "data": {
      "text/plain": [
       "[21, 93, 58, 22, 70, 7, 30, 88, 71, 5]"
      ]
     },
     "execution_count": 4,
     "metadata": {},
     "output_type": "execute_result"
    }
   ],
   "source": [
    "rd.sample(population = range(1, 101), k = 10)"
   ]
  },
  {
   "cell_type": "code",
   "execution_count": 5,
   "metadata": {},
   "outputs": [
    {
     "data": {
      "text/plain": [
       "[87, 11, 73, 74, 69, 63, 62, 17, 83, 41]"
      ]
     },
     "execution_count": 5,
     "metadata": {},
     "output_type": "execute_result"
    }
   ],
   "source": [
    "rd.seed(999)\n",
    "rd.sample(population = range(1, 101), k = 10)"
   ]
  },
  {
   "cell_type": "markdown",
   "metadata": {},
   "source": [
    "Что удобно, эту же функцию можно использовать и для случайного выбора из нечисловых списков:"
   ]
  },
  {
   "cell_type": "code",
   "execution_count": 6,
   "metadata": {},
   "outputs": [
    {
     "data": {
      "text/plain": [
       "['Neville', 'Luna']"
      ]
     },
     "execution_count": 6,
     "metadata": {},
     "output_type": "execute_result"
    }
   ],
   "source": [
    "names = [\"Harry\", \"Ron\", \"Hermiona\", \"Neville\", \"Luna\"]\n",
    "rd.seed(11)\n",
    "rd.sample(names, 2)"
   ]
  },
  {
   "cell_type": "markdown",
   "metadata": {},
   "source": [
    "**Дополнение:** в `random` также есть довольно полезная функция `shuffle()` для случайного перемешивания списков (изменяемых перечней). Можем перемешать список имен `names` несколько раз (без `seed`):"
   ]
  },
  {
   "cell_type": "code",
   "execution_count": 7,
   "metadata": {},
   "outputs": [
    {
     "data": {
      "text/plain": [
       "['Hermiona', 'Luna', 'Harry', 'Ron', 'Neville']"
      ]
     },
     "execution_count": 7,
     "metadata": {},
     "output_type": "execute_result"
    }
   ],
   "source": [
    "rd.shuffle(names)\n",
    "names"
   ]
  },
  {
   "cell_type": "code",
   "execution_count": 8,
   "metadata": {},
   "outputs": [
    {
     "data": {
      "text/plain": [
       "['Harry', 'Ron', 'Hermiona', 'Luna', 'Neville']"
      ]
     },
     "execution_count": 8,
     "metadata": {},
     "output_type": "execute_result"
    }
   ],
   "source": [
    "rd.shuffle(names)\n",
    "names"
   ]
  },
  {
   "cell_type": "markdown",
   "metadata": {},
   "source": [
    "### Загрузка и обработка данных с `pandas`"
   ]
  },
  {
   "cell_type": "markdown",
   "metadata": {},
   "source": [
    "Импортируем библиотеку `pandas` с сокращённым названием:"
   ]
  },
  {
   "cell_type": "code",
   "execution_count": 9,
   "metadata": {},
   "outputs": [],
   "source": [
    "import pandas as pd"
   ]
  },
  {
   "cell_type": "markdown",
   "metadata": {},
   "source": [
    "**Примечание:** если библиотека не импортируется, ее можно установить заново (опция `--upgrade` важна, без нее установщик будет проверять наличие уже какой-то версии библиотеки на компьютере, и если такая версия есть, обновлять ее он не будет, а как раз обновление должно решить проблемы):\n",
    "\n",
    "    !pip install pandas --upgrade"
   ]
  },
  {
   "cell_type": "markdown",
   "metadata": {},
   "source": [
    "В этой части практикума предлагается поработать с данными из файла `beasts.csv`, который содержит характеристики фантастических существ. Переменные в таблице:\n",
    "\n",
    "* `Name`: название существа;\n",
    "* `Class`: вид существа (если есть, если нет, дублируется название); \n",
    "* `Classification`: классификация Министерства Магии по уровням опасности;\n",
    "* `Colour`: цвет тела;\n",
    "* `Eye`: цвет глаз;\n",
    "* `Native`: происхождение и распространение;\n",
    "* `Size`: размер в дюймах."
   ]
  },
  {
   "cell_type": "markdown",
   "metadata": {},
   "source": [
    "Загрузим данные из CSV-файла:"
   ]
  },
  {
   "cell_type": "code",
   "execution_count": 10,
   "metadata": {},
   "outputs": [],
   "source": [
    "beasts = pd.read_csv(\"beasts.csv\")"
   ]
  },
  {
   "cell_type": "markdown",
   "metadata": {},
   "source": [
    "Запросим информацию по загруженной таблице:"
   ]
  },
  {
   "cell_type": "code",
   "execution_count": 11,
   "metadata": {},
   "outputs": [
    {
     "name": "stdout",
     "output_type": "stream",
     "text": [
      "<class 'pandas.core.frame.DataFrame'>\n",
      "RangeIndex: 81 entries, 0 to 80\n",
      "Data columns (total 8 columns):\n",
      " #   Column          Non-Null Count  Dtype  \n",
      "---  ------          --------------  -----  \n",
      " 0   Unnamed: 0      81 non-null     int64  \n",
      " 1   Name            81 non-null     object \n",
      " 2   Class           81 non-null     object \n",
      " 3   Classification  81 non-null     object \n",
      " 4   Colour          81 non-null     object \n",
      " 5   Eye             80 non-null     object \n",
      " 6   Native          81 non-null     object \n",
      " 7   Size            28 non-null     float64\n",
      "dtypes: float64(1), int64(1), object(6)\n",
      "memory usage: 5.2+ KB\n"
     ]
    }
   ],
   "source": [
    "# техническая информация\n",
    "\n",
    "beasts.info()"
   ]
  },
  {
   "cell_type": "markdown",
   "metadata": {},
   "source": [
    "**Примечание:** тип `int` — целочисленный (*integer*), тип `float` — вещественный, может включать в себя как дробные, так и целочисленные значения, тип `object` – текстовый (как `string`)."
   ]
  },
  {
   "cell_type": "code",
   "execution_count": 12,
   "metadata": {},
   "outputs": [
    {
     "data": {
      "text/plain": [
       "(81, 8)"
      ]
     },
     "execution_count": 12,
     "metadata": {},
     "output_type": "execute_result"
    }
   ],
   "source": [
    "# размерность таблицы – число строк и столбцов\n",
    "\n",
    "beasts.shape"
   ]
  },
  {
   "cell_type": "code",
   "execution_count": 13,
   "metadata": {},
   "outputs": [
    {
     "data": {
      "text/html": [
       "<div>\n",
       "<style scoped>\n",
       "    .dataframe tbody tr th:only-of-type {\n",
       "        vertical-align: middle;\n",
       "    }\n",
       "\n",
       "    .dataframe tbody tr th {\n",
       "        vertical-align: top;\n",
       "    }\n",
       "\n",
       "    .dataframe thead th {\n",
       "        text-align: right;\n",
       "    }\n",
       "</style>\n",
       "<table border=\"1\" class=\"dataframe\">\n",
       "  <thead>\n",
       "    <tr style=\"text-align: right;\">\n",
       "      <th></th>\n",
       "      <th>Unnamed: 0</th>\n",
       "      <th>Name</th>\n",
       "      <th>Class</th>\n",
       "      <th>Classification</th>\n",
       "      <th>Colour</th>\n",
       "      <th>Eye</th>\n",
       "      <th>Native</th>\n",
       "      <th>Size</th>\n",
       "    </tr>\n",
       "  </thead>\n",
       "  <tbody>\n",
       "    <tr>\n",
       "      <th>0</th>\n",
       "      <td>0</td>\n",
       "      <td>Acromantula</td>\n",
       "      <td>Acromantula</td>\n",
       "      <td>XXXXX</td>\n",
       "      <td>Jet-Black</td>\n",
       "      <td>Black</td>\n",
       "      <td>Island of Borneo</td>\n",
       "      <td>180.0</td>\n",
       "    </tr>\n",
       "    <tr>\n",
       "      <th>1</th>\n",
       "      <td>1</td>\n",
       "      <td>Basilisk</td>\n",
       "      <td>Basilisk</td>\n",
       "      <td>XXXXX</td>\n",
       "      <td>Green</td>\n",
       "      <td>Yellow</td>\n",
       "      <td>Greece</td>\n",
       "      <td>600.0</td>\n",
       "    </tr>\n",
       "    <tr>\n",
       "      <th>2</th>\n",
       "      <td>2</td>\n",
       "      <td>Chimaera</td>\n",
       "      <td>Chimaera</td>\n",
       "      <td>XXXXX</td>\n",
       "      <td>Golden</td>\n",
       "      <td>White</td>\n",
       "      <td>Greece</td>\n",
       "      <td>NaN</td>\n",
       "    </tr>\n",
       "    <tr>\n",
       "      <th>3</th>\n",
       "      <td>3</td>\n",
       "      <td>Antipodean Opaleye</td>\n",
       "      <td>Dragon</td>\n",
       "      <td>XXXXX</td>\n",
       "      <td>Pearly</td>\n",
       "      <td>Multi-coloured</td>\n",
       "      <td>New Zealand</td>\n",
       "      <td>NaN</td>\n",
       "    </tr>\n",
       "    <tr>\n",
       "      <th>4</th>\n",
       "      <td>4</td>\n",
       "      <td>Chinese Fireball</td>\n",
       "      <td>Dragon</td>\n",
       "      <td>XXXXX</td>\n",
       "      <td>Scarlet</td>\n",
       "      <td>Yellow</td>\n",
       "      <td>China</td>\n",
       "      <td>300.0</td>\n",
       "    </tr>\n",
       "  </tbody>\n",
       "</table>\n",
       "</div>"
      ],
      "text/plain": [
       "   Unnamed: 0                Name        Class Classification     Colour  \\\n",
       "0           0         Acromantula  Acromantula          XXXXX  Jet-Black   \n",
       "1           1            Basilisk     Basilisk          XXXXX      Green   \n",
       "2           2            Chimaera     Chimaera          XXXXX     Golden   \n",
       "3           3  Antipodean Opaleye       Dragon          XXXXX     Pearly   \n",
       "4           4    Chinese Fireball       Dragon          XXXXX    Scarlet   \n",
       "\n",
       "              Eye            Native   Size  \n",
       "0           Black  Island of Borneo  180.0  \n",
       "1          Yellow            Greece  600.0  \n",
       "2           White            Greece    NaN  \n",
       "3  Multi-coloured       New Zealand    NaN  \n",
       "4          Yellow             China  300.0  "
      ]
     },
     "execution_count": 13,
     "metadata": {},
     "output_type": "execute_result"
    }
   ],
   "source": [
    "# смотрим на первые 5 строк\n",
    "\n",
    "beasts.head()"
   ]
  },
  {
   "cell_type": "markdown",
   "metadata": {},
   "source": [
    "### Задача 1\n",
    "\n",
    "Выведите на экран список названий существ (переменная `Name`), отсортированный по алфавиту. "
   ]
  },
  {
   "cell_type": "code",
   "execution_count": 14,
   "metadata": {},
   "outputs": [
    {
     "data": {
      "text/plain": [
       "['Acromantula',\n",
       " 'Antipodean Opaleye',\n",
       " 'Ashwinder',\n",
       " 'Augurey',\n",
       " 'Basilisk',\n",
       " 'Billywig',\n",
       " 'Bowtruckle',\n",
       " 'Bundimun',\n",
       " 'Centaur',\n",
       " 'Chimaera',\n",
       " 'Chinese Fireball',\n",
       " 'Chizpurfle',\n",
       " 'Clabbert',\n",
       " 'Common Welsh Green',\n",
       " 'Crup',\n",
       " 'Demiguise',\n",
       " 'Diricawl',\n",
       " 'Doxy',\n",
       " 'Erkling',\n",
       " 'Erumpent',\n",
       " 'Fairy',\n",
       " 'Fire Crab',\n",
       " 'Flobberworm',\n",
       " 'Fwooper',\n",
       " 'Ghoul',\n",
       " 'Glumbumble',\n",
       " 'Gnome',\n",
       " 'Golden Snidget',\n",
       " 'Graphorn',\n",
       " 'Griffin',\n",
       " 'Grindylow',\n",
       " 'Hebridean Black',\n",
       " 'Hippocampus',\n",
       " 'Hippogriff',\n",
       " 'Horklump',\n",
       " 'Hungarian Horntail',\n",
       " 'Imp',\n",
       " 'Jarvey',\n",
       " 'Jobberknoll',\n",
       " 'Kappa',\n",
       " 'Kelpie',\n",
       " 'Knarl',\n",
       " 'Kneazle',\n",
       " 'Leprechaun',\n",
       " 'Lethifold',\n",
       " 'Lobalug',\n",
       " 'Mackled Malaclaw',\n",
       " 'Manticore',\n",
       " 'Merpeople',\n",
       " 'Moke',\n",
       " 'Mooncalf',\n",
       " 'Murtlap',\n",
       " 'Niffler',\n",
       " 'Nogtail',\n",
       " 'Norwegian Ridgeback',\n",
       " 'Nundu',\n",
       " 'Occamy',\n",
       " 'Peruvian Vipertooth',\n",
       " 'Phoenix',\n",
       " 'Pixie',\n",
       " 'Plimpy',\n",
       " 'Pogrebin',\n",
       " 'Porlock',\n",
       " 'Puffskein',\n",
       " 'Quintaped',\n",
       " \"Re'em\",\n",
       " 'Red Cap',\n",
       " 'Romanian Longhorn',\n",
       " 'Runespoor',\n",
       " 'Salamander',\n",
       " 'Sea serpent',\n",
       " 'Sphinx',\n",
       " 'Streeler',\n",
       " 'Swedish Short-Snout',\n",
       " 'Tebo',\n",
       " 'Thestral',\n",
       " 'Troll',\n",
       " 'Ukrainian Ironbelly',\n",
       " 'Unicorn',\n",
       " 'Werewolf',\n",
       " 'Yeti']"
      ]
     },
     "execution_count": 14,
     "metadata": {},
     "output_type": "execute_result"
    }
   ],
   "source": [
    "# функция sorted()\n",
    "\n",
    "sorted(beasts[\"Name\"])  "
   ]
  },
  {
   "cell_type": "code",
   "execution_count": 15,
   "metadata": {},
   "outputs": [
    {
     "data": {
      "text/plain": [
       "0             Acromantula\n",
       "3      Antipodean Opaleye\n",
       "38              Ashwinder\n",
       "65                Augurey\n",
       "1                Basilisk\n",
       "             ...         \n",
       "35                  Troll\n",
       "12    Ukrainian Ironbelly\n",
       "36                Unicorn\n",
       "17               Werewolf\n",
       "37                   Yeti\n",
       "Name: Name, Length: 81, dtype: object"
      ]
     },
     "execution_count": 15,
     "metadata": {},
     "output_type": "execute_result"
    }
   ],
   "source": [
    "# метод sort_values() для столбцов\n",
    "# столбец – объект Pandas Series\n",
    "# сортируем столбец –> на выходе отсортированная копия столбца\n",
    "\n",
    "beasts[\"Name\"].sort_values()"
   ]
  },
  {
   "cell_type": "markdown",
   "metadata": {},
   "source": [
    "**Дополнение:** метод `.sort_values()` можно применять и к датафреймам для сортировки строк. Например, можем отсортировать строки в соответствии со значениями в столбце `Name` (по названию в алфавитном порядке, в исходных данных сортировка по возрастанию уровню опасности в `Classification`):"
   ]
  },
  {
   "cell_type": "code",
   "execution_count": 16,
   "metadata": {},
   "outputs": [
    {
     "data": {
      "text/html": [
       "<div>\n",
       "<style scoped>\n",
       "    .dataframe tbody tr th:only-of-type {\n",
       "        vertical-align: middle;\n",
       "    }\n",
       "\n",
       "    .dataframe tbody tr th {\n",
       "        vertical-align: top;\n",
       "    }\n",
       "\n",
       "    .dataframe thead th {\n",
       "        text-align: right;\n",
       "    }\n",
       "</style>\n",
       "<table border=\"1\" class=\"dataframe\">\n",
       "  <thead>\n",
       "    <tr style=\"text-align: right;\">\n",
       "      <th></th>\n",
       "      <th>Unnamed: 0</th>\n",
       "      <th>Name</th>\n",
       "      <th>Class</th>\n",
       "      <th>Classification</th>\n",
       "      <th>Colour</th>\n",
       "      <th>Eye</th>\n",
       "      <th>Native</th>\n",
       "      <th>Size</th>\n",
       "    </tr>\n",
       "  </thead>\n",
       "  <tbody>\n",
       "    <tr>\n",
       "      <th>0</th>\n",
       "      <td>0</td>\n",
       "      <td>Acromantula</td>\n",
       "      <td>Acromantula</td>\n",
       "      <td>XXXXX</td>\n",
       "      <td>Jet-Black</td>\n",
       "      <td>Black</td>\n",
       "      <td>Island of Borneo</td>\n",
       "      <td>180.0</td>\n",
       "    </tr>\n",
       "    <tr>\n",
       "      <th>3</th>\n",
       "      <td>3</td>\n",
       "      <td>Antipodean Opaleye</td>\n",
       "      <td>Dragon</td>\n",
       "      <td>XXXXX</td>\n",
       "      <td>Pearly</td>\n",
       "      <td>Multi-coloured</td>\n",
       "      <td>New Zealand</td>\n",
       "      <td>NaN</td>\n",
       "    </tr>\n",
       "    <tr>\n",
       "      <th>38</th>\n",
       "      <td>38</td>\n",
       "      <td>Ashwinder</td>\n",
       "      <td>Ashwinder</td>\n",
       "      <td>XXX</td>\n",
       "      <td>Pale-Grey</td>\n",
       "      <td>Red</td>\n",
       "      <td>World-wide</td>\n",
       "      <td>NaN</td>\n",
       "    </tr>\n",
       "    <tr>\n",
       "      <th>65</th>\n",
       "      <td>65</td>\n",
       "      <td>Augurey</td>\n",
       "      <td>Augurey</td>\n",
       "      <td>XX</td>\n",
       "      <td>Greenish-black</td>\n",
       "      <td>Blue</td>\n",
       "      <td>Great Britain|Ireland</td>\n",
       "      <td>NaN</td>\n",
       "    </tr>\n",
       "    <tr>\n",
       "      <th>1</th>\n",
       "      <td>1</td>\n",
       "      <td>Basilisk</td>\n",
       "      <td>Basilisk</td>\n",
       "      <td>XXXXX</td>\n",
       "      <td>Green</td>\n",
       "      <td>Yellow</td>\n",
       "      <td>Greece</td>\n",
       "      <td>600.0</td>\n",
       "    </tr>\n",
       "    <tr>\n",
       "      <th>...</th>\n",
       "      <td>...</td>\n",
       "      <td>...</td>\n",
       "      <td>...</td>\n",
       "      <td>...</td>\n",
       "      <td>...</td>\n",
       "      <td>...</td>\n",
       "      <td>...</td>\n",
       "      <td>...</td>\n",
       "    </tr>\n",
       "    <tr>\n",
       "      <th>35</th>\n",
       "      <td>35</td>\n",
       "      <td>Troll</td>\n",
       "      <td>Troll</td>\n",
       "      <td>XXXX</td>\n",
       "      <td>Varies</td>\n",
       "      <td>Varies</td>\n",
       "      <td>Europe</td>\n",
       "      <td>144.0</td>\n",
       "    </tr>\n",
       "    <tr>\n",
       "      <th>12</th>\n",
       "      <td>12</td>\n",
       "      <td>Ukrainian Ironbelly</td>\n",
       "      <td>Dragon</td>\n",
       "      <td>XXXXX</td>\n",
       "      <td>Metallic grey-silver</td>\n",
       "      <td>Deep red</td>\n",
       "      <td>Ukraine</td>\n",
       "      <td>NaN</td>\n",
       "    </tr>\n",
       "    <tr>\n",
       "      <th>36</th>\n",
       "      <td>36</td>\n",
       "      <td>Unicorn</td>\n",
       "      <td>Unicorn</td>\n",
       "      <td>XXXX</td>\n",
       "      <td>White|Silver|Gold</td>\n",
       "      <td>No data</td>\n",
       "      <td>Europe</td>\n",
       "      <td>NaN</td>\n",
       "    </tr>\n",
       "    <tr>\n",
       "      <th>17</th>\n",
       "      <td>17</td>\n",
       "      <td>Werewolf</td>\n",
       "      <td>Werewolf</td>\n",
       "      <td>XXXXX</td>\n",
       "      <td>Varies</td>\n",
       "      <td>Varies</td>\n",
       "      <td>World-wide</td>\n",
       "      <td>NaN</td>\n",
       "    </tr>\n",
       "    <tr>\n",
       "      <th>37</th>\n",
       "      <td>37</td>\n",
       "      <td>Yeti</td>\n",
       "      <td>Yeti</td>\n",
       "      <td>XXXX</td>\n",
       "      <td>Grey|White</td>\n",
       "      <td>No data</td>\n",
       "      <td>Tibet</td>\n",
       "      <td>180.0</td>\n",
       "    </tr>\n",
       "  </tbody>\n",
       "</table>\n",
       "<p>81 rows × 8 columns</p>\n",
       "</div>"
      ],
      "text/plain": [
       "    Unnamed: 0                 Name        Class Classification  \\\n",
       "0            0          Acromantula  Acromantula          XXXXX   \n",
       "3            3   Antipodean Opaleye       Dragon          XXXXX   \n",
       "38          38            Ashwinder    Ashwinder            XXX   \n",
       "65          65              Augurey      Augurey             XX   \n",
       "1            1             Basilisk     Basilisk          XXXXX   \n",
       "..         ...                  ...          ...            ...   \n",
       "35          35                Troll        Troll           XXXX   \n",
       "12          12  Ukrainian Ironbelly       Dragon          XXXXX   \n",
       "36          36              Unicorn      Unicorn           XXXX   \n",
       "17          17             Werewolf     Werewolf          XXXXX   \n",
       "37          37                 Yeti         Yeti           XXXX   \n",
       "\n",
       "                  Colour             Eye                 Native   Size  \n",
       "0              Jet-Black           Black       Island of Borneo  180.0  \n",
       "3                 Pearly  Multi-coloured            New Zealand    NaN  \n",
       "38             Pale-Grey             Red             World-wide    NaN  \n",
       "65        Greenish-black            Blue  Great Britain|Ireland    NaN  \n",
       "1                  Green          Yellow                 Greece  600.0  \n",
       "..                   ...             ...                    ...    ...  \n",
       "35                Varies          Varies                 Europe  144.0  \n",
       "12  Metallic grey-silver        Deep red                Ukraine    NaN  \n",
       "36     White|Silver|Gold         No data                 Europe    NaN  \n",
       "17                Varies          Varies             World-wide    NaN  \n",
       "37            Grey|White         No data                  Tibet  180.0  \n",
       "\n",
       "[81 rows x 8 columns]"
      ]
     },
     "execution_count": 16,
     "metadata": {},
     "output_type": "execute_result"
    }
   ],
   "source": [
    "beasts.sort_values(\"Name\")"
   ]
  },
  {
   "cell_type": "markdown",
   "metadata": {},
   "source": [
    "А можем указать сразу несколько оснований для сортировки – подать их на вход `.sort_values()` в виде списка:"
   ]
  },
  {
   "cell_type": "code",
   "execution_count": 17,
   "metadata": {},
   "outputs": [
    {
     "data": {
      "text/html": [
       "<div>\n",
       "<style scoped>\n",
       "    .dataframe tbody tr th:only-of-type {\n",
       "        vertical-align: middle;\n",
       "    }\n",
       "\n",
       "    .dataframe tbody tr th {\n",
       "        vertical-align: top;\n",
       "    }\n",
       "\n",
       "    .dataframe thead th {\n",
       "        text-align: right;\n",
       "    }\n",
       "</style>\n",
       "<table border=\"1\" class=\"dataframe\">\n",
       "  <thead>\n",
       "    <tr style=\"text-align: right;\">\n",
       "      <th></th>\n",
       "      <th>Unnamed: 0</th>\n",
       "      <th>Name</th>\n",
       "      <th>Class</th>\n",
       "      <th>Classification</th>\n",
       "      <th>Colour</th>\n",
       "      <th>Eye</th>\n",
       "      <th>Native</th>\n",
       "      <th>Size</th>\n",
       "    </tr>\n",
       "  </thead>\n",
       "  <tbody>\n",
       "    <tr>\n",
       "      <th>79</th>\n",
       "      <td>79</td>\n",
       "      <td>Flobberworm</td>\n",
       "      <td>Flobberworm</td>\n",
       "      <td>X</td>\n",
       "      <td>Brown</td>\n",
       "      <td>No data</td>\n",
       "      <td>No data</td>\n",
       "      <td>10.00</td>\n",
       "    </tr>\n",
       "    <tr>\n",
       "      <th>80</th>\n",
       "      <td>80</td>\n",
       "      <td>Horklump</td>\n",
       "      <td>Horklump</td>\n",
       "      <td>X</td>\n",
       "      <td>Pink|Black</td>\n",
       "      <td>No data</td>\n",
       "      <td>Scandinavia</td>\n",
       "      <td>NaN</td>\n",
       "    </tr>\n",
       "    <tr>\n",
       "      <th>65</th>\n",
       "      <td>65</td>\n",
       "      <td>Augurey</td>\n",
       "      <td>Augurey</td>\n",
       "      <td>XX</td>\n",
       "      <td>Greenish-black</td>\n",
       "      <td>Blue</td>\n",
       "      <td>Great Britain|Ireland</td>\n",
       "      <td>NaN</td>\n",
       "    </tr>\n",
       "    <tr>\n",
       "      <th>66</th>\n",
       "      <td>66</td>\n",
       "      <td>Bowtruckle</td>\n",
       "      <td>Bowtruckle</td>\n",
       "      <td>XX</td>\n",
       "      <td>Green</td>\n",
       "      <td>Brown</td>\n",
       "      <td>England|Germany|Scandinavia</td>\n",
       "      <td>8.00</td>\n",
       "    </tr>\n",
       "    <tr>\n",
       "      <th>67</th>\n",
       "      <td>67</td>\n",
       "      <td>Chizpurfle</td>\n",
       "      <td>Chizpurfle</td>\n",
       "      <td>XX</td>\n",
       "      <td>Brown|Green</td>\n",
       "      <td>Black</td>\n",
       "      <td>World-wide</td>\n",
       "      <td>0.05</td>\n",
       "    </tr>\n",
       "    <tr>\n",
       "      <th>...</th>\n",
       "      <td>...</td>\n",
       "      <td>...</td>\n",
       "      <td>...</td>\n",
       "      <td>...</td>\n",
       "      <td>...</td>\n",
       "      <td>...</td>\n",
       "      <td>...</td>\n",
       "      <td>...</td>\n",
       "    </tr>\n",
       "    <tr>\n",
       "      <th>16</th>\n",
       "      <td>16</td>\n",
       "      <td>Quintaped</td>\n",
       "      <td>Quintaped</td>\n",
       "      <td>XXXXX</td>\n",
       "      <td>Red-brown</td>\n",
       "      <td>No data</td>\n",
       "      <td>Isle of Drear</td>\n",
       "      <td>NaN</td>\n",
       "    </tr>\n",
       "    <tr>\n",
       "      <th>10</th>\n",
       "      <td>10</td>\n",
       "      <td>Romanian Longhorn</td>\n",
       "      <td>Dragon</td>\n",
       "      <td>XXXXX</td>\n",
       "      <td>Dark green</td>\n",
       "      <td>No data</td>\n",
       "      <td>Romania</td>\n",
       "      <td>480.00</td>\n",
       "    </tr>\n",
       "    <tr>\n",
       "      <th>11</th>\n",
       "      <td>11</td>\n",
       "      <td>Swedish Short-Snout</td>\n",
       "      <td>Dragon</td>\n",
       "      <td>XXXXX</td>\n",
       "      <td>Silvery blue</td>\n",
       "      <td>No data</td>\n",
       "      <td>Sweden</td>\n",
       "      <td>264.00</td>\n",
       "    </tr>\n",
       "    <tr>\n",
       "      <th>12</th>\n",
       "      <td>12</td>\n",
       "      <td>Ukrainian Ironbelly</td>\n",
       "      <td>Dragon</td>\n",
       "      <td>XXXXX</td>\n",
       "      <td>Metallic grey-silver</td>\n",
       "      <td>Deep red</td>\n",
       "      <td>Ukraine</td>\n",
       "      <td>NaN</td>\n",
       "    </tr>\n",
       "    <tr>\n",
       "      <th>17</th>\n",
       "      <td>17</td>\n",
       "      <td>Werewolf</td>\n",
       "      <td>Werewolf</td>\n",
       "      <td>XXXXX</td>\n",
       "      <td>Varies</td>\n",
       "      <td>Varies</td>\n",
       "      <td>World-wide</td>\n",
       "      <td>NaN</td>\n",
       "    </tr>\n",
       "  </tbody>\n",
       "</table>\n",
       "<p>81 rows × 8 columns</p>\n",
       "</div>"
      ],
      "text/plain": [
       "    Unnamed: 0                 Name        Class Classification  \\\n",
       "79          79          Flobberworm  Flobberworm              X   \n",
       "80          80             Horklump     Horklump              X   \n",
       "65          65              Augurey      Augurey             XX   \n",
       "66          66           Bowtruckle   Bowtruckle             XX   \n",
       "67          67           Chizpurfle   Chizpurfle             XX   \n",
       "..         ...                  ...          ...            ...   \n",
       "16          16            Quintaped    Quintaped          XXXXX   \n",
       "10          10    Romanian Longhorn       Dragon          XXXXX   \n",
       "11          11  Swedish Short-Snout       Dragon          XXXXX   \n",
       "12          12  Ukrainian Ironbelly       Dragon          XXXXX   \n",
       "17          17             Werewolf     Werewolf          XXXXX   \n",
       "\n",
       "                  Colour       Eye                       Native    Size  \n",
       "79                 Brown   No data                      No data   10.00  \n",
       "80            Pink|Black   No data                  Scandinavia     NaN  \n",
       "65        Greenish-black      Blue        Great Britain|Ireland     NaN  \n",
       "66                 Green     Brown  England|Germany|Scandinavia    8.00  \n",
       "67           Brown|Green     Black                   World-wide    0.05  \n",
       "..                   ...       ...                          ...     ...  \n",
       "16             Red-brown   No data                Isle of Drear     NaN  \n",
       "10            Dark green   No data                      Romania  480.00  \n",
       "11          Silvery blue   No data                       Sweden  264.00  \n",
       "12  Metallic grey-silver  Deep red                      Ukraine     NaN  \n",
       "17                Varies    Varies                   World-wide     NaN  \n",
       "\n",
       "[81 rows x 8 columns]"
      ]
     },
     "execution_count": 17,
     "metadata": {},
     "output_type": "execute_result"
    }
   ],
   "source": [
    "beasts.sort_values([\"Classification\", \"Name\"])"
   ]
  },
  {
   "cell_type": "markdown",
   "metadata": {},
   "source": [
    "В примере выше сначала выполняется сортировка по уровню опасности `Classification`, а затем – по названию `Name`. То есть, если у существ одинаковый уровень опасности, сначала будут идти существа с названием на *A*, затем – на *B*, и так далее. Стоит отметить, что сортировка уровня опасности тоже производится по алфавиту, так как столбец текстовый, просто в нашем случае это совпадает с «количественной» интерпретацией крестиков `X`  (раз все символы в последовательности одинаковы, то сначала будут идти более короткие наборы из этих символов, а потом – более длинные). \n",
    "\n",
    "**NB**. Метод `.sort_values()` по умолчанию не изменяет сам датафрейм, а возвращает его измененную копию. Если мы хотим сохранить результат сортировки, можно перезаписать датафрейм через `=`:\n",
    "\n",
    "    beasts = beasts.sort_values([\"Classification\", \"Name\"]) \n",
    "    \n",
    "Либо указать аргумент `inplace = True` (сохранение новых значений на месте старых):   \n",
    "\n",
    "    beasts.sort_values([\"Classification\", \"Name\"], inplace = True) "
   ]
  },
  {
   "cell_type": "markdown",
   "metadata": {},
   "source": [
    "### Задача 2\n",
    "\n",
    "Определите, существ какого вида (переменная `Class`) больше всего."
   ]
  },
  {
   "cell_type": "code",
   "execution_count": 18,
   "metadata": {},
   "outputs": [
    {
     "data": {
      "text/plain": [
       "Dragon            10\n",
       "Acromantula        1\n",
       "Murtlap            1\n",
       "Red Cap            1\n",
       "Pogrebin           1\n",
       "                  ..\n",
       "Tebo               1\n",
       "Sphinx             1\n",
       "Golden Snidget     1\n",
       "Runespoor          1\n",
       "Horklump           1\n",
       "Name: Class, Length: 72, dtype: int64"
      ]
     },
     "execution_count": 18,
     "metadata": {},
     "output_type": "execute_result"
    }
   ],
   "source": [
    "# метод .value_counts() выдает пары значение-частота\n",
    "\n",
    "beasts[\"Class\"].value_counts()"
   ]
  },
  {
   "cell_type": "code",
   "execution_count": 19,
   "metadata": {},
   "outputs": [
    {
     "data": {
      "text/plain": [
       "81"
      ]
     },
     "execution_count": 19,
     "metadata": {},
     "output_type": "execute_result"
    }
   ],
   "source": [
    "# не путать с .count()\n",
    "# он считает число заполненных ячеек в столбце\n",
    "\n",
    "beasts[\"Class\"].count()"
   ]
  },
  {
   "cell_type": "markdown",
   "metadata": {},
   "source": [
    "### Задача 3\n",
    "\n",
    "Определите число уникальных значений цветов глаз существ (переменная `Eye`)."
   ]
  },
  {
   "cell_type": "code",
   "execution_count": 20,
   "metadata": {},
   "outputs": [
    {
     "data": {
      "text/plain": [
       "18"
      ]
     },
     "execution_count": 20,
     "metadata": {},
     "output_type": "execute_result"
    }
   ],
   "source": [
    "# метод .unique() –> массив уникальных значений\n",
    "# атрибут .size – общее число элементов массива\n",
    "\n",
    "beasts[\"Eye\"].unique().size"
   ]
  },
  {
   "cell_type": "code",
   "execution_count": 21,
   "metadata": {},
   "outputs": [
    {
     "data": {
      "text/plain": [
       "18"
      ]
     },
     "execution_count": 21,
     "metadata": {},
     "output_type": "execute_result"
    }
   ],
   "source": [
    "# метод .unique() –> массив уникальных значений\n",
    "# длина массива\n",
    "\n",
    "len(beasts[\"Eye\"].unique())"
   ]
  },
  {
   "cell_type": "markdown",
   "metadata": {},
   "source": [
    "### Задача 4\n",
    "\n",
    "Добавьте в таблицу новый признак `Dragon`, который будет представлять собой закодированный вид существа: 1, если это дракон, 0 – во всех остальных случаях (переменная `Class`)."
   ]
  },
  {
   "cell_type": "code",
   "execution_count": 22,
   "metadata": {},
   "outputs": [
    {
     "data": {
      "text/html": [
       "<div>\n",
       "<style scoped>\n",
       "    .dataframe tbody tr th:only-of-type {\n",
       "        vertical-align: middle;\n",
       "    }\n",
       "\n",
       "    .dataframe tbody tr th {\n",
       "        vertical-align: top;\n",
       "    }\n",
       "\n",
       "    .dataframe thead th {\n",
       "        text-align: right;\n",
       "    }\n",
       "</style>\n",
       "<table border=\"1\" class=\"dataframe\">\n",
       "  <thead>\n",
       "    <tr style=\"text-align: right;\">\n",
       "      <th></th>\n",
       "      <th>Unnamed: 0</th>\n",
       "      <th>Name</th>\n",
       "      <th>Class</th>\n",
       "      <th>Classification</th>\n",
       "      <th>Colour</th>\n",
       "      <th>Eye</th>\n",
       "      <th>Native</th>\n",
       "      <th>Size</th>\n",
       "      <th>Dragon</th>\n",
       "    </tr>\n",
       "  </thead>\n",
       "  <tbody>\n",
       "    <tr>\n",
       "      <th>0</th>\n",
       "      <td>0</td>\n",
       "      <td>Acromantula</td>\n",
       "      <td>Acromantula</td>\n",
       "      <td>XXXXX</td>\n",
       "      <td>Jet-Black</td>\n",
       "      <td>Black</td>\n",
       "      <td>Island of Borneo</td>\n",
       "      <td>180.0</td>\n",
       "      <td>0</td>\n",
       "    </tr>\n",
       "    <tr>\n",
       "      <th>1</th>\n",
       "      <td>1</td>\n",
       "      <td>Basilisk</td>\n",
       "      <td>Basilisk</td>\n",
       "      <td>XXXXX</td>\n",
       "      <td>Green</td>\n",
       "      <td>Yellow</td>\n",
       "      <td>Greece</td>\n",
       "      <td>600.0</td>\n",
       "      <td>0</td>\n",
       "    </tr>\n",
       "    <tr>\n",
       "      <th>2</th>\n",
       "      <td>2</td>\n",
       "      <td>Chimaera</td>\n",
       "      <td>Chimaera</td>\n",
       "      <td>XXXXX</td>\n",
       "      <td>Golden</td>\n",
       "      <td>White</td>\n",
       "      <td>Greece</td>\n",
       "      <td>NaN</td>\n",
       "      <td>0</td>\n",
       "    </tr>\n",
       "    <tr>\n",
       "      <th>3</th>\n",
       "      <td>3</td>\n",
       "      <td>Antipodean Opaleye</td>\n",
       "      <td>Dragon</td>\n",
       "      <td>XXXXX</td>\n",
       "      <td>Pearly</td>\n",
       "      <td>Multi-coloured</td>\n",
       "      <td>New Zealand</td>\n",
       "      <td>NaN</td>\n",
       "      <td>1</td>\n",
       "    </tr>\n",
       "    <tr>\n",
       "      <th>4</th>\n",
       "      <td>4</td>\n",
       "      <td>Chinese Fireball</td>\n",
       "      <td>Dragon</td>\n",
       "      <td>XXXXX</td>\n",
       "      <td>Scarlet</td>\n",
       "      <td>Yellow</td>\n",
       "      <td>China</td>\n",
       "      <td>300.0</td>\n",
       "      <td>1</td>\n",
       "    </tr>\n",
       "  </tbody>\n",
       "</table>\n",
       "</div>"
      ],
      "text/plain": [
       "   Unnamed: 0                Name        Class Classification     Colour  \\\n",
       "0           0         Acromantula  Acromantula          XXXXX  Jet-Black   \n",
       "1           1            Basilisk     Basilisk          XXXXX      Green   \n",
       "2           2            Chimaera     Chimaera          XXXXX     Golden   \n",
       "3           3  Antipodean Opaleye       Dragon          XXXXX     Pearly   \n",
       "4           4    Chinese Fireball       Dragon          XXXXX    Scarlet   \n",
       "\n",
       "              Eye            Native   Size  Dragon  \n",
       "0           Black  Island of Borneo  180.0       0  \n",
       "1          Yellow            Greece  600.0       0  \n",
       "2           White            Greece    NaN       0  \n",
       "3  Multi-coloured       New Zealand    NaN       1  \n",
       "4          Yellow             China  300.0       1  "
      ]
     },
     "execution_count": 22,
     "metadata": {},
     "output_type": "execute_result"
    }
   ],
   "source": [
    "beasts[\"Dragon\"] = (beasts[\"Class\"] == \"Dragon\").astype(int)\n",
    "beasts.head()"
   ]
  },
  {
   "cell_type": "markdown",
   "metadata": {},
   "source": [
    "**Логика кода.** Выражение `beasts[\"Class\"] == \"Dragon\"` проверяет выполнение условия для каждой ячейки в столбце и возвращает столбец (`pandas Series`) из `True` и `False`:"
   ]
  },
  {
   "cell_type": "code",
   "execution_count": 23,
   "metadata": {},
   "outputs": [
    {
     "data": {
      "text/plain": [
       "0     False\n",
       "1     False\n",
       "2     False\n",
       "3      True\n",
       "4      True\n",
       "      ...  \n",
       "76    False\n",
       "77    False\n",
       "78    False\n",
       "79    False\n",
       "80    False\n",
       "Name: Class, Length: 81, dtype: bool"
      ]
     },
     "execution_count": 23,
     "metadata": {},
     "output_type": "execute_result"
    }
   ],
   "source": [
    "beasts[\"Class\"] == \"Dragon\""
   ]
  },
  {
   "cell_type": "markdown",
   "metadata": {},
   "source": [
    "Так как Python умеет конвертировать `True` в 1, а `False` – в 0 (вспоминаем приведение типов), мы можем изменить тип полученного столбца на *integer* с помощью метода `.astype()` и получить желаемый результат."
   ]
  },
  {
   "cell_type": "code",
   "execution_count": 24,
   "metadata": {},
   "outputs": [
    {
     "data": {
      "text/plain": [
       "0     0\n",
       "1     0\n",
       "2     0\n",
       "3     1\n",
       "4     1\n",
       "     ..\n",
       "76    0\n",
       "77    0\n",
       "78    0\n",
       "79    0\n",
       "80    0\n",
       "Name: Class, Length: 81, dtype: int64"
      ]
     },
     "execution_count": 24,
     "metadata": {},
     "output_type": "execute_result"
    }
   ],
   "source": [
    "(beasts[\"Class\"] == \"Dragon\").astype(int)"
   ]
  },
  {
   "cell_type": "markdown",
   "metadata": {},
   "source": [
    "### Задача 5\n",
    "\n",
    "Добавьте в таблицу новый признак `Danger2`, который будет представлять собой закодированный уровень опасности существа (переменная `Classification`): 0, если уровень опасности по классификации Министерства Магии `X` или `XX`, 1, если уровень опасности по классификации Министерства Магии `XXX`, `XXXX` или `XXXXX`."
   ]
  },
  {
   "cell_type": "code",
   "execution_count": 25,
   "metadata": {},
   "outputs": [
    {
     "data": {
      "text/html": [
       "<div>\n",
       "<style scoped>\n",
       "    .dataframe tbody tr th:only-of-type {\n",
       "        vertical-align: middle;\n",
       "    }\n",
       "\n",
       "    .dataframe tbody tr th {\n",
       "        vertical-align: top;\n",
       "    }\n",
       "\n",
       "    .dataframe thead th {\n",
       "        text-align: right;\n",
       "    }\n",
       "</style>\n",
       "<table border=\"1\" class=\"dataframe\">\n",
       "  <thead>\n",
       "    <tr style=\"text-align: right;\">\n",
       "      <th></th>\n",
       "      <th>Unnamed: 0</th>\n",
       "      <th>Name</th>\n",
       "      <th>Class</th>\n",
       "      <th>Classification</th>\n",
       "      <th>Colour</th>\n",
       "      <th>Eye</th>\n",
       "      <th>Native</th>\n",
       "      <th>Size</th>\n",
       "      <th>Dragon</th>\n",
       "      <th>Danger2</th>\n",
       "    </tr>\n",
       "  </thead>\n",
       "  <tbody>\n",
       "    <tr>\n",
       "      <th>0</th>\n",
       "      <td>0</td>\n",
       "      <td>Acromantula</td>\n",
       "      <td>Acromantula</td>\n",
       "      <td>XXXXX</td>\n",
       "      <td>Jet-Black</td>\n",
       "      <td>Black</td>\n",
       "      <td>Island of Borneo</td>\n",
       "      <td>180.0</td>\n",
       "      <td>0</td>\n",
       "      <td>1</td>\n",
       "    </tr>\n",
       "    <tr>\n",
       "      <th>1</th>\n",
       "      <td>1</td>\n",
       "      <td>Basilisk</td>\n",
       "      <td>Basilisk</td>\n",
       "      <td>XXXXX</td>\n",
       "      <td>Green</td>\n",
       "      <td>Yellow</td>\n",
       "      <td>Greece</td>\n",
       "      <td>600.0</td>\n",
       "      <td>0</td>\n",
       "      <td>1</td>\n",
       "    </tr>\n",
       "    <tr>\n",
       "      <th>2</th>\n",
       "      <td>2</td>\n",
       "      <td>Chimaera</td>\n",
       "      <td>Chimaera</td>\n",
       "      <td>XXXXX</td>\n",
       "      <td>Golden</td>\n",
       "      <td>White</td>\n",
       "      <td>Greece</td>\n",
       "      <td>NaN</td>\n",
       "      <td>0</td>\n",
       "      <td>1</td>\n",
       "    </tr>\n",
       "    <tr>\n",
       "      <th>3</th>\n",
       "      <td>3</td>\n",
       "      <td>Antipodean Opaleye</td>\n",
       "      <td>Dragon</td>\n",
       "      <td>XXXXX</td>\n",
       "      <td>Pearly</td>\n",
       "      <td>Multi-coloured</td>\n",
       "      <td>New Zealand</td>\n",
       "      <td>NaN</td>\n",
       "      <td>1</td>\n",
       "      <td>1</td>\n",
       "    </tr>\n",
       "    <tr>\n",
       "      <th>4</th>\n",
       "      <td>4</td>\n",
       "      <td>Chinese Fireball</td>\n",
       "      <td>Dragon</td>\n",
       "      <td>XXXXX</td>\n",
       "      <td>Scarlet</td>\n",
       "      <td>Yellow</td>\n",
       "      <td>China</td>\n",
       "      <td>300.0</td>\n",
       "      <td>1</td>\n",
       "      <td>1</td>\n",
       "    </tr>\n",
       "  </tbody>\n",
       "</table>\n",
       "</div>"
      ],
      "text/plain": [
       "   Unnamed: 0                Name        Class Classification     Colour  \\\n",
       "0           0         Acromantula  Acromantula          XXXXX  Jet-Black   \n",
       "1           1            Basilisk     Basilisk          XXXXX      Green   \n",
       "2           2            Chimaera     Chimaera          XXXXX     Golden   \n",
       "3           3  Antipodean Opaleye       Dragon          XXXXX     Pearly   \n",
       "4           4    Chinese Fireball       Dragon          XXXXX    Scarlet   \n",
       "\n",
       "              Eye            Native   Size  Dragon  Danger2  \n",
       "0           Black  Island of Borneo  180.0       0        1  \n",
       "1          Yellow            Greece  600.0       0        1  \n",
       "2           White            Greece    NaN       0        1  \n",
       "3  Multi-coloured       New Zealand    NaN       1        1  \n",
       "4          Yellow             China  300.0       1        1  "
      ]
     },
     "execution_count": 25,
     "metadata": {},
     "output_type": "execute_result"
    }
   ],
   "source": [
    "beasts[\"Danger2\"] = beasts[\"Classification\"].apply(lambda x: \n",
    "                                                   1 if len(x) > 2 else 0) \n",
    "beasts.head()"
   ]
  },
  {
   "cell_type": "markdown",
   "metadata": {},
   "source": [
    "**Логика кода.** Метод `.apply()` позволяет применить функцию ко всем ячейкам в столбце без циклов, это своего рода аналог `map()` в pandas. Внутри `.apply()` мы должны написать функцию, которая будет превращать значения опасности в виде набора крестиков в 0 и 1. Заметим, что здесь проще всего определить длину каждой последовательности крестиков и, если эта длина больше 2, возвращать 1, иначе – 0. Пишем lambda-функцию, которая принимает на вход строку `x`, а возвращает числа 1 или 0 в зависимости от выполнения условия. Затем помещаем выражение с этой функцией внутрь `.apply()` и применяем к столбцу `Classification`."
   ]
  },
  {
   "cell_type": "markdown",
   "metadata": {},
   "source": [
    "### Задача 6\n",
    "\n",
    "Добавьте в таблицу новый признак `Danger3`, который будет представлять собой закодированный уровень опасности существа: \n",
    "\n",
    "* `High`: если класс Министерства Магии равен 4 или 5 (`XXXX` или `XXXXX`); \n",
    "* `Medium`: если класс Министерства Магии равен 3 (`XXX`);\n",
    "* `Low`: если класс Министерства Магии равен 1 или 2 (`X` и `XX`)."
   ]
  },
  {
   "cell_type": "code",
   "execution_count": 26,
   "metadata": {},
   "outputs": [
    {
     "data": {
      "text/html": [
       "<div>\n",
       "<style scoped>\n",
       "    .dataframe tbody tr th:only-of-type {\n",
       "        vertical-align: middle;\n",
       "    }\n",
       "\n",
       "    .dataframe tbody tr th {\n",
       "        vertical-align: top;\n",
       "    }\n",
       "\n",
       "    .dataframe thead th {\n",
       "        text-align: right;\n",
       "    }\n",
       "</style>\n",
       "<table border=\"1\" class=\"dataframe\">\n",
       "  <thead>\n",
       "    <tr style=\"text-align: right;\">\n",
       "      <th></th>\n",
       "      <th>Unnamed: 0</th>\n",
       "      <th>Name</th>\n",
       "      <th>Class</th>\n",
       "      <th>Classification</th>\n",
       "      <th>Colour</th>\n",
       "      <th>Eye</th>\n",
       "      <th>Native</th>\n",
       "      <th>Size</th>\n",
       "      <th>Dragon</th>\n",
       "      <th>Danger2</th>\n",
       "      <th>Danger3</th>\n",
       "    </tr>\n",
       "  </thead>\n",
       "  <tbody>\n",
       "    <tr>\n",
       "      <th>0</th>\n",
       "      <td>0</td>\n",
       "      <td>Acromantula</td>\n",
       "      <td>Acromantula</td>\n",
       "      <td>XXXXX</td>\n",
       "      <td>Jet-Black</td>\n",
       "      <td>Black</td>\n",
       "      <td>Island of Borneo</td>\n",
       "      <td>180.0</td>\n",
       "      <td>0</td>\n",
       "      <td>1</td>\n",
       "      <td>High</td>\n",
       "    </tr>\n",
       "    <tr>\n",
       "      <th>1</th>\n",
       "      <td>1</td>\n",
       "      <td>Basilisk</td>\n",
       "      <td>Basilisk</td>\n",
       "      <td>XXXXX</td>\n",
       "      <td>Green</td>\n",
       "      <td>Yellow</td>\n",
       "      <td>Greece</td>\n",
       "      <td>600.0</td>\n",
       "      <td>0</td>\n",
       "      <td>1</td>\n",
       "      <td>High</td>\n",
       "    </tr>\n",
       "    <tr>\n",
       "      <th>2</th>\n",
       "      <td>2</td>\n",
       "      <td>Chimaera</td>\n",
       "      <td>Chimaera</td>\n",
       "      <td>XXXXX</td>\n",
       "      <td>Golden</td>\n",
       "      <td>White</td>\n",
       "      <td>Greece</td>\n",
       "      <td>NaN</td>\n",
       "      <td>0</td>\n",
       "      <td>1</td>\n",
       "      <td>High</td>\n",
       "    </tr>\n",
       "    <tr>\n",
       "      <th>3</th>\n",
       "      <td>3</td>\n",
       "      <td>Antipodean Opaleye</td>\n",
       "      <td>Dragon</td>\n",
       "      <td>XXXXX</td>\n",
       "      <td>Pearly</td>\n",
       "      <td>Multi-coloured</td>\n",
       "      <td>New Zealand</td>\n",
       "      <td>NaN</td>\n",
       "      <td>1</td>\n",
       "      <td>1</td>\n",
       "      <td>High</td>\n",
       "    </tr>\n",
       "    <tr>\n",
       "      <th>4</th>\n",
       "      <td>4</td>\n",
       "      <td>Chinese Fireball</td>\n",
       "      <td>Dragon</td>\n",
       "      <td>XXXXX</td>\n",
       "      <td>Scarlet</td>\n",
       "      <td>Yellow</td>\n",
       "      <td>China</td>\n",
       "      <td>300.0</td>\n",
       "      <td>1</td>\n",
       "      <td>1</td>\n",
       "      <td>High</td>\n",
       "    </tr>\n",
       "  </tbody>\n",
       "</table>\n",
       "</div>"
      ],
      "text/plain": [
       "   Unnamed: 0                Name        Class Classification     Colour  \\\n",
       "0           0         Acromantula  Acromantula          XXXXX  Jet-Black   \n",
       "1           1            Basilisk     Basilisk          XXXXX      Green   \n",
       "2           2            Chimaera     Chimaera          XXXXX     Golden   \n",
       "3           3  Antipodean Opaleye       Dragon          XXXXX     Pearly   \n",
       "4           4    Chinese Fireball       Dragon          XXXXX    Scarlet   \n",
       "\n",
       "              Eye            Native   Size  Dragon  Danger2 Danger3  \n",
       "0           Black  Island of Borneo  180.0       0        1    High  \n",
       "1          Yellow            Greece  600.0       0        1    High  \n",
       "2           White            Greece    NaN       0        1    High  \n",
       "3  Multi-coloured       New Zealand    NaN       1        1    High  \n",
       "4          Yellow             China  300.0       1        1    High  "
      ]
     },
     "execution_count": 26,
     "metadata": {},
     "output_type": "execute_result"
    }
   ],
   "source": [
    "def get_danger(x):\n",
    "    if len(x) < 3:\n",
    "        res = \"Low\"\n",
    "    elif len(x) < 4:\n",
    "        res = \"Medium\"\n",
    "    else:\n",
    "        res = \"High\"\n",
    "    return res\n",
    "\n",
    "beasts[\"Danger3\"] = beasts[\"Classification\"].apply(get_danger) \n",
    "beasts.head()"
   ]
  },
  {
   "cell_type": "markdown",
   "metadata": {},
   "source": [
    "**Логика кода.** Здесь мы можем действовать по аналогии с предыдущей задачей, но писать lambda-функцию с несколькими `if-else` для трех значений не очень удобно. Поэтому мы пишем отдельную функцию через `def` (принимает на вход строку `x` и возвращает результат `r` в виде текста) и ее название просто указываем в `.apply()`. "
   ]
  },
  {
   "cell_type": "markdown",
   "metadata": {},
   "source": [
    "### Задача 7\n",
    "\n",
    "Выберите строки, соответствующие драконам, и сохраните эти строки в датафрейм `dragons`."
   ]
  },
  {
   "cell_type": "code",
   "execution_count": 28,
   "metadata": {},
   "outputs": [
    {
     "data": {
      "text/html": [
       "<div>\n",
       "<style scoped>\n",
       "    .dataframe tbody tr th:only-of-type {\n",
       "        vertical-align: middle;\n",
       "    }\n",
       "\n",
       "    .dataframe tbody tr th {\n",
       "        vertical-align: top;\n",
       "    }\n",
       "\n",
       "    .dataframe thead th {\n",
       "        text-align: right;\n",
       "    }\n",
       "</style>\n",
       "<table border=\"1\" class=\"dataframe\">\n",
       "  <thead>\n",
       "    <tr style=\"text-align: right;\">\n",
       "      <th></th>\n",
       "      <th>Unnamed: 0</th>\n",
       "      <th>Name</th>\n",
       "      <th>Class</th>\n",
       "      <th>Classification</th>\n",
       "      <th>Colour</th>\n",
       "      <th>Eye</th>\n",
       "      <th>Native</th>\n",
       "      <th>Size</th>\n",
       "      <th>Dragon</th>\n",
       "      <th>Danger2</th>\n",
       "      <th>Danger3</th>\n",
       "    </tr>\n",
       "  </thead>\n",
       "  <tbody>\n",
       "    <tr>\n",
       "      <th>3</th>\n",
       "      <td>3</td>\n",
       "      <td>Antipodean Opaleye</td>\n",
       "      <td>Dragon</td>\n",
       "      <td>XXXXX</td>\n",
       "      <td>Pearly</td>\n",
       "      <td>Multi-coloured</td>\n",
       "      <td>New Zealand</td>\n",
       "      <td>NaN</td>\n",
       "      <td>1</td>\n",
       "      <td>1</td>\n",
       "      <td>High</td>\n",
       "    </tr>\n",
       "    <tr>\n",
       "      <th>4</th>\n",
       "      <td>4</td>\n",
       "      <td>Chinese Fireball</td>\n",
       "      <td>Dragon</td>\n",
       "      <td>XXXXX</td>\n",
       "      <td>Scarlet</td>\n",
       "      <td>Yellow</td>\n",
       "      <td>China</td>\n",
       "      <td>300.0</td>\n",
       "      <td>1</td>\n",
       "      <td>1</td>\n",
       "      <td>High</td>\n",
       "    </tr>\n",
       "    <tr>\n",
       "      <th>5</th>\n",
       "      <td>5</td>\n",
       "      <td>Common Welsh Green</td>\n",
       "      <td>Dragon</td>\n",
       "      <td>XXXXX</td>\n",
       "      <td>Green</td>\n",
       "      <td>No data</td>\n",
       "      <td>Wales</td>\n",
       "      <td>216.0</td>\n",
       "      <td>1</td>\n",
       "      <td>1</td>\n",
       "      <td>High</td>\n",
       "    </tr>\n",
       "    <tr>\n",
       "      <th>6</th>\n",
       "      <td>6</td>\n",
       "      <td>Hebridean Black</td>\n",
       "      <td>Dragon</td>\n",
       "      <td>XXXXX</td>\n",
       "      <td>Dark</td>\n",
       "      <td>Brilliant purple</td>\n",
       "      <td>Scotland</td>\n",
       "      <td>360.0</td>\n",
       "      <td>1</td>\n",
       "      <td>1</td>\n",
       "      <td>High</td>\n",
       "    </tr>\n",
       "    <tr>\n",
       "      <th>7</th>\n",
       "      <td>7</td>\n",
       "      <td>Hungarian Horntail</td>\n",
       "      <td>Dragon</td>\n",
       "      <td>XXXXX</td>\n",
       "      <td>Black</td>\n",
       "      <td>Yellow</td>\n",
       "      <td>Hungary</td>\n",
       "      <td>600.0</td>\n",
       "      <td>1</td>\n",
       "      <td>1</td>\n",
       "      <td>High</td>\n",
       "    </tr>\n",
       "    <tr>\n",
       "      <th>8</th>\n",
       "      <td>8</td>\n",
       "      <td>Norwegian Ridgeback</td>\n",
       "      <td>Dragon</td>\n",
       "      <td>XXXXX</td>\n",
       "      <td>Dark green</td>\n",
       "      <td>No data</td>\n",
       "      <td>Norway</td>\n",
       "      <td>NaN</td>\n",
       "      <td>1</td>\n",
       "      <td>1</td>\n",
       "      <td>High</td>\n",
       "    </tr>\n",
       "    <tr>\n",
       "      <th>9</th>\n",
       "      <td>9</td>\n",
       "      <td>Peruvian Vipertooth</td>\n",
       "      <td>Dragon</td>\n",
       "      <td>XXXXX</td>\n",
       "      <td>Copper</td>\n",
       "      <td>No data</td>\n",
       "      <td>Peru</td>\n",
       "      <td>180.0</td>\n",
       "      <td>1</td>\n",
       "      <td>1</td>\n",
       "      <td>High</td>\n",
       "    </tr>\n",
       "    <tr>\n",
       "      <th>10</th>\n",
       "      <td>10</td>\n",
       "      <td>Romanian Longhorn</td>\n",
       "      <td>Dragon</td>\n",
       "      <td>XXXXX</td>\n",
       "      <td>Dark green</td>\n",
       "      <td>No data</td>\n",
       "      <td>Romania</td>\n",
       "      <td>480.0</td>\n",
       "      <td>1</td>\n",
       "      <td>1</td>\n",
       "      <td>High</td>\n",
       "    </tr>\n",
       "    <tr>\n",
       "      <th>11</th>\n",
       "      <td>11</td>\n",
       "      <td>Swedish Short-Snout</td>\n",
       "      <td>Dragon</td>\n",
       "      <td>XXXXX</td>\n",
       "      <td>Silvery blue</td>\n",
       "      <td>No data</td>\n",
       "      <td>Sweden</td>\n",
       "      <td>264.0</td>\n",
       "      <td>1</td>\n",
       "      <td>1</td>\n",
       "      <td>High</td>\n",
       "    </tr>\n",
       "    <tr>\n",
       "      <th>12</th>\n",
       "      <td>12</td>\n",
       "      <td>Ukrainian Ironbelly</td>\n",
       "      <td>Dragon</td>\n",
       "      <td>XXXXX</td>\n",
       "      <td>Metallic grey-silver</td>\n",
       "      <td>Deep red</td>\n",
       "      <td>Ukraine</td>\n",
       "      <td>NaN</td>\n",
       "      <td>1</td>\n",
       "      <td>1</td>\n",
       "      <td>High</td>\n",
       "    </tr>\n",
       "  </tbody>\n",
       "</table>\n",
       "</div>"
      ],
      "text/plain": [
       "    Unnamed: 0                 Name   Class Classification  \\\n",
       "3            3   Antipodean Opaleye  Dragon          XXXXX   \n",
       "4            4     Chinese Fireball  Dragon          XXXXX   \n",
       "5            5   Common Welsh Green  Dragon          XXXXX   \n",
       "6            6      Hebridean Black  Dragon          XXXXX   \n",
       "7            7   Hungarian Horntail  Dragon          XXXXX   \n",
       "8            8  Norwegian Ridgeback  Dragon          XXXXX   \n",
       "9            9  Peruvian Vipertooth  Dragon          XXXXX   \n",
       "10          10    Romanian Longhorn  Dragon          XXXXX   \n",
       "11          11  Swedish Short-Snout  Dragon          XXXXX   \n",
       "12          12  Ukrainian Ironbelly  Dragon          XXXXX   \n",
       "\n",
       "                  Colour               Eye       Native   Size  Dragon  \\\n",
       "3                 Pearly    Multi-coloured  New Zealand    NaN       1   \n",
       "4                Scarlet            Yellow        China  300.0       1   \n",
       "5                  Green           No data        Wales  216.0       1   \n",
       "6                   Dark  Brilliant purple     Scotland  360.0       1   \n",
       "7                  Black            Yellow      Hungary  600.0       1   \n",
       "8             Dark green           No data       Norway    NaN       1   \n",
       "9                 Copper           No data         Peru  180.0       1   \n",
       "10            Dark green           No data      Romania  480.0       1   \n",
       "11          Silvery blue           No data       Sweden  264.0       1   \n",
       "12  Metallic grey-silver          Deep red      Ukraine    NaN       1   \n",
       "\n",
       "    Danger2 Danger3  \n",
       "3         1    High  \n",
       "4         1    High  \n",
       "5         1    High  \n",
       "6         1    High  \n",
       "7         1    High  \n",
       "8         1    High  \n",
       "9         1    High  \n",
       "10        1    High  \n",
       "11        1    High  \n",
       "12        1    High  "
      ]
     },
     "execution_count": 28,
     "metadata": {},
     "output_type": "execute_result"
    }
   ],
   "source": [
    "dragons = beasts[beasts[\"Class\"] == \"Dragon\"]\n",
    "dragons"
   ]
  },
  {
   "cell_type": "markdown",
   "metadata": {},
   "source": [
    "**Логика кода.** Выражение вида `beasts[...]` позволяет фильтровать строки датафрейма `beasts`, если условия для отбора строк мы поместим внутри квадратных скобок. Мы уже видели, что выражение `beasts[\"Class\"] == \"Dragon\"` возвращает набор из `True` и `False`:"
   ]
  },
  {
   "cell_type": "code",
   "execution_count": 29,
   "metadata": {},
   "outputs": [
    {
     "data": {
      "text/plain": [
       "0     False\n",
       "1     False\n",
       "2     False\n",
       "3      True\n",
       "4      True\n",
       "      ...  \n",
       "76    False\n",
       "77    False\n",
       "78    False\n",
       "79    False\n",
       "80    False\n",
       "Name: Class, Length: 81, dtype: bool"
      ]
     },
     "execution_count": 29,
     "metadata": {},
     "output_type": "execute_result"
    }
   ],
   "source": [
    "beasts[\"Class\"] == \"Dragon\""
   ]
  },
  {
   "cell_type": "markdown",
   "metadata": {},
   "source": [
    "Поэтому код выше позволяет отобрать те строки, на которых выражение с условием вернуло значение `True`."
   ]
  },
  {
   "cell_type": "markdown",
   "metadata": {},
   "source": [
    "### Задача 8\n",
    "\n",
    "Выберите строки, соответствующие существам размером не менее 180 дюймов (переменная `Size`). Выведите уникальные названия видов этих существ. "
   ]
  },
  {
   "cell_type": "code",
   "execution_count": 30,
   "metadata": {},
   "outputs": [
    {
     "data": {
      "text/plain": [
       "0             Acromantula\n",
       "1                Basilisk\n",
       "4        Chinese Fireball\n",
       "5      Common Welsh Green\n",
       "6         Hebridean Black\n",
       "7      Hungarian Horntail\n",
       "9     Peruvian Vipertooth\n",
       "10      Romanian Longhorn\n",
       "11    Swedish Short-Snout\n",
       "27                 Occamy\n",
       "37                   Yeti\n",
       "Name: Name, dtype: object"
      ]
     },
     "execution_count": 30,
     "metadata": {},
     "output_type": "execute_result"
    }
   ],
   "source": [
    "# похожая история, только столбец числовой\n",
    "# чтобы посмотреть только на Name, \n",
    "# выбираем его после отбора строк\n",
    "\n",
    "beasts[beasts[\"Size\"] >= 180][\"Name\"] "
   ]
  },
  {
   "cell_type": "markdown",
   "metadata": {},
   "source": [
    "### Задача 9\n",
    "\n",
    "Эту задачу съел дракон :) Номер 9 был пропущен в практикуме, оставим нумерацию, чтобы не путаться"
   ]
  },
  {
   "cell_type": "markdown",
   "metadata": {},
   "source": [
    "### Задача 10\n",
    "\n",
    "Выберите строки, соответствующие существам с классом Министерства Магии не ниже 4 и имеющим желтые глаза (`Yellow`). Сохраните эти строки в датафрейм `dang_yellow` и посчитайте число таких существ."
   ]
  },
  {
   "cell_type": "code",
   "execution_count": 31,
   "metadata": {},
   "outputs": [
    {
     "data": {
      "text/html": [
       "<div>\n",
       "<style scoped>\n",
       "    .dataframe tbody tr th:only-of-type {\n",
       "        vertical-align: middle;\n",
       "    }\n",
       "\n",
       "    .dataframe tbody tr th {\n",
       "        vertical-align: top;\n",
       "    }\n",
       "\n",
       "    .dataframe thead th {\n",
       "        text-align: right;\n",
       "    }\n",
       "</style>\n",
       "<table border=\"1\" class=\"dataframe\">\n",
       "  <thead>\n",
       "    <tr style=\"text-align: right;\">\n",
       "      <th></th>\n",
       "      <th>Unnamed: 0</th>\n",
       "      <th>Name</th>\n",
       "      <th>Class</th>\n",
       "      <th>Classification</th>\n",
       "      <th>Colour</th>\n",
       "      <th>Eye</th>\n",
       "      <th>Native</th>\n",
       "      <th>Size</th>\n",
       "      <th>Dragon</th>\n",
       "      <th>Danger2</th>\n",
       "      <th>Danger3</th>\n",
       "    </tr>\n",
       "  </thead>\n",
       "  <tbody>\n",
       "    <tr>\n",
       "      <th>1</th>\n",
       "      <td>1</td>\n",
       "      <td>Basilisk</td>\n",
       "      <td>Basilisk</td>\n",
       "      <td>XXXXX</td>\n",
       "      <td>Green</td>\n",
       "      <td>Yellow</td>\n",
       "      <td>Greece</td>\n",
       "      <td>600.0</td>\n",
       "      <td>0</td>\n",
       "      <td>1</td>\n",
       "      <td>High</td>\n",
       "    </tr>\n",
       "    <tr>\n",
       "      <th>4</th>\n",
       "      <td>4</td>\n",
       "      <td>Chinese Fireball</td>\n",
       "      <td>Dragon</td>\n",
       "      <td>XXXXX</td>\n",
       "      <td>Scarlet</td>\n",
       "      <td>Yellow</td>\n",
       "      <td>China</td>\n",
       "      <td>300.0</td>\n",
       "      <td>1</td>\n",
       "      <td>1</td>\n",
       "      <td>High</td>\n",
       "    </tr>\n",
       "    <tr>\n",
       "      <th>7</th>\n",
       "      <td>7</td>\n",
       "      <td>Hungarian Horntail</td>\n",
       "      <td>Dragon</td>\n",
       "      <td>XXXXX</td>\n",
       "      <td>Black</td>\n",
       "      <td>Yellow</td>\n",
       "      <td>Hungary</td>\n",
       "      <td>600.0</td>\n",
       "      <td>1</td>\n",
       "      <td>1</td>\n",
       "      <td>High</td>\n",
       "    </tr>\n",
       "    <tr>\n",
       "      <th>20</th>\n",
       "      <td>20</td>\n",
       "      <td>Erkling</td>\n",
       "      <td>Erkling</td>\n",
       "      <td>XXXX</td>\n",
       "      <td>Green</td>\n",
       "      <td>Yellow</td>\n",
       "      <td>Germany</td>\n",
       "      <td>36.0</td>\n",
       "      <td>0</td>\n",
       "      <td>1</td>\n",
       "      <td>High</td>\n",
       "    </tr>\n",
       "    <tr>\n",
       "      <th>23</th>\n",
       "      <td>23</td>\n",
       "      <td>Griffin</td>\n",
       "      <td>Griffin</td>\n",
       "      <td>XXXX</td>\n",
       "      <td>Brownish-yellow|White|Brown</td>\n",
       "      <td>Yellow</td>\n",
       "      <td>Greece</td>\n",
       "      <td>NaN</td>\n",
       "      <td>0</td>\n",
       "      <td>1</td>\n",
       "      <td>High</td>\n",
       "    </tr>\n",
       "  </tbody>\n",
       "</table>\n",
       "</div>"
      ],
      "text/plain": [
       "    Unnamed: 0                Name     Class Classification  \\\n",
       "1            1            Basilisk  Basilisk          XXXXX   \n",
       "4            4    Chinese Fireball    Dragon          XXXXX   \n",
       "7            7  Hungarian Horntail    Dragon          XXXXX   \n",
       "20          20             Erkling   Erkling           XXXX   \n",
       "23          23             Griffin   Griffin           XXXX   \n",
       "\n",
       "                         Colour     Eye   Native   Size  Dragon  Danger2  \\\n",
       "1                         Green  Yellow   Greece  600.0       0        1   \n",
       "4                       Scarlet  Yellow    China  300.0       1        1   \n",
       "7                         Black  Yellow  Hungary  600.0       1        1   \n",
       "20                        Green  Yellow  Germany   36.0       0        1   \n",
       "23  Brownish-yellow|White|Brown  Yellow   Greece    NaN       0        1   \n",
       "\n",
       "   Danger3  \n",
       "1     High  \n",
       "4     High  \n",
       "7     High  \n",
       "20    High  \n",
       "23    High  "
      ]
     },
     "execution_count": 31,
     "metadata": {},
     "output_type": "execute_result"
    }
   ],
   "source": [
    "# тоже похожая история, только два условия\n",
    "# каждое условие записываем в круглых скобках\n",
    "# одновременное выполнение условий – оператор &\n",
    "\n",
    "dang_yellow = beasts[(beasts[\"Danger3\"] == \"High\") & (beasts[\"Eye\"] == \"Yellow\")] \n",
    "dang_yellow"
   ]
  },
  {
   "cell_type": "markdown",
   "metadata": {},
   "source": [
    "**NB.** Pandas воспринимает только символьные операторы (оператор `&` для логического `И`, оператор `|` для логического `ИЛИ`), не словесные (`and` и `or`). Символьные операторы очень сильные, поэтому, чтобы сохранять порядок действий, каждое выражение с условием нужно помещать в круглые скобки.  "
   ]
  },
  {
   "cell_type": "markdown",
   "metadata": {},
   "source": [
    "### Задача 11\n",
    "\n",
    "Выберите строки, соответствующие существам, обитающим в Северной или Южной Америке (значения переменной `Native`, содержащие слово `America`) и сохраните их в датафрейм `beasts_am`."
   ]
  },
  {
   "cell_type": "code",
   "execution_count": 32,
   "metadata": {},
   "outputs": [
    {
     "data": {
      "text/html": [
       "<div>\n",
       "<style scoped>\n",
       "    .dataframe tbody tr th:only-of-type {\n",
       "        vertical-align: middle;\n",
       "    }\n",
       "\n",
       "    .dataframe tbody tr th {\n",
       "        vertical-align: top;\n",
       "    }\n",
       "\n",
       "    .dataframe thead th {\n",
       "        text-align: right;\n",
       "    }\n",
       "</style>\n",
       "<table border=\"1\" class=\"dataframe\">\n",
       "  <thead>\n",
       "    <tr style=\"text-align: right;\">\n",
       "      <th></th>\n",
       "      <th>Unnamed: 0</th>\n",
       "      <th>Name</th>\n",
       "      <th>Class</th>\n",
       "      <th>Classification</th>\n",
       "      <th>Colour</th>\n",
       "      <th>Eye</th>\n",
       "      <th>Native</th>\n",
       "      <th>Size</th>\n",
       "      <th>Dragon</th>\n",
       "      <th>Danger2</th>\n",
       "      <th>Danger3</th>\n",
       "    </tr>\n",
       "  </thead>\n",
       "  <tbody>\n",
       "    <tr>\n",
       "      <th>29</th>\n",
       "      <td>29</td>\n",
       "      <td>Re'em</td>\n",
       "      <td>Re'em</td>\n",
       "      <td>XXXX</td>\n",
       "      <td>Golden</td>\n",
       "      <td>No data</td>\n",
       "      <td>North America|Far East</td>\n",
       "      <td>NaN</td>\n",
       "      <td>0</td>\n",
       "      <td>1</td>\n",
       "      <td>High</td>\n",
       "    </tr>\n",
       "    <tr>\n",
       "      <th>42</th>\n",
       "      <td>42</td>\n",
       "      <td>Doxy</td>\n",
       "      <td>Doxy</td>\n",
       "      <td>XXX</td>\n",
       "      <td>Purple|Brown|Black</td>\n",
       "      <td>No data</td>\n",
       "      <td>North America|Europe</td>\n",
       "      <td>NaN</td>\n",
       "      <td>0</td>\n",
       "      <td>1</td>\n",
       "      <td>Medium</td>\n",
       "    </tr>\n",
       "    <tr>\n",
       "      <th>48</th>\n",
       "      <td>48</td>\n",
       "      <td>Jarvey</td>\n",
       "      <td>Jarvey</td>\n",
       "      <td>XXX</td>\n",
       "      <td>Brown</td>\n",
       "      <td>Black</td>\n",
       "      <td>Great Britain|Ireland|North America</td>\n",
       "      <td>NaN</td>\n",
       "      <td>0</td>\n",
       "      <td>1</td>\n",
       "      <td>Medium</td>\n",
       "    </tr>\n",
       "    <tr>\n",
       "      <th>49</th>\n",
       "      <td>49</td>\n",
       "      <td>Knarl</td>\n",
       "      <td>Knarl</td>\n",
       "      <td>XXX</td>\n",
       "      <td>Brown</td>\n",
       "      <td>Black</td>\n",
       "      <td>Europe|North America</td>\n",
       "      <td>NaN</td>\n",
       "      <td>0</td>\n",
       "      <td>1</td>\n",
       "      <td>Medium</td>\n",
       "    </tr>\n",
       "    <tr>\n",
       "      <th>57</th>\n",
       "      <td>57</td>\n",
       "      <td>Nogtail</td>\n",
       "      <td>Nogtail</td>\n",
       "      <td>XXX</td>\n",
       "      <td>No data</td>\n",
       "      <td>Black</td>\n",
       "      <td>Europe|Russia|North America|South America</td>\n",
       "      <td>NaN</td>\n",
       "      <td>0</td>\n",
       "      <td>1</td>\n",
       "      <td>Medium</td>\n",
       "    </tr>\n",
       "    <tr>\n",
       "      <th>72</th>\n",
       "      <td>72</td>\n",
       "      <td>Gnome</td>\n",
       "      <td>Gnome</td>\n",
       "      <td>XX</td>\n",
       "      <td>Brown|Lime</td>\n",
       "      <td>No data</td>\n",
       "      <td>Europe|North America</td>\n",
       "      <td>12.0</td>\n",
       "      <td>0</td>\n",
       "      <td>0</td>\n",
       "      <td>Low</td>\n",
       "    </tr>\n",
       "    <tr>\n",
       "      <th>75</th>\n",
       "      <td>75</td>\n",
       "      <td>Jobberknoll</td>\n",
       "      <td>Jobberknoll</td>\n",
       "      <td>XX</td>\n",
       "      <td>Speckled blue</td>\n",
       "      <td>Black</td>\n",
       "      <td>Europe|North America</td>\n",
       "      <td>NaN</td>\n",
       "      <td>0</td>\n",
       "      <td>0</td>\n",
       "      <td>Low</td>\n",
       "    </tr>\n",
       "  </tbody>\n",
       "</table>\n",
       "</div>"
      ],
      "text/plain": [
       "    Unnamed: 0         Name        Class Classification              Colour  \\\n",
       "29          29        Re'em        Re'em           XXXX              Golden   \n",
       "42          42         Doxy         Doxy            XXX  Purple|Brown|Black   \n",
       "48          48       Jarvey       Jarvey            XXX               Brown   \n",
       "49          49        Knarl        Knarl            XXX               Brown   \n",
       "57          57      Nogtail      Nogtail            XXX             No data   \n",
       "72          72        Gnome        Gnome             XX          Brown|Lime   \n",
       "75          75  Jobberknoll  Jobberknoll             XX       Speckled blue   \n",
       "\n",
       "        Eye                                     Native  Size  Dragon  Danger2  \\\n",
       "29  No data                     North America|Far East   NaN       0        1   \n",
       "42  No data                       North America|Europe   NaN       0        1   \n",
       "48    Black        Great Britain|Ireland|North America   NaN       0        1   \n",
       "49    Black                       Europe|North America   NaN       0        1   \n",
       "57    Black  Europe|Russia|North America|South America   NaN       0        1   \n",
       "72  No data                       Europe|North America  12.0       0        0   \n",
       "75    Black                       Europe|North America   NaN       0        0   \n",
       "\n",
       "   Danger3  \n",
       "29    High  \n",
       "42  Medium  \n",
       "48  Medium  \n",
       "49  Medium  \n",
       "57  Medium  \n",
       "72     Low  \n",
       "75     Low  "
      ]
     },
     "execution_count": 32,
     "metadata": {},
     "output_type": "execute_result"
    }
   ],
   "source": [
    "# str – набор функций для работы со строками\n",
    "# contains() из этого набора проверяет вхождение \n",
    "# подстроки в строку\n",
    "\n",
    "beasts_am = beasts[beasts[\"Native\"].str.contains(\"America\")]\n",
    "beasts_am"
   ]
  },
  {
   "cell_type": "markdown",
   "metadata": {},
   "source": [
    "**Логика кода.** Метод `.contains()` тоже возвращает набор из `True` или `False`:"
   ]
  },
  {
   "cell_type": "code",
   "execution_count": 33,
   "metadata": {},
   "outputs": [
    {
     "data": {
      "text/plain": [
       "0     False\n",
       "1     False\n",
       "2     False\n",
       "3     False\n",
       "4     False\n",
       "      ...  \n",
       "76    False\n",
       "77    False\n",
       "78    False\n",
       "79    False\n",
       "80    False\n",
       "Name: Native, Length: 81, dtype: bool"
      ]
     },
     "execution_count": 33,
     "metadata": {},
     "output_type": "execute_result"
    }
   ],
   "source": [
    "beasts[\"Native\"].str.contains(\"America\")"
   ]
  },
  {
   "cell_type": "markdown",
   "metadata": {},
   "source": [
    "Поэтому мы просто по стандартной схеме отбираем строки. В этом наборе методов `str` также есть методы `startswith()` и `endswith()` для проверки того, начинается ли строка с некоторого набора символов или заканчивается им. Плюс, все методы в этом наборе поддерживают использование регулярных выражений для более продвинутого поиска соответствий и извлечения информации (для тех, кто знаком с регулярными выражениями)."
   ]
  },
  {
   "cell_type": "markdown",
   "metadata": {},
   "source": [
    "### Задача 12\n",
    "\n",
    "Выберите строки, соответствующие пяти случайно выбранным существам ниже:"
   ]
  },
  {
   "cell_type": "code",
   "execution_count": 34,
   "metadata": {},
   "outputs": [
    {
     "name": "stdout",
     "output_type": "stream",
     "text": [
      "['Niffler', 'Manticore', 'Acromantula', 'Swedish Short-Snout', 'Imp']\n"
     ]
    }
   ],
   "source": [
    "rd.seed(1234)\n",
    "chosen = rd.sample(list(beasts[\"Name\"]), 5)\n",
    "print(chosen)"
   ]
  },
  {
   "cell_type": "code",
   "execution_count": 35,
   "metadata": {},
   "outputs": [
    {
     "data": {
      "text/html": [
       "<div>\n",
       "<style scoped>\n",
       "    .dataframe tbody tr th:only-of-type {\n",
       "        vertical-align: middle;\n",
       "    }\n",
       "\n",
       "    .dataframe tbody tr th {\n",
       "        vertical-align: top;\n",
       "    }\n",
       "\n",
       "    .dataframe thead th {\n",
       "        text-align: right;\n",
       "    }\n",
       "</style>\n",
       "<table border=\"1\" class=\"dataframe\">\n",
       "  <thead>\n",
       "    <tr style=\"text-align: right;\">\n",
       "      <th></th>\n",
       "      <th>Unnamed: 0</th>\n",
       "      <th>Name</th>\n",
       "      <th>Class</th>\n",
       "      <th>Classification</th>\n",
       "      <th>Colour</th>\n",
       "      <th>Eye</th>\n",
       "      <th>Native</th>\n",
       "      <th>Size</th>\n",
       "      <th>Dragon</th>\n",
       "      <th>Danger2</th>\n",
       "      <th>Danger3</th>\n",
       "    </tr>\n",
       "  </thead>\n",
       "  <tbody>\n",
       "    <tr>\n",
       "      <th>0</th>\n",
       "      <td>0</td>\n",
       "      <td>Acromantula</td>\n",
       "      <td>Acromantula</td>\n",
       "      <td>XXXXX</td>\n",
       "      <td>Jet-Black</td>\n",
       "      <td>Black</td>\n",
       "      <td>Island of Borneo</td>\n",
       "      <td>180.0</td>\n",
       "      <td>0</td>\n",
       "      <td>1</td>\n",
       "      <td>High</td>\n",
       "    </tr>\n",
       "    <tr>\n",
       "      <th>11</th>\n",
       "      <td>11</td>\n",
       "      <td>Swedish Short-Snout</td>\n",
       "      <td>Dragon</td>\n",
       "      <td>XXXXX</td>\n",
       "      <td>Silvery blue</td>\n",
       "      <td>No data</td>\n",
       "      <td>Sweden</td>\n",
       "      <td>264.0</td>\n",
       "      <td>1</td>\n",
       "      <td>1</td>\n",
       "      <td>High</td>\n",
       "    </tr>\n",
       "    <tr>\n",
       "      <th>14</th>\n",
       "      <td>14</td>\n",
       "      <td>Manticore</td>\n",
       "      <td>Manticore</td>\n",
       "      <td>XXXXX</td>\n",
       "      <td>Golden</td>\n",
       "      <td>No data</td>\n",
       "      <td>Greece</td>\n",
       "      <td>NaN</td>\n",
       "      <td>0</td>\n",
       "      <td>1</td>\n",
       "      <td>High</td>\n",
       "    </tr>\n",
       "    <tr>\n",
       "      <th>56</th>\n",
       "      <td>56</td>\n",
       "      <td>Niffler</td>\n",
       "      <td>Niffler</td>\n",
       "      <td>XXX</td>\n",
       "      <td>Black</td>\n",
       "      <td>No data</td>\n",
       "      <td>Great Britain</td>\n",
       "      <td>NaN</td>\n",
       "      <td>0</td>\n",
       "      <td>1</td>\n",
       "      <td>Medium</td>\n",
       "    </tr>\n",
       "    <tr>\n",
       "      <th>74</th>\n",
       "      <td>74</td>\n",
       "      <td>Imp</td>\n",
       "      <td>Imp</td>\n",
       "      <td>XX</td>\n",
       "      <td>Grey</td>\n",
       "      <td>Yellow</td>\n",
       "      <td>Great Britain|Ireland</td>\n",
       "      <td>7.0</td>\n",
       "      <td>0</td>\n",
       "      <td>0</td>\n",
       "      <td>Low</td>\n",
       "    </tr>\n",
       "  </tbody>\n",
       "</table>\n",
       "</div>"
      ],
      "text/plain": [
       "    Unnamed: 0                 Name        Class Classification        Colour  \\\n",
       "0            0          Acromantula  Acromantula          XXXXX     Jet-Black   \n",
       "11          11  Swedish Short-Snout       Dragon          XXXXX  Silvery blue   \n",
       "14          14            Manticore    Manticore          XXXXX        Golden   \n",
       "56          56              Niffler      Niffler            XXX         Black   \n",
       "74          74                  Imp          Imp             XX          Grey   \n",
       "\n",
       "        Eye                 Native   Size  Dragon  Danger2 Danger3  \n",
       "0     Black       Island of Borneo  180.0       0        1    High  \n",
       "11  No data                 Sweden  264.0       1        1    High  \n",
       "14  No data                 Greece    NaN       0        1    High  \n",
       "56  No data          Great Britain    NaN       0        1  Medium  \n",
       "74   Yellow  Great Britain|Ireland    7.0       0        0     Low  "
      ]
     },
     "execution_count": 35,
     "metadata": {},
     "output_type": "execute_result"
    }
   ],
   "source": [
    "# метод .isin() проверяет вхождение \n",
    "# содержимого каждой ячейки в список значений\n",
    "\n",
    "beasts[beasts[\"Name\"].isin(chosen)]"
   ]
  }
 ],
 "metadata": {
  "kernelspec": {
   "display_name": "Python 3",
   "language": "python",
   "name": "python3"
  },
  "language_info": {
   "codemirror_mode": {
    "name": "ipython",
    "version": 3
   },
   "file_extension": ".py",
   "mimetype": "text/x-python",
   "name": "python",
   "nbconvert_exporter": "python",
   "pygments_lexer": "ipython3",
   "version": "3.7.4"
  }
 },
 "nbformat": 4,
 "nbformat_minor": 2
}
