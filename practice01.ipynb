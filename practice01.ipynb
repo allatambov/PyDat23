{
 "cells": [
  {
   "cell_type": "markdown",
   "metadata": {},
   "source": [
    "# Основы анализа данных в Python\n",
    "\n",
    "*Алла Тамбовцева*\n",
    "\n",
    "## Практикум 1. Модуль `random` и введение в обработку данных с библиотекой `pandas`\n",
    "\n",
    "### Модуль `random` и псевдослучайный выбор"
   ]
  },
  {
   "cell_type": "markdown",
   "metadata": {},
   "source": [
    "Импортируем модуль `random` с сокращённым названием:"
   ]
  },
  {
   "cell_type": "code",
   "execution_count": null,
   "metadata": {},
   "outputs": [],
   "source": [
    "import random as rd"
   ]
  },
  {
   "cell_type": "markdown",
   "metadata": {},
   "source": [
    "Если мы хотим (псевдо)случайным образом выбрать одно целое число из заданного интервала, пригодится функция `randrange()`:"
   ]
  },
  {
   "cell_type": "code",
   "execution_count": null,
   "metadata": {},
   "outputs": [],
   "source": [
    "# от 1 до 100, правый конец исключается\n",
    "\n",
    "rd.randrange(1, 101)"
   ]
  },
  {
   "cell_type": "markdown",
   "metadata": {},
   "source": [
    "Для воспроизводимости результатов мы можем зафиксировать стартовую точку алгоритма (*seed*), тогда у всех при запуске кода будут получаться одинаковые результаты:"
   ]
  },
  {
   "cell_type": "code",
   "execution_count": null,
   "metadata": {},
   "outputs": [],
   "source": [
    "rd.seed(2525)\n",
    "x = rd.randrange(1, 101)\n",
    "print(x)"
   ]
  },
  {
   "cell_type": "markdown",
   "metadata": {},
   "source": [
    "Если мы хотим получить набор сразу из нескольких чисел, лучше воспользоваться функцией `sample` и в качестве генеральной совокупности указать желаемый интервал чисел:"
   ]
  },
  {
   "cell_type": "code",
   "execution_count": null,
   "metadata": {},
   "outputs": [],
   "source": [
    "rd.sample(population = range(1, 101), k = 10)"
   ]
  },
  {
   "cell_type": "code",
   "execution_count": null,
   "metadata": {},
   "outputs": [],
   "source": [
    "rd.seed(999)\n",
    "rd.sample(population = range(1, 101), k = 10)"
   ]
  },
  {
   "cell_type": "markdown",
   "metadata": {},
   "source": [
    "Что удобно, эту же функцию можно использовать и для случайного выбора из нечисловых списков:"
   ]
  },
  {
   "cell_type": "code",
   "execution_count": null,
   "metadata": {},
   "outputs": [],
   "source": [
    "names = [\"Harry\", \"Ron\", \"Hermiona\", \"Neville\", \"Luna\"]\n",
    "rd.seed(11)\n",
    "rd.sample(names, 2)"
   ]
  },
  {
   "cell_type": "markdown",
   "metadata": {},
   "source": [
    "### Загрузка и обработка данных с `pandas`"
   ]
  },
  {
   "cell_type": "markdown",
   "metadata": {},
   "source": [
    "Импортируем библиотеку `pandas` с сокращённым названием:"
   ]
  },
  {
   "cell_type": "code",
   "execution_count": null,
   "metadata": {},
   "outputs": [],
   "source": [
    "import pandas as pd"
   ]
  },
  {
   "cell_type": "markdown",
   "metadata": {},
   "source": [
    "В этой части практикума предлагается поработать с данными из файла `beasts.csv`, который содержит характеристики фантастических существ. Переменные в таблице:\n",
    "\n",
    "* `Name`: название существа;\n",
    "* `Class`: вид существа (если есть, если нет, дублируется название); \n",
    "* `Classification`: классификация Министерства Магии по уровням опасности;\n",
    "* `Colour`: цвет тела;\n",
    "* `Eye`: цвет глаз;\n",
    "* `Native`: происхождение и распространение;\n",
    "* `Size`: размер в дюймах."
   ]
  },
  {
   "cell_type": "markdown",
   "metadata": {},
   "source": [
    "Загрузим данные из CSV-файла:"
   ]
  },
  {
   "cell_type": "code",
   "execution_count": null,
   "metadata": {},
   "outputs": [],
   "source": [
    "beasts = pd.read_csv(\"beasts.csv\")"
   ]
  },
  {
   "cell_type": "markdown",
   "metadata": {},
   "source": [
    "Запросим информацию по загруженной таблице:"
   ]
  },
  {
   "cell_type": "code",
   "execution_count": null,
   "metadata": {},
   "outputs": [],
   "source": [
    "beasts.info()"
   ]
  },
  {
   "cell_type": "code",
   "execution_count": null,
   "metadata": {},
   "outputs": [],
   "source": [
    "beasts.shape"
   ]
  },
  {
   "cell_type": "markdown",
   "metadata": {},
   "source": [
    "### Задача 1\n",
    "\n",
    "Выведите на экран список названий существ (переменная `Name`), отсортированный по алфавиту. "
   ]
  },
  {
   "cell_type": "code",
   "execution_count": null,
   "metadata": {},
   "outputs": [],
   "source": [
    "### YOUR CODE HERE ###"
   ]
  },
  {
   "cell_type": "markdown",
   "metadata": {},
   "source": [
    "### Задача 2\n",
    "\n",
    "Определите, существ какого вида (переменная `Class`) больше всего."
   ]
  },
  {
   "cell_type": "code",
   "execution_count": null,
   "metadata": {},
   "outputs": [],
   "source": [
    "### YOUR CODE HERE ###"
   ]
  },
  {
   "cell_type": "markdown",
   "metadata": {},
   "source": [
    "### Задача 3\n",
    "\n",
    "Определите число уникальных значений цветов глаз существ (переменная `Eye`)."
   ]
  },
  {
   "cell_type": "code",
   "execution_count": null,
   "metadata": {},
   "outputs": [],
   "source": [
    "### YOUR CODE HERE ###"
   ]
  },
  {
   "cell_type": "markdown",
   "metadata": {},
   "source": [
    "### Задача 4\n",
    "\n",
    "Добавьте в таблицу новый признак `Dragon`, который будет представлять собой закодированный вид существа: 1, если это дракон, 0 – во всех остальных случаях (переменная `Class`)."
   ]
  },
  {
   "cell_type": "code",
   "execution_count": null,
   "metadata": {},
   "outputs": [],
   "source": [
    "### YOUR CODE HERE ###"
   ]
  },
  {
   "cell_type": "markdown",
   "metadata": {},
   "source": [
    "### Задача 5\n",
    "\n",
    "Добавьте в таблицу новый признак `Danger2`, который будет представлять собой закодированный уровень опасности существа (переменная `Classification`): 0, если уровень опасности по классификации Министерства Магии `X` или `XX`, 1, если уровень опасности по классификации Министерства Магии `XXX`, `XXXX` или `XXXXX`."
   ]
  },
  {
   "cell_type": "code",
   "execution_count": null,
   "metadata": {},
   "outputs": [],
   "source": [
    "### YOUR CODE HERE ###"
   ]
  },
  {
   "cell_type": "markdown",
   "metadata": {},
   "source": [
    "### Задача 6\n",
    "\n",
    "Добавьте в таблицу новый признак `Danger3`, который будет представлять собой закодированный уровень опасности существа: \n",
    "\n",
    "* `High`: если класс Министерства Магии равен 4 или 5 (`XXXX` или `XXXXX`); \n",
    "* `Medium`: если класс Министерства Магии равен 3 (`XXX`);\n",
    "* `Low`: если класс Министерства Магии равен 1 или 2 (`X` и `XX`)."
   ]
  },
  {
   "cell_type": "code",
   "execution_count": null,
   "metadata": {},
   "outputs": [],
   "source": [
    "### YOUR CODE HERE ###"
   ]
  },
  {
   "cell_type": "markdown",
   "metadata": {},
   "source": [
    "### Задача 7\n",
    "\n",
    "Выберите строки, соответствующие драконам, и сохраните эти строки в датафрейм `dragons`."
   ]
  },
  {
   "cell_type": "code",
   "execution_count": null,
   "metadata": {},
   "outputs": [],
   "source": [
    "### YOUR CODE HERE ###"
   ]
  },
  {
   "cell_type": "markdown",
   "metadata": {},
   "source": [
    "### Задача 8\n",
    "\n",
    "Выберите строки, соответствующие существам размером не менее 180 дюймов (переменная `Size`). Выведите уникальные названия видов этих существ. "
   ]
  },
  {
   "cell_type": "code",
   "execution_count": null,
   "metadata": {},
   "outputs": [],
   "source": [
    "### YOUR CODE HERE ###"
   ]
  },
  {
   "cell_type": "markdown",
   "metadata": {},
   "source": [
    "### Задача 10\n",
    "\n",
    "Выберите строки, соответствующие существам с классом Министерства Магии не ниже 4 и имеющим желтые глаза (`Yellow`). Сохраните эти строки в датафрейм `dang_yellow` и посчитайте число таких существ."
   ]
  },
  {
   "cell_type": "code",
   "execution_count": null,
   "metadata": {},
   "outputs": [],
   "source": [
    "### YOUR CODE HERE ###"
   ]
  },
  {
   "cell_type": "markdown",
   "metadata": {},
   "source": [
    "### Задача 11\n",
    "\n",
    "Выберите строки, соответствующие существам, обитающим в Северной или Южной Америке (значения переменной `Native`, содержащие слово `America`) и сохраните их в датафрейм `beasts_am`."
   ]
  },
  {
   "cell_type": "code",
   "execution_count": null,
   "metadata": {},
   "outputs": [],
   "source": [
    "### YOUR CODE HERE ###"
   ]
  },
  {
   "cell_type": "markdown",
   "metadata": {},
   "source": [
    "### Задача 12\n",
    "\n",
    "Выберите строки, соответствующие пяти случайно выбранным существам ниже:"
   ]
  },
  {
   "cell_type": "code",
   "execution_count": null,
   "metadata": {},
   "outputs": [],
   "source": [
    "rd.seed(1234)\n",
    "chosen = rd.sample(list(beasts[\"Name\"]), 5)\n",
    "print(chosen)"
   ]
  },
  {
   "cell_type": "code",
   "execution_count": null,
   "metadata": {},
   "outputs": [],
   "source": [
    "### YOUR CODE HERE ###"
   ]
  }
 ],
 "metadata": {
  "kernelspec": {
   "display_name": "Python 3",
   "language": "python",
   "name": "python3"
  },
  "language_info": {
   "codemirror_mode": {
    "name": "ipython",
    "version": 3
   },
   "file_extension": ".py",
   "mimetype": "text/x-python",
   "name": "python",
   "nbconvert_exporter": "python",
   "pygments_lexer": "ipython3",
   "version": "3.7.4"
  }
 },
 "nbformat": 4,
 "nbformat_minor": 2
}
