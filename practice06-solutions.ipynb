{
 "cells": [
  {
   "cell_type": "markdown",
   "metadata": {},
   "source": [
    "# Основы анализа данных в Python\n",
    "\n",
    "*Алла Тамбовцева*\n",
    "\n",
    "## Практикум 6. Меры связи"
   ]
  },
  {
   "cell_type": "markdown",
   "metadata": {},
   "source": [
    "Импортируем необходимые библиотеки:\n",
    "    \n",
    "* модуль `stats` из `scipy` для статистических вычислений;\n",
    "* библиотека `pandas` для загрузки данных и работы с датафреймами."
   ]
  },
  {
   "cell_type": "code",
   "execution_count": 1,
   "metadata": {},
   "outputs": [],
   "source": [
    "import pandas as pd\n",
    "from scipy import stats as st"
   ]
  },
  {
   "cell_type": "markdown",
   "metadata": {},
   "source": [
    "### Задача 1\n",
    "\n",
    "*Из независимого экзамена*\n",
    "\n",
    "Выберите две переменные, между которыми возможно рассчитать интерпретируемый выборочный коэффициент корреляции Пирсона, и вычислите этот коэффициент по приведённым данным. \n",
    "\n",
    "Переменные:\n",
    "\n",
    "* Цвет автомобиля, закодированный числами (1 – синий, 2 – красный, 3 – зелёный): `[1, 1, 2, 3, 2, 1, 3, 2, 1, 3]`.\n",
    "* Истинный объём бака автомобиля (л): `[50.1, 53.2, 55.0, 55.0, 50.2, 49, 52.3, 50.9, 51.8, 49.4]`.\n",
    "* Пройденный километраж (тыс. км): `[15.2, 4.75, 1.2, 1.9, 9.3, 8.2, 11.9, 6.0, 7.6, 5.2]`.\n",
    "\n",
    "Выберите один ответ:\n",
    "\n",
    "* 0.21 \n",
    "* -0.59\n",
    "* -0.41\n",
    "* -0.61"
   ]
  },
  {
   "cell_type": "markdown",
   "metadata": {},
   "source": [
    "Выбираем только переменные в количественной шкале, объем бака автомобиля и пройденный километраж:"
   ]
  },
  {
   "cell_type": "code",
   "execution_count": 2,
   "metadata": {},
   "outputs": [],
   "source": [
    "sample01 = [50.1, 53.2, 55.0, 55.0, 50.2, 49, 52.3, 50.9, 51.8, 49.4]\n",
    "sample02 = [15.2, 4.75, 1.2, 1.9, 9.3, 8.2, 11.9, 6.0, 7.6, 5.2]"
   ]
  },
  {
   "cell_type": "markdown",
   "metadata": {},
   "source": [
    "Вычисляем коэффициент корреляции Пирсона с помощью функции `pearsonr()` из `stats`:"
   ]
  },
  {
   "cell_type": "code",
   "execution_count": 3,
   "metadata": {},
   "outputs": [
    {
     "data": {
      "text/plain": [
       "(-0.6080292069669586, 0.06218711955844256)"
      ]
     },
     "execution_count": 3,
     "metadata": {},
     "output_type": "execute_result"
    }
   ],
   "source": [
    "st.pearsonr(sample01, sample02)"
   ]
  },
  {
   "cell_type": "markdown",
   "metadata": {},
   "source": [
    "Первое значение, которое возвращает эта функция, это сам коэффициент, второе – это p-value, посчитанное в результате проверки гипотезы $H_0: R = 0$ об отсутствии связи. Если мы округлим коэффициент до сотых, получим $-0.61$, такой ответ в вариантах выше есть. Связь между показателями обратная, умеренная. Если говорить о выводах, то на 5%-ном уровне нулевую гипотезу об отсутствии связи отвергать не стоит, p-value примерно 0.06. Это ожидаемо – выборки очень маленькие, а на выборках маленького объема очень сложно получить значимый коэффициент корреляции (даже если связь чисто теоретически должна быть, и она линейна)."
   ]
  },
  {
   "cell_type": "markdown",
   "metadata": {},
   "source": [
    "### Задача 2\n",
    "\n",
    "*Из независимого экзамена*\n",
    "\n",
    "Бабушка Афросинья хочет проверить, существует ли зависимость между сортом баклажана и типом почвы, в которую сорт был высажен. Для этого она собрала данные по 150 сортам, высаженных в чернозём, и 150 сортам, высаженных в каштановую почву. Таблица частот представлена ниже и для удобства в файле с аналогичным содержанием `TaskB4.xlsx`:\n",
    "\n",
    "|                   | Алмаз | Матросик | Снежный |\n",
    "|-------------------|:-----:|:--------:|:-------:|\n",
    "| Чернозёмная почва |   75  |    20    |    55   |\n",
    "| Каштановая почва  |   20  |    120   |    10   |\n",
    "\n",
    "\n",
    "Рассчитайте статистику $\\chi^2$ критерия согласия Пирсона и выпишите её в ответ, округлив до сотых.\n",
    "\n",
    "\n",
    "Пример ответа: 101.02"
   ]
  },
  {
   "cell_type": "markdown",
   "metadata": {},
   "source": [
    "**Небольшое отступление.** Кто сомневался: баклажаны сорта «Матросик» все-таки полосатые. И да, баклажаны сорта «Снежный» белые, а баклажаны сорта «Алмаз» блестящие. Логика в названиях очень даже есть."
   ]
  },
  {
   "cell_type": "markdown",
   "metadata": {},
   "source": [
    "**Решение 1 (без файла).** Чтобы не тратить время на загрузку файла, можно создать таблицу сопряженности вручную – сформировать маленький датафрейм из списков с помощью функции `DataFrame()` из `pandas`:"
   ]
  },
  {
   "cell_type": "code",
   "execution_count": 4,
   "metadata": {},
   "outputs": [
    {
     "data": {
      "text/html": [
       "<div>\n",
       "<style scoped>\n",
       "    .dataframe tbody tr th:only-of-type {\n",
       "        vertical-align: middle;\n",
       "    }\n",
       "\n",
       "    .dataframe tbody tr th {\n",
       "        vertical-align: top;\n",
       "    }\n",
       "\n",
       "    .dataframe thead th {\n",
       "        text-align: right;\n",
       "    }\n",
       "</style>\n",
       "<table border=\"1\" class=\"dataframe\">\n",
       "  <thead>\n",
       "    <tr style=\"text-align: right;\">\n",
       "      <th></th>\n",
       "      <th>0</th>\n",
       "      <th>1</th>\n",
       "      <th>2</th>\n",
       "    </tr>\n",
       "  </thead>\n",
       "  <tbody>\n",
       "    <tr>\n",
       "      <th>0</th>\n",
       "      <td>75</td>\n",
       "      <td>20</td>\n",
       "      <td>55</td>\n",
       "    </tr>\n",
       "    <tr>\n",
       "      <th>1</th>\n",
       "      <td>20</td>\n",
       "      <td>120</td>\n",
       "      <td>10</td>\n",
       "    </tr>\n",
       "  </tbody>\n",
       "</table>\n",
       "</div>"
      ],
      "text/plain": [
       "    0    1   2\n",
       "0  75   20  55\n",
       "1  20  120  10"
      ]
     },
     "execution_count": 4,
     "metadata": {},
     "output_type": "execute_result"
    }
   ],
   "source": [
    "tab = pd.DataFrame([[75, 20, 55], \n",
    "             [20, 120, 10]]) \n",
    "tab"
   ]
  },
  {
   "cell_type": "markdown",
   "metadata": {},
   "source": [
    "Теперь полученную таблицу можно подать на вход функции `chi2_contingency()` для критерия согласия хи-квадрат Пирсона:"
   ]
  },
  {
   "cell_type": "code",
   "execution_count": 5,
   "metadata": {},
   "outputs": [
    {
     "data": {
      "text/plain": [
       "(134.42452284557547, 6.457817206943809e-30, 2, array([[47.5, 70. , 32.5],\n",
       "        [47.5, 70. , 32.5]]))"
      ]
     },
     "execution_count": 5,
     "metadata": {},
     "output_type": "execute_result"
    }
   ],
   "source": [
    "st.chi2_contingency(tab)"
   ]
  },
  {
   "cell_type": "markdown",
   "metadata": {},
   "source": [
    "Итак, давайте разберемся с выдачей и результатами. Начнем с того, какую гипотезу мы проверяли:\n",
    "\n",
    "$$\n",
    "H_0: \\text{связи нет, признаки независимы} \n",
    "$$\n",
    "$$\n",
    "H_1: \\text{связь есть, признаки не независимы}\n",
    "$$\n",
    "\n",
    "Для проверки этой гипотезы вы воспользовались критерием хи-квадрат, по итогу проверки получили p-value как меру жизнеспособности нулевой гипотезы с точки зрения данных. Здесь p-value – это второе число в выдаче, то есть, p-value равно 6.457817206943809e-30, что примерно 0. На 5%-ном уровне значимости гипотезу можно отвергнуть, а значит, связь между сортом баклажана и типом почвы существует.\n",
    "\n",
    "Это p-value было посчитано на основе наблюдаемого значения статистики критерия, оно в выдаче тоже есть, здесь `statistic=134.42`. Это значение с точностью до второго знака пойдет в ответ этой задачи.\n",
    "\n",
    "То есть, p-value было получено как $\\text{P}(\\text{statistic} > 134.42)$. Эта вероятность посчитана с учетом свойств распределения хи-квадрат, используемого для работы с данными на основе нашей таблицы сопряженности `tab`. В частности, чтобы такую вероятность посчитать, нужно знать важный параметр – число степеней свободы, в выдаче оно также присутствует, это `dof = 2` (от *degrees of freedom*). Считается оно так:\n",
    "\n",
    "$$\n",
    "\\text{dof} = (r-1)\\times(c-1)\n",
    "$$\n",
    "\n",
    "где $r$ – число строк в таблице сопряженности, $c$ – число столбцов в таблице сопряженности. Здесь получаем:\n",
    "\n",
    "$$\n",
    "\\text{dof} = (2-1)\\times(3-1) = 2\n",
    "$$\n",
    "\n",
    "Наконец, последний элемент в выдаче – это массив `expected_freq` с таблицей ожидаемых частот, то есть тех значений в таблице сопряженности, которые можно ожидать в случае, если нулевая гипотеза верна и признаки действительно независимы. Например, в случае, если сорт баклажана не зависит от типа почвы, мы можем ожидать, что в черноземной почве должно вырасти 70 баклажанов сорта «Матросик» (значение 70 в первом списке) и примерно 33 баклажана сорта «Снежный» (значение 32.5 во втором списке). Именно на основе сравнений наблюдаемых и ожидаемых частот и считается значение статистики `statistic` и `p-value`, вспомните лекцию."
   ]
  },
  {
   "cell_type": "markdown",
   "metadata": {},
   "source": [
    "**Решение 2 (с файлом).** Файл `TaskB4.xlsx` можно считать как обычный файл Excel:"
   ]
  },
  {
   "cell_type": "code",
   "execution_count": 6,
   "metadata": {},
   "outputs": [
    {
     "data": {
      "text/html": [
       "<div>\n",
       "<style scoped>\n",
       "    .dataframe tbody tr th:only-of-type {\n",
       "        vertical-align: middle;\n",
       "    }\n",
       "\n",
       "    .dataframe tbody tr th {\n",
       "        vertical-align: top;\n",
       "    }\n",
       "\n",
       "    .dataframe thead th {\n",
       "        text-align: right;\n",
       "    }\n",
       "</style>\n",
       "<table border=\"1\" class=\"dataframe\">\n",
       "  <thead>\n",
       "    <tr style=\"text-align: right;\">\n",
       "      <th></th>\n",
       "      <th>Unnamed: 0</th>\n",
       "      <th>Алмаз</th>\n",
       "      <th>Матросик</th>\n",
       "      <th>Снежный</th>\n",
       "    </tr>\n",
       "  </thead>\n",
       "  <tbody>\n",
       "    <tr>\n",
       "      <th>0</th>\n",
       "      <td>Чернозёмная почва</td>\n",
       "      <td>75</td>\n",
       "      <td>20</td>\n",
       "      <td>55</td>\n",
       "    </tr>\n",
       "    <tr>\n",
       "      <th>1</th>\n",
       "      <td>Каштановая почва</td>\n",
       "      <td>20</td>\n",
       "      <td>120</td>\n",
       "      <td>10</td>\n",
       "    </tr>\n",
       "  </tbody>\n",
       "</table>\n",
       "</div>"
      ],
      "text/plain": [
       "          Unnamed: 0  Алмаз  Матросик  Снежный\n",
       "0  Чернозёмная почва     75        20       55\n",
       "1   Каштановая почва     20       120       10"
      ]
     },
     "execution_count": 6,
     "metadata": {},
     "output_type": "execute_result"
    }
   ],
   "source": [
    "pd.read_excel(\"TaskB4.xlsx\")"
   ]
  },
  {
   "cell_type": "markdown",
   "metadata": {},
   "source": [
    "Однако есть небольшая проблема – функция `chi2_contingency()` принимает на вход только таблицы, состоящие исключительно из чисел (названия столбцов не в счет), а здесь есть текстовый столбец с типами почвы. Это можно поправить, причем сразу на этапе загрузки файла – сообщить, что столбец с номером 0 нужно записать как названия строк (`index`):"
   ]
  },
  {
   "cell_type": "code",
   "execution_count": 7,
   "metadata": {},
   "outputs": [
    {
     "data": {
      "text/html": [
       "<div>\n",
       "<style scoped>\n",
       "    .dataframe tbody tr th:only-of-type {\n",
       "        vertical-align: middle;\n",
       "    }\n",
       "\n",
       "    .dataframe tbody tr th {\n",
       "        vertical-align: top;\n",
       "    }\n",
       "\n",
       "    .dataframe thead th {\n",
       "        text-align: right;\n",
       "    }\n",
       "</style>\n",
       "<table border=\"1\" class=\"dataframe\">\n",
       "  <thead>\n",
       "    <tr style=\"text-align: right;\">\n",
       "      <th></th>\n",
       "      <th>Алмаз</th>\n",
       "      <th>Матросик</th>\n",
       "      <th>Снежный</th>\n",
       "    </tr>\n",
       "  </thead>\n",
       "  <tbody>\n",
       "    <tr>\n",
       "      <th>Чернозёмная почва</th>\n",
       "      <td>75</td>\n",
       "      <td>20</td>\n",
       "      <td>55</td>\n",
       "    </tr>\n",
       "    <tr>\n",
       "      <th>Каштановая почва</th>\n",
       "      <td>20</td>\n",
       "      <td>120</td>\n",
       "      <td>10</td>\n",
       "    </tr>\n",
       "  </tbody>\n",
       "</table>\n",
       "</div>"
      ],
      "text/plain": [
       "                   Алмаз  Матросик  Снежный\n",
       "Чернозёмная почва     75        20       55\n",
       "Каштановая почва      20       120       10"
      ]
     },
     "execution_count": 7,
     "metadata": {},
     "output_type": "execute_result"
    }
   ],
   "source": [
    "Tab = pd.read_excel(\"TaskB4.xlsx\", index_col = 0)\n",
    "Tab"
   ]
  },
  {
   "cell_type": "markdown",
   "metadata": {},
   "source": [
    "А дальше все по той же схеме, что и выше:"
   ]
  },
  {
   "cell_type": "code",
   "execution_count": 8,
   "metadata": {},
   "outputs": [
    {
     "data": {
      "text/plain": [
       "(134.42452284557547, 6.457817206943809e-30, 2, array([[47.5, 70. , 32.5],\n",
       "        [47.5, 70. , 32.5]]))"
      ]
     },
     "execution_count": 8,
     "metadata": {},
     "output_type": "execute_result"
    }
   ],
   "source": [
    "st.chi2_contingency(Tab)"
   ]
  },
  {
   "cell_type": "markdown",
   "metadata": {},
   "source": [
    "**Дополнительно для желающих.** Кому хочется побольше эстетики, при создании датафреймов на основе списков можно сразу добавлять названия строк и столбцов:"
   ]
  },
  {
   "cell_type": "code",
   "execution_count": 9,
   "metadata": {},
   "outputs": [
    {
     "data": {
      "text/html": [
       "<div>\n",
       "<style scoped>\n",
       "    .dataframe tbody tr th:only-of-type {\n",
       "        vertical-align: middle;\n",
       "    }\n",
       "\n",
       "    .dataframe tbody tr th {\n",
       "        vertical-align: top;\n",
       "    }\n",
       "\n",
       "    .dataframe thead th {\n",
       "        text-align: right;\n",
       "    }\n",
       "</style>\n",
       "<table border=\"1\" class=\"dataframe\">\n",
       "  <thead>\n",
       "    <tr style=\"text-align: right;\">\n",
       "      <th></th>\n",
       "      <th>Алмаз</th>\n",
       "      <th>Матросик</th>\n",
       "      <th>Снежный</th>\n",
       "    </tr>\n",
       "  </thead>\n",
       "  <tbody>\n",
       "    <tr>\n",
       "      <th>Чернозёмная почва</th>\n",
       "      <td>75</td>\n",
       "      <td>20</td>\n",
       "      <td>55</td>\n",
       "    </tr>\n",
       "    <tr>\n",
       "      <th>Каштановая почва</th>\n",
       "      <td>20</td>\n",
       "      <td>120</td>\n",
       "      <td>10</td>\n",
       "    </tr>\n",
       "  </tbody>\n",
       "</table>\n",
       "</div>"
      ],
      "text/plain": [
       "                   Алмаз  Матросик  Снежный\n",
       "Чернозёмная почва     75        20       55\n",
       "Каштановая почва      20       120       10"
      ]
     },
     "execution_count": 9,
     "metadata": {},
     "output_type": "execute_result"
    }
   ],
   "source": [
    "tab = pd.DataFrame([[75, 20, 55], [20, 120, 10]], \n",
    "                   index = [\"Чернозёмная почва\", \"Каштановая почва\"], \n",
    "                   columns = [\"Алмаз\", \"Матросик\", \"Снежный\"]) \n",
    "tab"
   ]
  },
  {
   "cell_type": "markdown",
   "metadata": {},
   "source": [
    "И да, готовые таблицы можно выгружать в LaTex:"
   ]
  },
  {
   "cell_type": "code",
   "execution_count": 10,
   "metadata": {},
   "outputs": [
    {
     "name": "stdout",
     "output_type": "stream",
     "text": [
      "\\begin{tabular}{lrrr}\n",
      "\\toprule\n",
      "{} &  Алмаз &  Матросик &  Снежный \\\\\n",
      "\\midrule\n",
      "Чернозёмная почва &     75 &        20 &       55 \\\\\n",
      "Каштановая почва  &     20 &       120 &       10 \\\\\n",
      "\\bottomrule\n",
      "\\end{tabular}\n",
      "\n"
     ]
    }
   ],
   "source": [
    "# код LaTeX\n",
    "# можно выставить настройки для границ столбцов в tabular\n",
    "# настройки для границ строк в \\toprule и \\bottomrule, см help\n",
    "\n",
    "print(tab.to_latex())"
   ]
  },
  {
   "cell_type": "markdown",
   "metadata": {},
   "source": [
    "И в Markdown тоже:"
   ]
  },
  {
   "cell_type": "code",
   "execution_count": 11,
   "metadata": {},
   "outputs": [
    {
     "name": "stdout",
     "output_type": "stream",
     "text": [
      "|                   |   Алмаз |   Матросик |   Снежный |\n",
      "|:------------------|--------:|-----------:|----------:|\n",
      "| Чернозёмная почва |      75 |         20 |        55 |\n",
      "| Каштановая почва  |      20 |        120 |        10 |\n"
     ]
    }
   ],
   "source": [
    "print(tab.to_markdown())"
   ]
  },
  {
   "cell_type": "markdown",
   "metadata": {},
   "source": [
    "И в HTML:"
   ]
  },
  {
   "cell_type": "code",
   "execution_count": 12,
   "metadata": {},
   "outputs": [
    {
     "name": "stdout",
     "output_type": "stream",
     "text": [
      "<table border=\"1\" class=\"dataframe\">\n",
      "  <thead>\n",
      "    <tr style=\"text-align: right;\">\n",
      "      <th></th>\n",
      "      <th>Алмаз</th>\n",
      "      <th>Матросик</th>\n",
      "      <th>Снежный</th>\n",
      "    </tr>\n",
      "  </thead>\n",
      "  <tbody>\n",
      "    <tr>\n",
      "      <th>Чернозёмная почва</th>\n",
      "      <td>75</td>\n",
      "      <td>20</td>\n",
      "      <td>55</td>\n",
      "    </tr>\n",
      "    <tr>\n",
      "      <th>Каштановая почва</th>\n",
      "      <td>20</td>\n",
      "      <td>120</td>\n",
      "      <td>10</td>\n",
      "    </tr>\n",
      "  </tbody>\n",
      "</table>\n"
     ]
    }
   ],
   "source": [
    "print(tab.to_html())"
   ]
  },
  {
   "cell_type": "markdown",
   "metadata": {},
   "source": [
    "Файл `c.xlsx` содержит данные о рейтингах видео-игр по данным Metacritic. Набор данных содержит следующие переменные:\n",
    "\n",
    "* `Name` – название игры.\n",
    "* `Platform` – платформа для запуска игры.\n",
    "* `Year_of_Release` – год запуска игры.\n",
    "* `Genre` – жанр игры.\n",
    "* `Publisher` – компания, выпустившая игру.\n",
    "* `NA_Sales` – продажи в Северной Америке (миллионы копий).\n",
    "* `EU_Sales` – продажи в Европейском Союзе (миллионы копий).\n",
    "* `JP_Sales` – продажи в Японии (миллионы копий).\n",
    "* `Other_Sales` – продажи в прочих странах (миллионы копий).\n",
    "* `Global_Sales` – общие продажи по миру (миллионы копий).\n",
    "* `Critic_Score` – агрегированный рейтинг команды Metacritic.\n",
    "* `Critic_Count` – количество экспертов, участвовавших в расчёте `Critic_Score`.\n",
    "* `User_Score` – агрегированный рейтинг пользователей Metacritic.\n",
    "* `User_Count` – количество пользователей, участвовавших в расчёте `User_Score`.\n",
    "* `Developer` – разработчик игры.\n",
    "* `Rating` – рейтинг ESRB (Everyone, Teen, Adults Only, ...)."
   ]
  },
  {
   "cell_type": "markdown",
   "metadata": {},
   "source": [
    "### Задача 3\n",
    "\n",
    "*Из независимого экзамена*\n",
    "\n",
    "Постройте диаграмму рассеяния для переменных `Critic_Score` (на горизонтальной оси) и `EU_Sales` (на вертикальной оси). Выберите все верные утверждения.\n",
    "\n",
    "Выберите один или несколько ответов:\n",
    "\n",
    "* Между переменными `Critic_Score` и `EU_Sales` существует сильная положительная линейная взаимосвязь.\n",
    "* Изменение переменной `Critic_Score` совершенно не влияет на изменение переменной `EU_Sales`.\n",
    "* Построенная диаграмма показывает, что в выборке, возможно, есть выбросы. \n",
    "* Между переменными `Critic_Score` и `EU_Sales` существует сильная отрицательная линейная взаимосвязь."
   ]
  },
  {
   "cell_type": "code",
   "execution_count": 13,
   "metadata": {},
   "outputs": [],
   "source": [
    "games = pd.read_excel(\"c.xlsx\")"
   ]
  },
  {
   "cell_type": "code",
   "execution_count": 14,
   "metadata": {},
   "outputs": [],
   "source": [
    "# тут достаточно простого варианта – без дополнительных настроек\n",
    "# функция scatter() из набора plot\n",
    "\n",
    "games.plot.scatter(x = \"Critic_Score\", y = \"EU_Sales\");"
   ]
  },
  {
   "cell_type": "markdown",
   "metadata": {},
   "source": [
    "Судя по графику, сильной связи точно не наблюдается, плюс, есть один выброс. Второй вариант *Построенная диаграмма показывает, что в выборке, возможно, есть выбросы.* подходит. Про полное отсутствие связи говорить не приходится – она все же есть, если выброс убрать, она будет более выраженной. Проверим:"
   ]
  },
  {
   "cell_type": "code",
   "execution_count": 15,
   "metadata": {},
   "outputs": [
    {
     "data": {
      "image/png": "[encoded data removed]",
      "text/plain": [
       "<Figure size 432x288 with 1 Axes>"
      ]
     },
     "metadata": {
      "needs_background": "light"
     },
     "output_type": "display_data"
    }
   ],
   "source": [
    "games_filt = games[games[\"EU_Sales\"] <= 25]\n",
    "games_filt.plot.scatter(x = \"Critic_Score\", y = \"EU_Sales\");"
   ]
  },
  {
   "cell_type": "markdown",
   "metadata": {},
   "source": [
    "### Задача 4\n",
    "\n",
    "*Из независимого экзамена*\n",
    "\n",
    "Выведите корреляционную матрицу для числовых переменных. Найдите переменную, которая имеет наибольшую по модулю корреляцию с переменной `EU_Sales` (не включая саму `EU_Sales`). В ответ выпишите модуль найденного значения корреляции."
   ]
  },
  {
   "cell_type": "code",
   "execution_count": 16,
   "metadata": {},
   "outputs": [
    {
     "data": {
      "text/html": [
       "<div>\n",
       "<style scoped>\n",
       "    .dataframe tbody tr th:only-of-type {\n",
       "        vertical-align: middle;\n",
       "    }\n",
       "\n",
       "    .dataframe tbody tr th {\n",
       "        vertical-align: top;\n",
       "    }\n",
       "\n",
       "    .dataframe thead th {\n",
       "        text-align: right;\n",
       "    }\n",
       "</style>\n",
       "<table border=\"1\" class=\"dataframe\">\n",
       "  <thead>\n",
       "    <tr style=\"text-align: right;\">\n",
       "      <th></th>\n",
       "      <th>Unnamed: 0</th>\n",
       "      <th>Year_of_Release</th>\n",
       "      <th>NA_Sales</th>\n",
       "      <th>EU_Sales</th>\n",
       "      <th>JP_Sales</th>\n",
       "      <th>Other_Sales</th>\n",
       "      <th>Global_Sales</th>\n",
       "      <th>Critic_Score</th>\n",
       "      <th>Critic_Count</th>\n",
       "      <th>User_Count</th>\n",
       "    </tr>\n",
       "  </thead>\n",
       "  <tbody>\n",
       "    <tr>\n",
       "      <th>Unnamed: 0</th>\n",
       "      <td>1.000000</td>\n",
       "      <td>0.186977</td>\n",
       "      <td>-0.401725</td>\n",
       "      <td>-0.377490</td>\n",
       "      <td>-0.268184</td>\n",
       "      <td>-0.332559</td>\n",
       "      <td>-0.427229</td>\n",
       "      <td>-0.364572</td>\n",
       "      <td>-0.424137</td>\n",
       "      <td>-0.187200</td>\n",
       "    </tr>\n",
       "    <tr>\n",
       "      <th>Year_of_Release</th>\n",
       "      <td>0.186977</td>\n",
       "      <td>1.000000</td>\n",
       "      <td>-0.092562</td>\n",
       "      <td>0.003842</td>\n",
       "      <td>-0.168386</td>\n",
       "      <td>0.037700</td>\n",
       "      <td>-0.076433</td>\n",
       "      <td>0.011411</td>\n",
       "      <td>0.223407</td>\n",
       "      <td>0.175339</td>\n",
       "    </tr>\n",
       "    <tr>\n",
       "      <th>NA_Sales</th>\n",
       "      <td>-0.401725</td>\n",
       "      <td>-0.092562</td>\n",
       "      <td>1.000000</td>\n",
       "      <td>0.765336</td>\n",
       "      <td>0.449598</td>\n",
       "      <td>0.638654</td>\n",
       "      <td>0.941010</td>\n",
       "      <td>0.240755</td>\n",
       "      <td>0.295413</td>\n",
       "      <td>0.246429</td>\n",
       "    </tr>\n",
       "    <tr>\n",
       "      <th>EU_Sales</th>\n",
       "      <td>-0.377490</td>\n",
       "      <td>0.003842</td>\n",
       "      <td>0.765336</td>\n",
       "      <td>1.000000</td>\n",
       "      <td>0.435068</td>\n",
       "      <td>0.722796</td>\n",
       "      <td>0.901239</td>\n",
       "      <td>0.220752</td>\n",
       "      <td>0.277533</td>\n",
       "      <td>0.283360</td>\n",
       "    </tr>\n",
       "    <tr>\n",
       "      <th>JP_Sales</th>\n",
       "      <td>-0.268184</td>\n",
       "      <td>-0.168386</td>\n",
       "      <td>0.449598</td>\n",
       "      <td>0.435068</td>\n",
       "      <td>1.000000</td>\n",
       "      <td>0.291096</td>\n",
       "      <td>0.612300</td>\n",
       "      <td>0.152593</td>\n",
       "      <td>0.180219</td>\n",
       "      <td>0.075638</td>\n",
       "    </tr>\n",
       "    <tr>\n",
       "      <th>Other_Sales</th>\n",
       "      <td>-0.332559</td>\n",
       "      <td>0.037700</td>\n",
       "      <td>0.638654</td>\n",
       "      <td>0.722796</td>\n",
       "      <td>0.291096</td>\n",
       "      <td>1.000000</td>\n",
       "      <td>0.749242</td>\n",
       "      <td>0.198554</td>\n",
       "      <td>0.251639</td>\n",
       "      <td>0.238982</td>\n",
       "    </tr>\n",
       "    <tr>\n",
       "      <th>Global_Sales</th>\n",
       "      <td>-0.427229</td>\n",
       "      <td>-0.076433</td>\n",
       "      <td>0.941010</td>\n",
       "      <td>0.901239</td>\n",
       "      <td>0.612300</td>\n",
       "      <td>0.749242</td>\n",
       "      <td>1.000000</td>\n",
       "      <td>0.245471</td>\n",
       "      <td>0.303571</td>\n",
       "      <td>0.265012</td>\n",
       "    </tr>\n",
       "    <tr>\n",
       "      <th>Critic_Score</th>\n",
       "      <td>-0.364572</td>\n",
       "      <td>0.011411</td>\n",
       "      <td>0.240755</td>\n",
       "      <td>0.220752</td>\n",
       "      <td>0.152593</td>\n",
       "      <td>0.198554</td>\n",
       "      <td>0.245471</td>\n",
       "      <td>1.000000</td>\n",
       "      <td>0.425504</td>\n",
       "      <td>0.264376</td>\n",
       "    </tr>\n",
       "    <tr>\n",
       "      <th>Critic_Count</th>\n",
       "      <td>-0.424137</td>\n",
       "      <td>0.223407</td>\n",
       "      <td>0.295413</td>\n",
       "      <td>0.277533</td>\n",
       "      <td>0.180219</td>\n",
       "      <td>0.251639</td>\n",
       "      <td>0.303571</td>\n",
       "      <td>0.425504</td>\n",
       "      <td>1.000000</td>\n",
       "      <td>0.362334</td>\n",
       "    </tr>\n",
       "    <tr>\n",
       "      <th>User_Count</th>\n",
       "      <td>-0.187200</td>\n",
       "      <td>0.175339</td>\n",
       "      <td>0.246429</td>\n",
       "      <td>0.283360</td>\n",
       "      <td>0.075638</td>\n",
       "      <td>0.238982</td>\n",
       "      <td>0.265012</td>\n",
       "      <td>0.264376</td>\n",
       "      <td>0.362334</td>\n",
       "      <td>1.000000</td>\n",
       "    </tr>\n",
       "  </tbody>\n",
       "</table>\n",
       "</div>"
      ],
      "text/plain": [
       "                 Unnamed: 0  Year_of_Release  NA_Sales  EU_Sales  JP_Sales  \\\n",
       "Unnamed: 0         1.000000         0.186977 -0.401725 -0.377490 -0.268184   \n",
       "Year_of_Release    0.186977         1.000000 -0.092562  0.003842 -0.168386   \n",
       "NA_Sales          -0.401725        -0.092562  1.000000  0.765336  0.449598   \n",
       "EU_Sales          -0.377490         0.003842  0.765336  1.000000  0.435068   \n",
       "JP_Sales          -0.268184        -0.168386  0.449598  0.435068  1.000000   \n",
       "Other_Sales       -0.332559         0.037700  0.638654  0.722796  0.291096   \n",
       "Global_Sales      -0.427229        -0.076433  0.941010  0.901239  0.612300   \n",
       "Critic_Score      -0.364572         0.011411  0.240755  0.220752  0.152593   \n",
       "Critic_Count      -0.424137         0.223407  0.295413  0.277533  0.180219   \n",
       "User_Count        -0.187200         0.175339  0.246429  0.283360  0.075638   \n",
       "\n",
       "                 Other_Sales  Global_Sales  Critic_Score  Critic_Count  \\\n",
       "Unnamed: 0         -0.332559     -0.427229     -0.364572     -0.424137   \n",
       "Year_of_Release     0.037700     -0.076433      0.011411      0.223407   \n",
       "NA_Sales            0.638654      0.941010      0.240755      0.295413   \n",
       "EU_Sales            0.722796      0.901239      0.220752      0.277533   \n",
       "JP_Sales            0.291096      0.612300      0.152593      0.180219   \n",
       "Other_Sales         1.000000      0.749242      0.198554      0.251639   \n",
       "Global_Sales        0.749242      1.000000      0.245471      0.303571   \n",
       "Critic_Score        0.198554      0.245471      1.000000      0.425504   \n",
       "Critic_Count        0.251639      0.303571      0.425504      1.000000   \n",
       "User_Count          0.238982      0.265012      0.264376      0.362334   \n",
       "\n",
       "                 User_Count  \n",
       "Unnamed: 0        -0.187200  \n",
       "Year_of_Release    0.175339  \n",
       "NA_Sales           0.246429  \n",
       "EU_Sales           0.283360  \n",
       "JP_Sales           0.075638  \n",
       "Other_Sales        0.238982  \n",
       "Global_Sales       0.265012  \n",
       "Critic_Score       0.264376  \n",
       "Critic_Count       0.362334  \n",
       "User_Count         1.000000  "
      ]
     },
     "execution_count": 16,
     "metadata": {},
     "output_type": "execute_result"
    }
   ],
   "source": [
    "# метод corr() в pandas\n",
    "# значимость не проверяет, но вычисляет коэффициенты Пирсона для всех пар числовых переменных\n",
    "\n",
    "games.corr()"
   ]
  },
  {
   "cell_type": "markdown",
   "metadata": {},
   "source": [
    "Находим строку или столбец `EU_Sales` (матрица симметричная) и смотрим, какой коэффицент самый большой: 0.90 (в задании в самом экзамене требуется два знака после запятой)."
   ]
  }
 ],
 "metadata": {
  "kernelspec": {
   "display_name": "Python 3",
   "language": "python",
   "name": "python3"
  },
  "language_info": {
   "codemirror_mode": {
    "name": "ipython",
    "version": 3
   },
   "file_extension": ".py",
   "mimetype": "text/x-python",
   "name": "python",
   "nbconvert_exporter": "python",
   "pygments_lexer": "ipython3",
   "version": "3.7.4"
  }
 },
 "nbformat": 4,
 "nbformat_minor": 2
}
